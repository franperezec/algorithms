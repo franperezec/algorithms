{
  "nbformat": 4,
  "nbformat_minor": 0,
  "metadata": {
    "colab": {
      "provenance": [],
      "authorship_tag": "ABX9TyNV+9NzUZC1Ih9K2h1F++Cp",
      "include_colab_link": true
    },
    "kernelspec": {
      "name": "python3",
      "display_name": "Python 3"
    },
    "language_info": {
      "name": "python"
    }
  },
  "cells": [
    {
      "cell_type": "markdown",
      "metadata": {
        "id": "view-in-github",
        "colab_type": "text"
      },
      "source": [
        "<a href=\"https://colab.research.google.com/github/franperezec/algorithms/blob/main/10EstructuraLogicaRepetitivaPara.ipynb\" target=\"_parent\"><img src=\"https://colab.research.google.com/assets/colab-badge.svg\" alt=\"Open In Colab\"/></a>"
      ]
    },
    {
      "cell_type": "markdown",
      "source": [
        "# **Estructura Lógica Repetitiva Para en Programación**"
      ],
      "metadata": {
        "id": "fzP8fc2DZI7-"
      }
    },
    {
      "cell_type": "markdown",
      "source": [
        "**Francisco Pérez M.**\n",
        "\n",
        "[francisco.perezxxi@gmail.com](mailto:francisco.perezxxi@gmail.com)\n",
        "\n",
        "🔔 *¡Suscríbete y activa las notificaciones para aprender más!*\n",
        "\n",
        "[Canal de YouTube - Data Science AI](https://www.youtube.com/@DataScienceAI/playlists)\n",
        "\n",
        "📚 *Recursos adicionales:*  \n",
        "📐 [GitHub con recursos](https://github.com/franperezec/algorithms)\n",
        "\n",
        "*Cómo citar este documento:*\n",
        "\n",
        "Pérez, F. (2024). *Estructura Lógica Repetitiva Para en Programación*. GitHub. URL: [https://github.com/franperezec/algorithms](https://github.com/franperezec/algorithms)"
      ],
      "metadata": {
        "id": "5zV1sq3J8s3I"
      }
    },
    {
      "cell_type": "markdown",
      "source": [
        "## **Introducción**\n",
        "\n",
        "La estructura lógica repetitiva \"Para\" (conocida como `for` en muchos lenguajes de programación) es una herramienta fundamental en programación que permite ejecutar un bloque de código un número específico de veces, controlado por un contador o índice."
      ],
      "metadata": {
        "id": "mQfiK6kuZrVf"
      }
    },
    {
      "cell_type": "markdown",
      "source": [
        "## **Concepto**\n",
        "\n",
        "> La estructura \"Para\" permite la ejecución repetitiva de un conjunto de instrucciones, comenzando con un valor inicial, terminando en un valor final, y ejecutando el conjunto de instrucciones con un incremento (o decremento) de una constante o variable.\n",
        "\n",
        "Características principales:\n",
        "- Se define un contador o índice con un valor inicial.\n",
        "- Se especifica un valor final o condición de parada.\n",
        "- Se define un incremento (o decremento) para el contador.\n",
        "- El bloque de código se ejecuta repetidamente mientras el contador no alcance el valor final."
      ],
      "metadata": {
        "id": "Df5MgTNzZ8-h"
      }
    },
    {
      "cell_type": "code",
      "source": [
        "# @title Estructura Lógica Repetitiva Para\n",
        "from IPython.display import IFrame, display\n",
        "\n",
        "file_id = \"12CAyArqdXEkvGZrdGsuPYhS4pjsV21z8\"\n",
        "drive_url = f\"https://drive.google.com/file/d/{file_id}/preview\"\n",
        "\n",
        "display(IFrame(src=drive_url, width=640, height=480))"
      ],
      "metadata": {
        "colab": {
          "base_uri": "https://localhost:8080/",
          "height": 502
        },
        "id": "WDxB_jxmaAwE",
        "outputId": "48b3b09b-6347-49e1-ea05-4f1e833a4763"
      },
      "execution_count": null,
      "outputs": [
        {
          "output_type": "display_data",
          "data": {
            "text/plain": [
              "<IPython.lib.display.IFrame at 0x7ff72df96080>"
            ],
            "text/html": [
              "\n",
              "        <iframe\n",
              "            width=\"640\"\n",
              "            height=\"480\"\n",
              "            src=\"https://drive.google.com/file/d/12CAyArqdXEkvGZrdGsuPYhS4pjsV21z8/preview\"\n",
              "            frameborder=\"0\"\n",
              "            allowfullscreen\n",
              "            \n",
              "        ></iframe>\n",
              "        "
            ]
          },
          "metadata": {}
        }
      ]
    },
    {
      "cell_type": "markdown",
      "source": [
        "## **Sintaxis general**\n",
        "\n",
        "La estructura general de \"Para\" es:\n",
        "\n",
        "```\n",
        "Para variable_control desde valor_inicial hasta valor_final con incremento hacer\n",
        "    Instrucción 1\n",
        "    Instrucción 2\n",
        "    ...\n",
        "    Instrucción n\n",
        "Fin Para\n",
        "```"
      ],
      "metadata": {
        "id": "zF1F3dt0bglo"
      }
    },
    {
      "cell_type": "markdown",
      "source": [
        "## **Implementación en PSeInt**\n",
        "\n",
        "En PSeInt, la estructura \"Para\" se implementa de la siguiente manera:\n",
        "\n",
        "```\n",
        "Algoritmo EjemploPara\n",
        "    Definir i Como Entero\n",
        "    \n",
        "    Para i <- 1 Hasta 5 Con Paso 1 Hacer\n",
        "        Escribir \"Iteración número: \", i\n",
        "    FinPara\n",
        "    \n",
        "    Escribir \"Fin del ciclo\"\n",
        "FinAlgoritmo\n",
        "```"
      ],
      "metadata": {
        "id": "5cg08gkV-LBf"
      }
    },
    {
      "cell_type": "code",
      "source": [
        "# @title Ejemplo de Estructura Lógica Repetitiva\n",
        "from IPython.display import IFrame, display\n",
        "\n",
        "file_id = \"1qa2SI8PPuvbbym-ORb3CDwoPwVpGSrVZ\"\n",
        "drive_url = f\"https://drive.google.com/file/d/{file_id}/preview\"\n",
        "\n",
        "display(IFrame(src=drive_url, width=500, height=500))"
      ],
      "metadata": {
        "colab": {
          "base_uri": "https://localhost:8080/",
          "height": 522
        },
        "id": "81vBY13weFFA",
        "outputId": "4193db72-b6d8-4da8-c8c8-ee3e2c2f0d83"
      },
      "execution_count": null,
      "outputs": [
        {
          "output_type": "display_data",
          "data": {
            "text/plain": [
              "<IPython.lib.display.IFrame at 0x7ff72df95ed0>"
            ],
            "text/html": [
              "\n",
              "        <iframe\n",
              "            width=\"500\"\n",
              "            height=\"500\"\n",
              "            src=\"https://drive.google.com/file/d/1qa2SI8PPuvbbym-ORb3CDwoPwVpGSrVZ/preview\"\n",
              "            frameborder=\"0\"\n",
              "            allowfullscreen\n",
              "            \n",
              "        ></iframe>\n",
              "        "
            ]
          },
          "metadata": {}
        }
      ]
    },
    {
      "cell_type": "markdown",
      "source": [
        "## Implementación en Python\n",
        "\n",
        "En Python, la estructura equivalente es el bucle `for`:"
      ],
      "metadata": {
        "id": "Q9sMuYOJeug0"
      }
    },
    {
      "cell_type": "code",
      "source": [
        "def ejemplo_para():\n",
        "    for i in range(1, 6):  # range(1, 6) genera números del 1 al 5\n",
        "        print(f\"Iteración número: {i}\")\n",
        "\n",
        "    print(\"Fin del ciclo\")\n",
        "\n",
        "# Llamamos a la función\n",
        "ejemplo_para()"
      ],
      "metadata": {
        "colab": {
          "base_uri": "https://localhost:8080/"
        },
        "id": "QQllRewZe2P0",
        "outputId": "073073a6-e4d4-431e-8de3-8bd4cb02ca38"
      },
      "execution_count": null,
      "outputs": [
        {
          "output_type": "stream",
          "name": "stdout",
          "text": [
            "Iteración número: 1\n",
            "Iteración número: 2\n",
            "Iteración número: 3\n",
            "Iteración número: 4\n",
            "Iteración número: 5\n",
            "Fin del ciclo\n"
          ]
        }
      ]
    },
    {
      "cell_type": "markdown",
      "source": [
        "## Usos Comunes del Ciclo Repetitivo `for`\n",
        "\n",
        "La estructura `for` es útil en muchos escenarios, incluyendo:\n",
        "\n",
        "1. **Generación de Secuencias de Números**:\n",
        "   La generación de una secuencia de números es una tarea común. Por ejemplo, generar una lista de números del 1 al 10.\n",
        "   ```python\n",
        "   for i in range(1, 11):\n",
        "       print(i)\n",
        "   ```\n",
        "\n",
        "2. **Cálculo de Sumatorias**:\n",
        "   El ciclo `for` es ideal para calcular sumatorias. Por ejemplo, la sumatoria de los cuadrados de los primeros `n` números:\n",
        "   $$\n",
        "   \\sum_{i=1}^{n} i^2\n",
        "  $$\n",
        "   ```python\n",
        "   suma = 0\n",
        "   for i in range(1, n+1):\n",
        "       suma += i**2\n",
        "   ```\n",
        "\n",
        "3. **Cálculo de Series**:\n",
        "   Utilizando un ciclo `for`, se pueden calcular series matemáticas, como la serie de Taylor para la función exponencial:\n",
        "   $$\n",
        "   e^x = \\sum_{i=0}^{\\infty} \\frac{x^i}{i!}\n",
        "   $$\n",
        "   ```python\n",
        "   import math\n",
        "   x = 1  # valor de x en e^x\n",
        "   n_terms = 10  # número de términos en la serie\n",
        "   e_x = 0\n",
        "   for i in range(n_terms):\n",
        "       e_x += x**i / math.factorial(i)\n",
        "   ```\n",
        "\n",
        "4. **Cálculo de Productorias**:\n",
        "   La productoria se puede calcular fácilmente con un ciclo `for`. Por ejemplo, el cálculo de `n!` (factorial de `n`):\n",
        "   $$\n",
        "   n! = \\prod_{i=1}^{n} i\n",
        "   $$\n",
        "   ```python\n",
        "   factorial = 1\n",
        "   for i in range(1, n+1):\n",
        "       factorial *= i\n",
        "   ```\n",
        "\n",
        "5. **Generación de Series y Sucesiones**:\n",
        "   Los ciclos `for` son útiles para generar series y sucesiones, como la sucesión de Fibonacci.\n",
        "   ```python\n",
        "   a, b = 0, 1\n",
        "   for _ in range(n):\n",
        "       print(a)\n",
        "       a, b = b, a + b\n",
        "   ```\n",
        "\n",
        "6. **Generación de Funciones Trigonométricas**:\n",
        "   Los ciclos `for` pueden usarse para calcular valores de funciones trigonométricas a partir de series. Por ejemplo, la aproximación de `sin(x)` usando la serie de Taylor:\n",
        "  $$\n",
        "   \\sin(x) = \\sum_{i=0}^{\\infty} (-1)^i \\frac{x^{2i+1}}{(2i+1)!}\n",
        " $$\n",
        "   ```python\n",
        "   import math\n",
        "   x = math.pi / 4  # valor de x en sin(x)\n",
        "   n_terms = 10  # número de términos en la serie\n",
        "   sin_x = 0\n",
        "   for i in range(n_terms):\n",
        "       sin_x += ((-1)**i) * (x**(2*i+1)) / math.factorial(2*i+1)\n",
        "   ```\n",
        "\n",
        "7. **Lectura Repetitiva de Datos**:\n",
        "   La lectura de datos de manera repetitiva es otro uso común del ciclo `for`. Por ejemplo, lectura de calificaciones de estudiantes:\n",
        "   ```python\n",
        "   calificaciones = []\n",
        "   for i in range(n):\n",
        "       calificacion = float(input(f\"Ingrese la calificación {i+1}: \"))\n",
        "       calificaciones.append(calificacion)\n",
        "   ```\n",
        "\n",
        "8. **Administración de Vectores y Matrices**:\n",
        "   Los ciclos `for` son esenciales para manipular y administrar vectores y matrices. Por ejemplo, para sumar dos matrices:\n",
        "   ```python\n",
        "   matriz_a = [[1, 2], [3, 4]]\n",
        "   matriz_b = [[5, 6], [7, 8]]\n",
        "   matriz_suma = []\n",
        "   for i in range(len(matriz_a)):\n",
        "       fila = []\n",
        "       for j in range(len(matriz_a[0])):\n",
        "           fila.append(matriz_a[i][j] + matriz_b[i][j])\n",
        "       matriz_suma.append(fila)\n",
        "   ```\n",
        "\n",
        "Estos son algunos ejemplos de cómo se puede utilizar la estructura `for` en Python para realizar tareas comunes y operaciones matemáticas. Cada uno de estos ejemplos destaca la versatilidad y el poder del ciclo repetitivo `for` en programación y matemáticas."
      ],
      "metadata": {
        "id": "182H8G7GfO7N"
      }
    },
    {
      "cell_type": "markdown",
      "source": [
        "## Ejemplo práctico: Serie de Fibonacci\n",
        "\n",
        "Vamos a implementar un algoritmo que genera la serie de Fibonacci y calcula su suma hasta un término n especificado por el usuario."
      ],
      "metadata": {
        "id": "qwIHsJQtCP2U"
      }
    },
    {
      "cell_type": "code",
      "source": [
        "# @title La serie de Fibonacci\n",
        "from IPython.display import IFrame, display\n",
        "\n",
        "file_id = \"1FFaipKFK1bcbGgg_wtwFAlMBTQeEYotk\"\n",
        "drive_url = f\"https://drive.google.com/file/d/{file_id}/preview\"\n",
        "\n",
        "display(IFrame(src=drive_url, width=680, height=420))"
      ],
      "metadata": {
        "colab": {
          "base_uri": "https://localhost:8080/",
          "height": 442
        },
        "cellView": "form",
        "id": "Dl2naFpDDMHH",
        "outputId": "a4add99c-2f69-4091-cb6f-156734b80dac"
      },
      "execution_count": null,
      "outputs": [
        {
          "output_type": "display_data",
          "data": {
            "text/plain": [
              "<IPython.lib.display.IFrame at 0x7ff72df96080>"
            ],
            "text/html": [
              "\n",
              "        <iframe\n",
              "            width=\"680\"\n",
              "            height=\"420\"\n",
              "            src=\"https://drive.google.com/file/d/1FFaipKFK1bcbGgg_wtwFAlMBTQeEYotk/preview\"\n",
              "            frameborder=\"0\"\n",
              "            allowfullscreen\n",
              "            \n",
              "        ></iframe>\n",
              "        "
            ]
          },
          "metadata": {}
        }
      ]
    },
    {
      "cell_type": "markdown",
      "source": [
        "### Implementación en PSeInt\n",
        "\n",
        "```\n",
        "Algoritmo SerieFibonacci\n",
        "    Definir n, primero, segundo, tercero, suma, i Como Entero\n",
        "    \n",
        "    Escribir \"Ingrese el número de términos de la serie de Fibonacci: \"\n",
        "    Leer n\n",
        "    \n",
        "    Si n <= 0 Entonces\n",
        "        Escribir \"El número debe ser un entero positivo\"\n",
        "    Sino\n",
        "        primero <- 1\n",
        "        segundo <- 1\n",
        "        suma <- 2\n",
        "        \n",
        "        Escribir \"Sucesión de Fibonacci\"\n",
        "        Escribir \"Término 1: \", primero\n",
        "        Escribir \"Término 2: \", segundo\n",
        "        \n",
        "        Para i <- 3 Hasta n Con Paso 1 Hacer\n",
        "            tercero <- primero + segundo\n",
        "            suma <- suma + tercero\n",
        "            Escribir \"Término \", i, \": \", tercero\n",
        "            primero <- segundo\n",
        "            segundo <- tercero\n",
        "        FinPara\n",
        "        \n",
        "        Escribir \"Suma de la serie: \", suma\n",
        "    FinSi\n",
        "FinAlgoritmo\n",
        "```"
      ],
      "metadata": {
        "id": "eUo4Q80SgY-R"
      }
    },
    {
      "cell_type": "code",
      "source": [
        "# @title Diagrama de Flujo Serie de Fibonacci\n",
        "from IPython.display import IFrame, display\n",
        "\n",
        "file_id = \"1eS9HX6eVLCU9DJkjmXiZ-tuwPoesVNx6\"\n",
        "drive_url = f\"https://drive.google.com/file/d/{file_id}/preview\"\n",
        "\n",
        "display(IFrame(src=drive_url, width=1000, height=480))"
      ],
      "metadata": {
        "colab": {
          "base_uri": "https://localhost:8080/",
          "height": 522
        },
        "id": "F9Cdjp3sg1dH",
        "outputId": "84c8799b-87fa-4b59-aee0-a5446c78f1dd"
      },
      "execution_count": null,
      "outputs": [
        {
          "output_type": "display_data",
          "data": {
            "text/plain": [
              "<IPython.lib.display.IFrame at 0x7ff72e006ce0>"
            ],
            "text/html": [
              "\n",
              "        <iframe\n",
              "            width=\"1000\"\n",
              "            height=\"480\"\n",
              "            src=\"https://drive.google.com/file/d/1eS9HX6eVLCU9DJkjmXiZ-tuwPoesVNx6/preview\"\n",
              "            frameborder=\"0\"\n",
              "            allowfullscreen\n",
              "            \n",
              "        ></iframe>\n",
              "        "
            ]
          },
          "metadata": {}
        }
      ]
    },
    {
      "cell_type": "markdown",
      "source": [
        "### **Implementación en Python**"
      ],
      "metadata": {
        "id": "12IXWkCUkEuI"
      }
    },
    {
      "cell_type": "code",
      "source": [
        "def serie_fibonacci():\n",
        "    n = int(input(\"Ingrese el número de términos de la serie de Fibonacci: \"))\n",
        "\n",
        "    if n <= 0:\n",
        "        print(\"El número debe ser un entero positivo\")\n",
        "    else:\n",
        "        primero, segundo = 1, 1\n",
        "        suma = 2\n",
        "\n",
        "        print(\"Sucesión de Fibonacci\")\n",
        "        print(f\"Término 1: {primero}\")\n",
        "        print(f\"Término 2: {segundo}\")\n",
        "\n",
        "        for i in range(3, n + 1):\n",
        "            tercero = primero + segundo\n",
        "            suma += tercero\n",
        "            print(f\"Término {i}: {tercero}\")\n",
        "            primero, segundo = segundo, tercero\n",
        "\n",
        "        print(f\"Suma de la serie: {suma}\")\n",
        "\n",
        "# Llamamos a la función\n",
        "serie_fibonacci()"
      ],
      "metadata": {
        "colab": {
          "base_uri": "https://localhost:8080/"
        },
        "id": "VGIY-a38kD2I",
        "outputId": "f8c59a4b-ea69-4f25-9b1d-0be69241e549"
      },
      "execution_count": null,
      "outputs": [
        {
          "output_type": "stream",
          "name": "stdout",
          "text": [
            "Ingrese el número de términos de la serie de Fibonacci: 10\n",
            "Sucesión de Fibonacci\n",
            "Término 1: 1\n",
            "Término 2: 1\n",
            "Término 3: 2\n",
            "Término 4: 3\n",
            "Término 5: 5\n",
            "Término 6: 8\n",
            "Término 7: 13\n",
            "Término 8: 21\n",
            "Término 9: 34\n",
            "Término 10: 55\n",
            "Suma de la serie: 143\n"
          ]
        }
      ]
    },
    {
      "cell_type": "markdown",
      "source": [
        "## **Conclusión**\n",
        "\n",
        "La estructura repetitiva \"Para\" es una herramienta poderosa y versátil en programación. Permite ejecutar bloques de código un número específico de veces de manera eficiente, lo que la hace ideal para una amplia gama de tareas, desde cálculos matemáticos hasta procesamiento de datos."
      ],
      "metadata": {
        "id": "6uJURqt6kcxY"
      }
    },
    {
      "cell_type": "markdown",
      "source": [
        "## **Licencias**\n",
        "\n",
        "Al utilizar este material, acepto cumplir con los términos de las licencias MIT y Creative Commons BY 4.0 respectivamente.\n",
        "\n",
        "Para más detalles sobre las licencias o usos adicionales, consultar:\n",
        "- Licencia MIT: https://opensource.org/licenses/MIT\n",
        "- CC BY 4.0: https://creativecommons.org/licenses/by/4.0/deed.es"
      ],
      "metadata": {
        "id": "jXUZhsF3867Q"
      }
    }
  ]
}