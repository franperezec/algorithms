{
  "nbformat": 4,
  "nbformat_minor": 0,
  "metadata": {
    "colab": {
      "provenance": [],
      "authorship_tag": "ABX9TyNS1ikBZGB3VZJ9HiUO5JbQ",
      "include_colab_link": true
    },
    "kernelspec": {
      "name": "python3",
      "display_name": "Python 3"
    },
    "language_info": {
      "name": "python"
    }
  },
  "cells": [
    {
      "cell_type": "markdown",
      "metadata": {
        "id": "view-in-github",
        "colab_type": "text"
      },
      "source": [
        "<a href=\"https://colab.research.google.com/github/franperezec/algorithms/blob/main/CostoRemodelaci%C3%B3n.ipynb\" target=\"_parent\"><img src=\"https://colab.research.google.com/assets/colab-badge.svg\" alt=\"Open In Colab\"/></a>"
      ]
    },
    {
      "cell_type": "markdown",
      "source": [
        "# **Problema: Cálculo Costo de Baldosas para un Piso**\n"
      ],
      "metadata": {
        "id": "DbL2tLgmD8zz"
      }
    },
    {
      "cell_type": "markdown",
      "source": [
        "**Francisco Pérez M.**\n",
        "\n",
        "[francisco.perezxxi@gmail.com](mailto:francisco.perezxxi@gmail.com)\n",
        "\n",
        "🔔 *¡Suscríbete y activa las notificaciones para aprender más!*\n",
        "\n",
        "[Canal de YouTube - Data Science AI](https://www.youtube.com/@DataScienceAI/playlists)\n",
        "\n",
        "📚 *Recursos adicionales:*  \n",
        "📐 [GitHub con recursos](https://github.com/franperezec/algorithms)\n",
        "\n",
        "*Cómo citar este documento:*\n",
        "\n",
        "Pérez, F. (2024). *Cálculo Costo de Baldosas para un Piso*. GitHub. URL: [https://github.com/franperezec/algorithms](https://github.com/franperezec/algorithms)"
      ],
      "metadata": {
        "id": "0AlY0Njts-pN"
      }
    },
    {
      "cell_type": "markdown",
      "source": [
        "\n",
        "## Descripción del Problema\n",
        "\n",
        "Una empresa de construcción necesita un programa para calcular el número de baldosas necesarias para cubrir un piso rectangular y el costo total de las mismas. El programa debe:\n",
        "\n",
        "1. Solicitar al usuario el largo y ancho del piso en metros.\n",
        "2. Calcular el área del piso.\n",
        "3. Calcular el número de baldosas necesarias, sabiendo que cada baldosa cubre un área de 30 centímetros cuadrados (0.003 metros cuadrados).\n",
        "4. Calcular el costo total, sabiendo que cada baldosa cuesta 3.5 USD.\n",
        "5. Mostrar el área del piso, el número de baldosas necesarias y el costo total.\n",
        "\n",
        "## Tarea 1: Desarrollar el Pseudocódigo\n",
        "\n",
        "Antes de escribir el código, desarrolla un pseudocódigo que describa los pasos para resolver este problema. Tu pseudocódigo debe incluir la entrada de datos, los cálculos necesarios y la salida de resultados.\n",
        "\n",
        "## Tarea 2: Implementar la Solución en Python\n",
        "\n",
        "Una vez que hayas desarrollado el pseudocódigo, implementa la solución en Python. Tu programa debe seguir los pasos descritos en el problema y producir una salida clara y fácil de entender para el usuario.\n",
        "\n",
        "## Solución\n",
        "\n",
        "Aquí tienes el pseudocódigo y el código Python como referencia. Intenta resolver el problema por tu cuenta antes de mirar la solución.\n",
        "\n",
        "### Pseudocódigo\n",
        "\n",
        "```\n",
        "Inicio\n",
        "    Escribir \"Ingrese el largo en metros\"\n",
        "    Leer largo\n",
        "    Escribir \"Ingrese el ancho en metros\"\n",
        "    Leer ancho\n",
        "    \n",
        "    Calcular area = largo * ancho\n",
        "    Calcular numero_baldosas = area / 0.003\n",
        "    Calcular costo_total = numero_baldosas * 3.5\n",
        "    \n",
        "    Escribir \"El área es:\", area, \"metros cuadrados\"\n",
        "    Escribir \"El número de baldosas a utilizar es:\", numero_baldosas\n",
        "    Escribir \"El costo total es:\", costo_total, \"USD\"\n",
        "    Escribir \"Agradecemos que haya hecho uso de nuestro programa.\"\n",
        "Fin\n",
        "```"
      ],
      "metadata": {
        "id": "IG27bDHxtGgL"
      }
    },
    {
      "cell_type": "markdown",
      "source": [
        "### Pseudocódigo en PSeInt"
      ],
      "metadata": {
        "id": "cqITXtFbv99v"
      }
    },
    {
      "cell_type": "markdown",
      "source": [
        "```\n",
        "Algoritmo calcular_costo_baldosas\n",
        "    Definir largo, ancho, area, numero_baldosas, costo_total Como Real\n",
        "\n",
        "    Escribir \"Ingrese el largo en metros\"\n",
        "    Leer largo\n",
        "    Escribir \"Ingrese el ancho en metros\"\n",
        "    Leer ancho\n",
        "\n",
        "    area = largo * ancho\n",
        "    numero_baldosas = area / 0.003\n",
        "    costo_total = numero_baldosas * 3.5\n",
        "\n",
        "    Escribir \"El área es: \", area, \" metros cuadrados\"\n",
        "    Escribir \"El número de baldosas a utilizar es: \", numero_baldosas\n",
        "    Escribir \"El costo total es: \", costo_total, \" USD\"\n",
        "    Escribir \"Agradecemos que haya hecho uso de nuestro programa.\"\n",
        "FinAlgoritmo\n",
        "```"
      ],
      "metadata": {
        "id": "fGwhu5QqwFlC"
      }
    },
    {
      "cell_type": "code",
      "source": [
        "# @title Diagrama de Flujo\n",
        "from IPython.display import IFrame, display\n",
        "\n",
        "file_id = \"1fZlQQYe52XmsjP9t9qgld5KjmOz3Cdol\"\n",
        "drive_url = f\"https://drive.google.com/file/d/{file_id}/preview\"\n",
        "\n",
        "display(IFrame(src=drive_url, width=600, height=629))"
      ],
      "metadata": {
        "colab": {
          "base_uri": "https://localhost:8080/",
          "height": 650
        },
        "id": "qoqedVu6xFHy",
        "outputId": "54ebb871-06f4-448e-b89a-33ca2bd1405e"
      },
      "execution_count": null,
      "outputs": [
        {
          "output_type": "display_data",
          "data": {
            "text/plain": [
              "<IPython.lib.display.IFrame at 0x790988d9f7f0>"
            ],
            "text/html": [
              "\n",
              "        <iframe\n",
              "            width=\"600\"\n",
              "            height=\"629\"\n",
              "            src=\"https://drive.google.com/file/d/1fZlQQYe52XmsjP9t9qgld5KjmOz3Cdol/preview\"\n",
              "            frameborder=\"0\"\n",
              "            allowfullscreen\n",
              "            \n",
              "        ></iframe>\n",
              "        "
            ]
          },
          "metadata": {}
        }
      ]
    },
    {
      "cell_type": "markdown",
      "source": [
        "\n",
        "### Código Python"
      ],
      "metadata": {
        "id": "gdkBvmXttOIx"
      }
    },
    {
      "cell_type": "code",
      "execution_count": null,
      "metadata": {
        "colab": {
          "base_uri": "https://localhost:8080/"
        },
        "id": "abdK9Sf0D14Q",
        "outputId": "3ae78d78-e8c1-46f1-89c4-b82d429369ff"
      },
      "outputs": [
        {
          "output_type": "stream",
          "name": "stdout",
          "text": [
            "Ingrese el largo en metros\n",
            "2\n",
            "Ingrese el ancho en metros\n",
            "57\n",
            "El área es: 114.0 metros cuadrados\n",
            "El número de baldosas a utilizar es: 38000.0\n",
            "El costo total es: 133000.0 USD\n",
            "Agradecemos que haya hecho uso de nuestro programa.\n"
          ]
        }
      ],
      "source": [
        "print(\"Ingrese el largo en metros\")\n",
        "largo = float(input())\n",
        "print(\"Ingrese el ancho en metros\")\n",
        "ancho = float(input())\n",
        "\n",
        "area = largo * ancho\n",
        "numero_baldosas = area / 0.003\n",
        "costo_total = numero_baldosas * 3.5\n",
        "\n",
        "print(\"El área es:\", area, \"metros cuadrados\")\n",
        "print(\"El número de baldosas a utilizar es:\", numero_baldosas)\n",
        "print(\"El costo total es:\", costo_total, \"USD\")\n",
        "print(\"Agradecemos que haya hecho uso de nuestro programa.\")"
      ]
    },
    {
      "cell_type": "markdown",
      "source": [
        "## **Licencias**\n",
        "\n",
        "Al utilizar este material, acepto cumplir con los términos de las licencias MIT y Creative Commons BY 4.0 respectivamente.\n",
        "\n",
        "Para más detalles sobre las licencias o usos adicionales, consultar:\n",
        "- Licencia MIT: https://opensource.org/licenses/MIT\n",
        "- CC BY 4.0: https://creativecommons.org/licenses/by/4.0/deed.es"
      ],
      "metadata": {
        "id": "jXUZhsF3867Q"
      }
    }
  ]
}