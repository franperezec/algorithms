{
  "nbformat": 4,
  "nbformat_minor": 0,
  "metadata": {
    "colab": {
      "provenance": [],
      "authorship_tag": "ABX9TyOm4jbqYqU5XexOw40DE5tU",
      "include_colab_link": true
    },
    "kernelspec": {
      "name": "python3",
      "display_name": "Python 3"
    },
    "language_info": {
      "name": "python"
    }
  },
  "cells": [
    {
      "cell_type": "markdown",
      "metadata": {
        "id": "view-in-github",
        "colab_type": "text"
      },
      "source": [
        "<a href=\"https://colab.research.google.com/github/franperezec/algorithms/blob/main/14ArreglosBidimensionalesMatrices.ipynb\" target=\"_parent\"><img src=\"https://colab.research.google.com/assets/colab-badge.svg\" alt=\"Open In Colab\"/></a>"
      ]
    },
    {
      "cell_type": "markdown",
      "source": [
        "# **Arreglos Bidimensionales (Matrices) en Programación**"
      ],
      "metadata": {
        "id": "fzP8fc2DZI7-"
      }
    },
    {
      "cell_type": "markdown",
      "source": [
        "**Francisco Pérez M.**\n",
        "\n",
        "[francisco.perezxxi@gmail.com](mailto:francisco.perezxxi@gmail.com)\n",
        "\n",
        "🔔 *¡Suscríbete y activa las notificaciones para aprender más!*\n",
        "\n",
        "[Canal de YouTube - Data Science AI](https://www.youtube.com/@DataScienceAI/playlists)\n",
        "\n",
        "📚 *Recursos adicionales:*  \n",
        "📐 [GitHub con recursos](https://github.com/franperezec/algorithms)\n",
        "\n",
        "*Cómo citar este documento:*\n",
        "\n",
        "Pérez, F. (2024). *Arreglos Bidimensionales (Matrices) en Programación*. GitHub. URL: [https://github.com/franperezec/algorithms](https://github.com/franperezec/algorithms)"
      ],
      "metadata": {
        "id": "5zV1sq3J8s3I"
      }
    },
    {
      "cell_type": "markdown",
      "source": [
        "## **Introducción**\n",
        "\n",
        "Los arreglos unidimensionales, también conocidos como vectores, son estructuras de datos que permiten almacenar y manipular colecciones de elementos del mismo tipo."
      ],
      "metadata": {
        "id": "mQfiK6kuZrVf"
      }
    },
    {
      "cell_type": "markdown",
      "source": [
        "## **Concepto de arreglo bidimensional**\n",
        "\n",
        "Un arreglo bidimensional es un conjunto de elementos de la misma especie contenidos en una estructura que se puede visualizar como una tabla con filas y columnas. Cada elemento se identifica por dos índices: uno para la fila y otro para la columna.\n",
        "\n",
        "## Elementos de un arreglo bidimensional\n",
        "\n",
        "Un arreglo bidimensional está compuesto por los siguientes elementos:\n",
        "\n",
        "1. **Nombre del arreglo**: Identifica la estructura de datos.\n",
        "2. **Primer subíndice**: Direcciona los vectores filas o líneas.\n",
        "3. **Segundo subíndice**: Direcciona los vectores columnas.\n",
        "4. **Intersección fila-columna**: Genera el espacio de almacenamiento para cada elemento.\n",
        "5. **Informaciones contenidas**: Los datos almacenados en cada intersección fila-columna.\n",
        "6. **Dimensión del arreglo**: Espacio de almacenamiento definido por el número de filas y columnas.\n",
        "\n",
        "## Representación esquemática\n",
        "\n",
        "La matriz $ B $ de dimensiones 3 x 3 puede ser visualizada de la siguiente manera:\n",
        "\n",
        "$$\n",
        "B = \\begin{bmatrix}\n",
        "b_{11} & b_{12} & b_{13} \\\\\n",
        "b_{21} & b_{22} & b_{23} \\\\\n",
        "b_{31} & b_{32} & b_{33} \\\\\n",
        "\\end{bmatrix}\n",
        "$$\n",
        "\n",
        "En este esquema:\n",
        "- $ B $ es el nombre del arreglo bidimensional.\n",
        "- Los subíndices $ i $ y $ j $ representan el índice de las filas y columnas respectivamente.\n",
        "- $ b_{ij} $ representa el elemento en la fila $ i $ y columna $ j $.\n",
        "\n",
        "\n",
        "## Acceso a los elementos de la matriz\n",
        "\n",
        "Para acceder a un elemento específico de la matriz, se utiliza el nombre de la matriz seguido de dos subíndices entre corchetes. Por ejemplo:\n",
        "\n",
        "- $B[1,1] = b_{11}$: El elemento en la primera fila y primera columna.\n",
        "- $B[2,3] = b_{23}$: El elemento en la segunda fila y tercera columna."
      ],
      "metadata": {
        "id": "Df5MgTNzZ8-h"
      }
    },
    {
      "cell_type": "markdown",
      "source": [
        "## **Implementación en PSeInt**\n",
        "\n",
        "En PSeInt, las matrices se pueden implementar de la siguiente manera:\n",
        "\n",
        "```\n",
        "Algoritmo EjemploMatriz\n",
        "    Dimension B[3,3]\n",
        "    Definir i, j Como Entero\n",
        "    \n",
        "    Para i <- 1 Hasta 3 Con Paso 1 Hacer\n",
        "        Para j <- 1 Hasta 3 Con Paso 1 Hacer\n",
        "            B[i,j] <- i * 10 + j\n",
        "        FinPara\n",
        "    FinPara\n",
        "    \n",
        "    Para i <- 1 Hasta 3 Con Paso 1 Hacer\n",
        "        Para j <- 1 Hasta 3 Con Paso 1 Hacer\n",
        "            Escribir Sin Saltar B[i,j], \" \"\n",
        "        FinPara\n",
        "        Escribir \"\"\n",
        "    FinPara\n",
        "FinAlgoritmo\n",
        "```"
      ],
      "metadata": {
        "id": "5cg08gkV-LBf"
      }
    },
    {
      "cell_type": "code",
      "source": [
        "# @title Diagrama de Flujo Matriz\n",
        "from IPython.display import IFrame, display\n",
        "\n",
        "file_id = \"1111xoFPXHdeJpyQBltKJgun3iz84WlN4\"\n",
        "drive_url = f\"https://drive.google.com/file/d/{file_id}/preview\"\n",
        "\n",
        "display(IFrame(src=drive_url, width=640, height=480))"
      ],
      "metadata": {
        "colab": {
          "base_uri": "https://localhost:8080/",
          "height": 502
        },
        "id": "dsEq8edxLukY",
        "outputId": "116a0f72-0c8d-4500-c2df-9d8a3319c545"
      },
      "execution_count": null,
      "outputs": [
        {
          "output_type": "display_data",
          "data": {
            "text/plain": [
              "<IPython.lib.display.IFrame at 0x7c35d1fa5ed0>"
            ],
            "text/html": [
              "\n",
              "        <iframe\n",
              "            width=\"640\"\n",
              "            height=\"480\"\n",
              "            src=\"https://drive.google.com/file/d/1111xoFPXHdeJpyQBltKJgun3iz84WlN4/preview\"\n",
              "            frameborder=\"0\"\n",
              "            allowfullscreen\n",
              "            \n",
              "        ></iframe>\n",
              "        "
            ]
          },
          "metadata": {}
        }
      ]
    },
    {
      "cell_type": "markdown",
      "source": [
        "## Implementación en Python\n",
        "\n",
        "En Python, las matrices se implementan como listas de listas:"
      ],
      "metadata": {
        "id": "Q9sMuYOJeug0"
      }
    },
    {
      "cell_type": "code",
      "source": [
        "def ejemplo_matriz():\n",
        "    B = [[i * 10 + j for j in range(1, 4)] for i in range(1, 4)]\n",
        "\n",
        "    for fila in B:\n",
        "        for elemento in fila:\n",
        "            print(f\"{elemento:2d}\", end=\" \")\n",
        "        print()\n",
        "\n",
        "# Llamamos a la función\n",
        "ejemplo_matriz()"
      ],
      "metadata": {
        "colab": {
          "base_uri": "https://localhost:8080/"
        },
        "id": "QQllRewZe2P0",
        "outputId": "3432b7a3-7b11-464f-809c-d7fced4fde88"
      },
      "execution_count": null,
      "outputs": [
        {
          "output_type": "stream",
          "name": "stdout",
          "text": [
            "11 12 13 \n",
            "21 22 23 \n",
            "31 32 33 \n"
          ]
        }
      ]
    },
    {
      "cell_type": "markdown",
      "source": [
        "## Ejemplo práctico: Lectura y escritura de elementos de una matriz\n",
        "\n",
        "Vamos a implementar un algoritmo que lea los elementos de una matriz por columnas y los imprima por filas."
      ],
      "metadata": {
        "id": "w2GaRtEwYlga"
      }
    },
    {
      "cell_type": "markdown",
      "source": [
        "### Implementación en PSeInt\n",
        "\n",
        "```\n",
        "Algoritmo LecturaEscrituraMatriz\n",
        "    Definir k, i, j Como Entero\n",
        "    Dimension A[50,50]\n",
        "    \n",
        "    Escribir \"Ingrese el tamaño de la matriz cuadrada (máximo 50): \"\n",
        "    Leer k\n",
        "    \n",
        "    // Lectura por columnas\n",
        "    Para j <- 1 Hasta k Con Paso 1 Hacer\n",
        "        Para i <- 1 Hasta k Con Paso 1 Hacer\n",
        "            Escribir \"Ingrese el elemento [\", i, \",\", j, \"]: \"\n",
        "            Leer A[i,j]\n",
        "        FinPara\n",
        "    FinPara\n",
        "    \n",
        "    // Escritura por filas\n",
        "    Escribir \"Matriz ingresada:\"\n",
        "    Para i <- 1 Hasta k Con Paso 1 Hacer\n",
        "        Para j <- 1 Hasta k Con Paso 1 Hacer\n",
        "            Escribir Sin Saltar A[i,j], \" \"\n",
        "        FinPara\n",
        "        Escribir \"\"\n",
        "    FinPara\n",
        "FinAlgoritmo\n",
        "```"
      ],
      "metadata": {
        "id": "eUo4Q80SgY-R"
      }
    },
    {
      "cell_type": "code",
      "source": [
        "# @title Diagrama de Flujo Imprimir Matriz\n",
        "from IPython.display import IFrame, display\n",
        "\n",
        "file_id = \"1_9KgwVA5cK1Geo_enIr7dUHxmkQsOb9d\"\n",
        "drive_url = f\"https://drive.google.com/file/d/{file_id}/preview\"\n",
        "\n",
        "display(IFrame(src=drive_url, width=1000, height=480))"
      ],
      "metadata": {
        "colab": {
          "base_uri": "https://localhost:8080/",
          "height": 522
        },
        "id": "F9Cdjp3sg1dH",
        "outputId": "1d909622-adf5-46f7-bd6a-9cc9a4250c98"
      },
      "execution_count": null,
      "outputs": [
        {
          "output_type": "display_data",
          "data": {
            "text/plain": [
              "<IPython.lib.display.IFrame at 0x7c35d1fa7220>"
            ],
            "text/html": [
              "\n",
              "        <iframe\n",
              "            width=\"1000\"\n",
              "            height=\"480\"\n",
              "            src=\"https://drive.google.com/file/d/1_9KgwVA5cK1Geo_enIr7dUHxmkQsOb9d/preview\"\n",
              "            frameborder=\"0\"\n",
              "            allowfullscreen\n",
              "            \n",
              "        ></iframe>\n",
              "        "
            ]
          },
          "metadata": {}
        }
      ]
    },
    {
      "cell_type": "markdown",
      "source": [
        "### **Implementación en Python**"
      ],
      "metadata": {
        "id": "12IXWkCUkEuI"
      }
    },
    {
      "cell_type": "code",
      "source": [
        "def lectura_escritura_matriz():\n",
        "    k = int(input(\"Ingrese el tamaño de la matriz cuadrada: \"))\n",
        "    A = [[0 for _ in range(k)] for _ in range(k)]\n",
        "\n",
        "    # Lectura por columnas\n",
        "    for j in range(k):\n",
        "        for i in range(k):\n",
        "            A[i][j] = int(input(f\"Ingrese el elemento [{i+1},{j+1}]: \"))\n",
        "\n",
        "    # Escritura por filas\n",
        "    print(\"Matriz ingresada:\")\n",
        "    for i in range(k):\n",
        "        for j in range(k):\n",
        "            print(f\"{A[i][j]:2d}\", end=\" \")\n",
        "        print()\n",
        "\n",
        "# Llamamos a la función\n",
        "lectura_escritura_matriz()"
      ],
      "metadata": {
        "colab": {
          "base_uri": "https://localhost:8080/"
        },
        "id": "TnlrMbEH6J_D",
        "outputId": "b3a84bec-3096-40cc-83b0-9c4655faf7a1"
      },
      "execution_count": null,
      "outputs": [
        {
          "output_type": "stream",
          "name": "stdout",
          "text": [
            "Ingrese el tamaño de la matriz cuadrada: 2\n",
            "Ingrese el elemento [1,1]: 1\n",
            "Ingrese el elemento [2,1]: 2\n",
            "Ingrese el elemento [1,2]: 3\n",
            "Ingrese el elemento [2,2]: 4\n",
            "Matriz ingresada:\n",
            " 1  3 \n",
            " 2  4 \n"
          ]
        }
      ]
    },
    {
      "cell_type": "markdown",
      "source": [
        "## **Conclusión**\n",
        "\n",
        "Los arreglos bidimensionales o matrices son estructuras de datos que permiten almacenar y manipular colecciones de elementos organizados en dos dimensiones. Su uso va desde la representación de datos tabulares hasta operaciones matemáticas de álgebra lineal.\n"
      ],
      "metadata": {
        "id": "6uJURqt6kcxY"
      }
    },
    {
      "cell_type": "markdown",
      "source": [
        "## Ejercicios propuestos\n",
        "\n",
        "1. Crea un programa que calcule la suma de todos los elementos de una matriz.\n",
        "2. Implementa un algoritmo que encuentre el elemento más grande y el más pequeño en una matriz.\n",
        "3. Desarrolla un programa que calcule la transpuesta de una matriz."
      ],
      "metadata": {
        "id": "7JA1T61GNbyk"
      }
    },
    {
      "cell_type": "markdown",
      "source": [
        "### 1. Programa que calcula la suma de todos los elementos de una matriz"
      ],
      "metadata": {
        "id": "g3sU7Hx9N_Du"
      }
    },
    {
      "cell_type": "code",
      "source": [
        "def suma_elementos_matriz():\n",
        "    filas = int(input(\"Ingrese el número de filas de la matriz: \"))\n",
        "    columnas = int(input(\"Ingrese el número de columnas de la matriz: \"))\n",
        "    matriz = []\n",
        "\n",
        "    for i in range(filas):\n",
        "        fila = []\n",
        "        for j in range(columnas):\n",
        "            elemento = int(input(f\"Ingrese el elemento en la posición [{i+1},{j+1}]: \"))\n",
        "            fila.append(elemento)\n",
        "        matriz.append(fila)\n",
        "\n",
        "    suma_total = sum(sum(fila) for fila in matriz)\n",
        "    print(\"La suma de todos los elementos de la matriz es:\", suma_total)\n",
        "\n",
        "# Llamar a la función\n",
        "suma_elementos_matriz()"
      ],
      "metadata": {
        "colab": {
          "base_uri": "https://localhost:8080/"
        },
        "id": "7ypIbNtrZovP",
        "outputId": "8e582ccf-5795-4fc5-bec7-788b102cdbad"
      },
      "execution_count": null,
      "outputs": [
        {
          "output_type": "stream",
          "name": "stdout",
          "text": [
            "Ingrese el número de filas de la matriz: 1\n",
            "Ingrese el número de columnas de la matriz: 2\n",
            "Ingrese el elemento en la posición [1,1]: 1\n",
            "Ingrese el elemento en la posición [1,2]: 2\n",
            "La suma de todos los elementos de la matriz es: 3\n"
          ]
        }
      ]
    },
    {
      "cell_type": "markdown",
      "source": [
        "### 2. Algoritmo que encuentra el elemento más grande y el más pequeño en una matriz\n"
      ],
      "metadata": {
        "id": "Rv0eV8YjZwOu"
      }
    },
    {
      "cell_type": "code",
      "source": [
        "def min_max_matriz():\n",
        "    filas = int(input(\"Ingrese el número de filas de la matriz: \"))\n",
        "    columnas = int(input(\"Ingrese el número de columnas de la matriz: \"))\n",
        "    matriz = []\n",
        "\n",
        "    for i in range(filas):\n",
        "        fila = []\n",
        "        for j in range(columnas):\n",
        "            elemento = int(input(f\"Ingrese el elemento en la posición [{i+1},{j+1}]: \"))\n",
        "            fila.append(elemento)\n",
        "        matriz.append(fila)\n",
        "\n",
        "    minimo = min(min(fila) for fila in matriz)\n",
        "    maximo = max(max(fila) for fila in matriz)\n",
        "    print(\"El elemento más pequeño de la matriz es:\", minimo)\n",
        "    print(\"El elemento más grande de la matriz es:\", maximo)\n",
        "\n",
        "# Llamar a la función\n",
        "min_max_matriz()\n"
      ],
      "metadata": {
        "colab": {
          "base_uri": "https://localhost:8080/"
        },
        "id": "2nnklUxQZ1eE",
        "outputId": "19d77732-b3ca-4884-d05d-54537f76af1c"
      },
      "execution_count": null,
      "outputs": [
        {
          "output_type": "stream",
          "name": "stdout",
          "text": [
            "Ingrese el número de filas de la matriz: 2\n",
            "Ingrese el número de columnas de la matriz: 2\n",
            "Ingrese el elemento en la posición [1,1]: 1\n",
            "Ingrese el elemento en la posición [1,2]: 2\n",
            "Ingrese el elemento en la posición [2,1]: 3\n",
            "Ingrese el elemento en la posición [2,2]: 4\n",
            "El elemento más pequeño de la matriz es: 1\n",
            "El elemento más grande de la matriz es: 4\n"
          ]
        }
      ]
    },
    {
      "cell_type": "markdown",
      "source": [
        "### 3. Programa que calcula la transpuesta de una matriz"
      ],
      "metadata": {
        "id": "FNb9az1JZzzs"
      }
    },
    {
      "cell_type": "code",
      "source": [
        "def transpuesta_matriz():\n",
        "    filas = int(input(\"Ingrese el número de filas de la matriz: \"))\n",
        "    columnas = int(input(\"Ingrese el número de columnas de la matriz: \"))\n",
        "    matriz = []\n",
        "\n",
        "    for i in range(filas):\n",
        "        fila = []\n",
        "        for j in range(columnas):\n",
        "            elemento = int(input(f\"Ingrese el elemento en la posición [{i+1},{j+1}]: \"))\n",
        "            fila.append(elemento)\n",
        "        matriz.append(fila)\n",
        "\n",
        "    transpuesta = [[matriz[j][i] for j in range(filas)] for i in range(columnas)]\n",
        "\n",
        "    print(\"Matriz original:\")\n",
        "    for fila in matriz:\n",
        "        print(\" \".join(map(str, fila)))\n",
        "\n",
        "    print(\"Matriz transpuesta:\")\n",
        "    for fila in transpuesta:\n",
        "        print(\" \".join(map(str, fila)))\n",
        "\n",
        "# Llamar a la función\n",
        "transpuesta_matriz()"
      ],
      "metadata": {
        "colab": {
          "base_uri": "https://localhost:8080/"
        },
        "id": "_FinOtm8aBFc",
        "outputId": "d51310d6-043e-4427-8f15-c0a79a916298"
      },
      "execution_count": null,
      "outputs": [
        {
          "output_type": "stream",
          "name": "stdout",
          "text": [
            "Ingrese el número de filas de la matriz: 2\n",
            "Ingrese el número de columnas de la matriz: 2\n",
            "Ingrese el elemento en la posición [1,1]: 1\n",
            "Ingrese el elemento en la posición [1,2]: 1\n",
            "Ingrese el elemento en la posición [2,1]: 4\n",
            "Ingrese el elemento en la posición [2,2]: 4\n",
            "Matriz original:\n",
            "1 1\n",
            "4 4\n",
            "Matriz transpuesta:\n",
            "1 4\n",
            "1 4\n"
          ]
        }
      ]
    },
    {
      "cell_type": "markdown",
      "source": [
        "## **Licencias**\n",
        "\n",
        "Al utilizar este material, acepto cumplir con los términos de las licencias MIT y Creative Commons BY 4.0 respectivamente.\n",
        "\n",
        "Para más detalles sobre las licencias o usos adicionales, consultar:\n",
        "- Licencia MIT: https://opensource.org/licenses/MIT\n",
        "- CC BY 4.0: https://creativecommons.org/licenses/by/4.0/deed.es"
      ],
      "metadata": {
        "id": "jXUZhsF3867Q"
      }
    }
  ]
}