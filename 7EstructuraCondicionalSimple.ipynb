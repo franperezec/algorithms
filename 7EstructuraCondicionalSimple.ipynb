{
  "nbformat": 4,
  "nbformat_minor": 0,
  "metadata": {
    "colab": {
      "provenance": [],
      "machine_shape": "hm",
      "authorship_tag": "ABX9TyM5bt5NTlgTgBQo5PsH15AI",
      "include_colab_link": true
    },
    "kernelspec": {
      "name": "python3",
      "display_name": "Python 3"
    },
    "language_info": {
      "name": "python"
    }
  },
  "cells": [
    {
      "cell_type": "markdown",
      "metadata": {
        "id": "view-in-github",
        "colab_type": "text"
      },
      "source": [
        "<a href=\"https://colab.research.google.com/github/franperezec/algorithms/blob/main/7EstructuraCondicionalSimple.ipynb\" target=\"_parent\"><img src=\"https://colab.research.google.com/assets/colab-badge.svg\" alt=\"Open In Colab\"/></a>"
      ]
    },
    {
      "cell_type": "markdown",
      "source": [
        "# **Estructura Condicional Simple en Programación**"
      ],
      "metadata": {
        "id": "uKuwPqLiq-pY"
      }
    },
    {
      "cell_type": "markdown",
      "source": [
        "**Francisco Pérez M.**\n",
        "\n",
        "[francisco.perezxxi@gmail.com](mailto:francisco.perezxxi@gmail.com)\n",
        "\n",
        "🔔 *¡Suscríbete y activa las notificaciones para aprender más!*\n",
        "\n",
        "[Canal de YouTube - Data Science AI](https://www.youtube.com/@DataScienceAI/playlists)\n",
        "\n",
        "📚 *Recursos adicionales:*  \n",
        "📐 [GitHub con recursos](https://github.com/franperezec/algorithms)\n",
        "\n",
        "*Cómo citar este documento:*\n",
        "\n",
        "Pérez, F. (2024). *Estructura Condicional Simple en Programación*. GitHub. URL: [https://github.com/franperezec/algorithms](https://github.com/franperezec/algorithms)"
      ],
      "metadata": {
        "id": "5zV1sq3J8s3I"
      }
    },
    {
      "cell_type": "markdown",
      "source": [
        "## **Introducción**\n",
        "\n",
        "La programación se basa en estructuras lógicas que permiten controlar el flujo de ejecución de un programa. Una de las estructuras fundamentales es la **estructura condicional simple**, también conocida como sentencia \"if\" o \"si\"."
      ],
      "metadata": {
        "id": "2plCG0MUrbJM"
      }
    },
    {
      "cell_type": "markdown",
      "source": [
        "## **Concepto**\n",
        "\n",
        "La estructura condicional simple permite ejecutar un bloque de código solo si se cumple una condición específica. Su funcionamiento se puede resumir así:\n",
        "\n",
        "- Se evalúa una condición.\n",
        "- Si la condición es verdadera, se ejecuta un bloque de instrucciones.\n",
        "- Si la condición es falsa, se salta ese bloque y continúa con la siguiente instrucción después de la estructura condicional."
      ],
      "metadata": {
        "id": "FFjlL--qxz9G"
      }
    },
    {
      "cell_type": "code",
      "source": [
        "# @title Representación gráfica Estructura Condicional Simple\n",
        "from IPython.display import IFrame, display\n",
        "\n",
        "file_id = \"1XTQ8-53kJxLqO1DTXU6CzuiS8oIkR7N9\"\n",
        "drive_url = f\"https://drive.google.com/file/d/{file_id}/preview\"\n",
        "\n",
        "display(IFrame(src=drive_url, width=640, height=480))"
      ],
      "metadata": {
        "colab": {
          "base_uri": "https://localhost:8080/",
          "height": 502
        },
        "id": "Skyf0ynawyss",
        "outputId": "87128b4d-9e8f-43db-a5b0-f83ff04b3219"
      },
      "execution_count": null,
      "outputs": [
        {
          "output_type": "display_data",
          "data": {
            "text/plain": [
              "<IPython.lib.display.IFrame at 0x7dee2670b1f0>"
            ],
            "text/html": [
              "\n",
              "        <iframe\n",
              "            width=\"640\"\n",
              "            height=\"480\"\n",
              "            src=\"https://drive.google.com/file/d/1XTQ8-53kJxLqO1DTXU6CzuiS8oIkR7N9/preview\"\n",
              "            frameborder=\"0\"\n",
              "            allowfullscreen\n",
              "            \n",
              "        ></iframe>\n",
              "        "
            ]
          },
          "metadata": {}
        }
      ]
    },
    {
      "cell_type": "markdown",
      "source": [
        "## Sintaxis general\n",
        "\n",
        "La estructura general de una condicional simple es:\n",
        "\n",
        "```\n",
        "Si (condición) Entonces\n",
        "    Instrucción 1\n",
        "    Instrucción 2\n",
        "    ...\n",
        "    Instrucción n\n",
        "Fin Si\n",
        "```"
      ],
      "metadata": {
        "id": "9q-cPhS-tfkd"
      }
    },
    {
      "cell_type": "markdown",
      "source": [
        "\n",
        "## Ejemplo práctico: Chequeo de un número par\n",
        "\n",
        "Vamos a implementar un algoritmo que verifica si un número ingresado por el usuario es par."
      ],
      "metadata": {
        "id": "e2ZaLkr-z-0U"
      }
    },
    {
      "cell_type": "markdown",
      "source": [
        "\n",
        "### Análisis\n",
        "- Un número es par si al dividirlo entre 2, el residuo es 0.\n",
        "- Usaremos el operador módulo (%) para verificar esto."
      ],
      "metadata": {
        "id": "6aC5aM6G0EGv"
      }
    },
    {
      "cell_type": "markdown",
      "source": [
        "\n",
        "### Implementación en PSeInt\n",
        "\n",
        "```\n",
        "Algoritmo ChequeoDePar\n",
        "    Definir numero Como Entero\n",
        "    \n",
        "    Escribir \"Ingrese un número para verificar si es par: \"\n",
        "    Leer numero\n",
        "    \n",
        "    Si numero MOD 2 = 0 Entonces\n",
        "        Escribir \"El número \", numero, \" es par.\"\n",
        "    FinSi\n",
        "FinAlgoritmo\n",
        "```"
      ],
      "metadata": {
        "id": "jKpiNrHo0Ho-"
      }
    },
    {
      "cell_type": "code",
      "source": [
        "# @title Diagrama de Flujo Estructura Condicional Simple\n",
        "from IPython.display import IFrame, display\n",
        "\n",
        "file_id = \"18Fg4tFN6MuMBssmFlEx-YubCH2BPVSuy\"\n",
        "drive_url = f\"https://drive.google.com/file/d/{file_id}/preview\"\n",
        "\n",
        "display(IFrame(src=drive_url, width=640, height=480))"
      ],
      "metadata": {
        "colab": {
          "base_uri": "https://localhost:8080/",
          "height": 502
        },
        "id": "hUHHXMRX2dK6",
        "outputId": "f8bfb666-5a64-48c9-eb0d-ff24b49530bd"
      },
      "execution_count": null,
      "outputs": [
        {
          "output_type": "display_data",
          "data": {
            "text/plain": [
              "<IPython.lib.display.IFrame at 0x7dee26709750>"
            ],
            "text/html": [
              "\n",
              "        <iframe\n",
              "            width=\"640\"\n",
              "            height=\"480\"\n",
              "            src=\"https://drive.google.com/file/d/18Fg4tFN6MuMBssmFlEx-YubCH2BPVSuy/preview\"\n",
              "            frameborder=\"0\"\n",
              "            allowfullscreen\n",
              "            \n",
              "        ></iframe>\n",
              "        "
            ]
          },
          "metadata": {}
        }
      ]
    },
    {
      "cell_type": "markdown",
      "source": [
        "\n",
        "### Implementación en Python"
      ],
      "metadata": {
        "id": "zdaeeIRm0LB-"
      }
    },
    {
      "cell_type": "code",
      "source": [
        "def chequeo_de_par():\n",
        "    # Solicitamos al usuario que ingrese un número\n",
        "    numero = int(input(\"Ingrese un número para verificar si es par: \"))\n",
        "\n",
        "    # Verificamos si el número es par\n",
        "    if numero % 2 == 0:\n",
        "        print(f\"El número {numero} es par.\")"
      ],
      "metadata": {
        "id": "O4nFUeoX0bWM"
      },
      "execution_count": null,
      "outputs": []
    },
    {
      "cell_type": "code",
      "source": [
        "chequeo_de_par() #llamar a la función"
      ],
      "metadata": {
        "colab": {
          "base_uri": "https://localhost:8080/"
        },
        "id": "VBbSgPHs0tY6",
        "outputId": "57c7f486-10fc-4f69-8f6d-abae2426d419"
      },
      "execution_count": null,
      "outputs": [
        {
          "output_type": "stream",
          "name": "stdout",
          "text": [
            "Ingrese un número para verificar si es par: 20\n",
            "El número 20 es par.\n"
          ]
        }
      ]
    },
    {
      "cell_type": "markdown",
      "source": [
        "## Conclusión\n",
        "\n",
        "La estructura condicional simple es fundamental en programación, ya que permite que nuestros programas tomen decisiones basadas en condiciones específicas. Dominar esta estructura es esencial para crear programas más complejos y útiles."
      ],
      "metadata": {
        "id": "3AV-g5kT0TEV"
      }
    },
    {
      "cell_type": "markdown",
      "source": [
        "## **Licencias**\n",
        "\n",
        "Al utilizar este material, acepto cumplir con los términos de las licencias MIT y Creative Commons BY 4.0 respectivamente.\n",
        "\n",
        "Para más detalles sobre las licencias o usos adicionales, consultar:\n",
        "- Licencia MIT: https://opensource.org/licenses/MIT\n",
        "- CC BY 4.0: https://creativecommons.org/licenses/by/4.0/deed.es"
      ],
      "metadata": {
        "id": "jXUZhsF3867Q"
      }
    }
  ]
}