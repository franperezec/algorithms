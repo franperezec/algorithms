{
  "nbformat": 4,
  "nbformat_minor": 0,
  "metadata": {
    "colab": {
      "provenance": [],
      "authorship_tag": "ABX9TyMTeswuGNbGqZhIlYF1QXpk",
      "include_colab_link": true
    },
    "kernelspec": {
      "name": "python3",
      "display_name": "Python 3"
    },
    "language_info": {
      "name": "python"
    }
  },
  "cells": [
    {
      "cell_type": "markdown",
      "metadata": {
        "id": "view-in-github",
        "colab_type": "text"
      },
      "source": [
        "<a href=\"https://colab.research.google.com/github/franperezec/algorithms/blob/main/MatrizCuadradaDiagonal.ipynb\" target=\"_parent\"><img src=\"https://colab.research.google.com/assets/colab-badge.svg\" alt=\"Open In Colab\"/></a>"
      ]
    },
    {
      "cell_type": "markdown",
      "source": [
        "# **Verifica si una matriz cuadrada A es superior, inferior o diagonal.**"
      ],
      "metadata": {
        "id": "9o-_4AAcS5lP"
      }
    },
    {
      "cell_type": "markdown",
      "source": [
        "**Francisco Pérez M.**\n",
        "\n",
        "[francisco.perezxxi@gmail.com](mailto:francisco.perezxxi@gmail.com)\n",
        "\n",
        "🔔 *¡Suscríbete y activa las notificaciones para aprender más!*\n",
        "\n",
        "[Canal de YouTube - Data Science AI](https://www.youtube.com/@DataScienceAI/playlists)\n",
        "\n",
        "📚 *Recursos adicionales:*  \n",
        "📐 [GitHub con recursos](https://github.com/franperezec/algorithms)\n",
        "\n",
        "*Cómo citar este documento:*\n",
        "\n",
        "Pérez, F. (2024). *Verifica si una matriz cuadrada A es superior, inferior o diagonal*. GitHub. URL: [https://github.com/franperezec/algorithms](https://github.com/franperezec/algorithms)"
      ],
      "metadata": {
        "id": "5zV1sq3J8s3I"
      }
    },
    {
      "cell_type": "markdown",
      "source": [
        "## **0. Matrices: Definición y Tipos Especiales**"
      ],
      "metadata": {
        "id": "3PlvyMPVWLez"
      }
    },
    {
      "cell_type": "markdown",
      "source": [
        "### **Definición General de Matriz**\n",
        "\n",
        "Una matriz es un conjunto ordenado de elementos dispuestos en filas y columnas. Matemáticamente, una matriz $A$ de tamaño $m \\times n$ se define como:\n",
        "\n",
        "$$A = (a_{ij})_{m \\times n} = \\begin{pmatrix}\n",
        "a_{11} & a_{12} & \\cdots & a_{1n} \\\\\n",
        "a_{21} & a_{22} & \\cdots & a_{2n} \\\\\n",
        "\\vdots & \\vdots & \\ddots & \\vdots \\\\\n",
        "a_{m1} & a_{m2} & \\cdots & a_{mn}\n",
        "\\end{pmatrix}$$\n",
        "\n",
        "donde $a_{ij}$ representa el elemento en la $i$-ésima fila y la $j$-ésima columna.\n",
        "\n",
        "#### **Matrices Cuadradas**\n",
        "\n",
        "Una matriz cuadrada es aquella que tiene el mismo número de filas y columnas, es decir, $m = n$. Para una matriz cuadrada $A$ de orden $n$, escribimos:\n",
        "\n",
        "$$A = (a_{ij})_{n \\times n}$$\n",
        "\n",
        "### **Tipos Especiales de Matrices Cuadradas**\n",
        "\n",
        "#### **1. Matriz Superior**\n",
        "\n",
        "Una matriz superior es una matriz cuadrada en la que todos los elementos por debajo de la diagonal principal son cero. Formalmente:\n",
        "\n",
        "$$a_{ij} = 0 \\quad \\text{para todo } i > j$$\n",
        "\n",
        "Ejemplo:\n",
        "$$\\begin{pmatrix}\n",
        "a_{11} & a_{12} & a_{13} \\\\\n",
        "0 & a_{22} & a_{23} \\\\\n",
        "0 & 0 & a_{33}\n",
        "\\end{pmatrix} = \\begin{pmatrix}\n",
        "1 & 2 & 3 \\\\\n",
        "0 & 4 & 5 \\\\\n",
        "0 & 0 & 6\n",
        "\\end{pmatrix}$$\n",
        "\n",
        "#### **2. Matriz Inferior**\n",
        "\n",
        "Una matriz inferior es una matriz cuadrada en la que todos los elementos por encima de la diagonal principal son cero. Formalmente:\n",
        "\n",
        "$$a_{ij} = 0 \\quad \\text{para todo } i < j$$\n",
        "\n",
        "Ejemplo:\n",
        "$$\\begin{pmatrix}\n",
        "a_{11} & 0 & 0 \\\\\n",
        "a_{21} & a_{22} & 0 \\\\\n",
        "a_{31} & a_{32} & a_{33}\n",
        "\\end{pmatrix} = \\begin{pmatrix}\n",
        "1 & 0 & 0 \\\\\n",
        "4 & 5 & 0 \\\\\n",
        "7 & 8 & 9\n",
        "\\end{pmatrix}$$\n",
        "\n",
        "#### **3. Matriz Diagonal**\n",
        "\n",
        "Una matriz diagonal es una matriz cuadrada en la que todos los elementos fuera de la diagonal principal son cero. Es, por tanto, simultáneamente superior e inferior. Formalmente:\n",
        "\n",
        "$$a_{ij} = 0 \\quad \\text{para todo } i \\neq j$$\n",
        "\n",
        "Ejemplo:\n",
        "$$\\begin{pmatrix}\n",
        "a_{11} & 0 & 0 \\\\\n",
        "0 & a_{22} & 0 \\\\\n",
        "0 & 0 & a_{33}\n",
        "\\end{pmatrix} = \\begin{pmatrix}\n",
        "1 & 0 & 0 \\\\\n",
        "0 & 2 & 0 \\\\\n",
        "0 & 0 & 3\n",
        "\\end{pmatrix}$$\n",
        "\n",
        "Nota: En una matriz diagonal, los elementos de la diagonal principal ($a_{ii}$) pueden ser cualquier número, incluyendo cero."
      ],
      "metadata": {
        "id": "R-LQKTfRUDYV"
      }
    },
    {
      "cell_type": "markdown",
      "source": [
        "## **1. Matriz de Entradas, Proceso y Salida**"
      ],
      "metadata": {
        "id": "t4xLs2iBTQyf"
      }
    },
    {
      "cell_type": "markdown",
      "source": [
        "\n",
        "| Entrada | Proceso | Salida |\n",
        "|---------|---------|--------|\n",
        "| - Tamaño de la matriz cuadrada (n) | 1. Crear una matriz A de tamaño n x n | - Todos los elementos de la matriz A |\n",
        "| - Elementos de la matriz A[i,j] | 2. Llenar la matriz con los valores ingresados por el usuario | - Mensaje indicando el tipo de matriz: |\n",
        "|  | 3. Verificar si la matriz es superior:  |   * \"La matriz es diagonal\" |\n",
        "|  |    - Todos los elementos debajo de la diagonal principal son cero |   * \"La matriz es superior\" |\n",
        "|  | 4. Verificar si la matriz es inferior: |   * \"La matriz es inferior\" |\n",
        "|  |    - Todos los elementos encima de la diagonal principal son cero |   * \"La matriz no es ni superior, ni inferior, ni diagonal\" |\n",
        "|  | 5. Determinar el tipo de matriz basado en los resultados de las verificaciones | |\n",
        "\n",
        "### Explicación\n",
        "\n",
        "1. **Entradas**:\n",
        "   - El usuario proporciona el tamaño de la matriz cuadrada (n).\n",
        "   - El usuario ingresa los elementos de la matriz A[i,j], donde i y j van de 1 a n.\n",
        "\n",
        "2. **Proceso**:\n",
        "   - Se crea una matriz A de tamaño n x n.\n",
        "   - Se llena la matriz con los valores ingresados por el usuario.\n",
        "   - Se verifica si la matriz es superior, comprobando que todos los elementos debajo de la diagonal principal sean cero.\n",
        "   - Se verifica si la matriz es inferior, comprobando que todos los elementos encima de la diagonal principal sean cero.\n",
        "   - Se determina el tipo de matriz basado en los resultados de las verificaciones.\n",
        "\n",
        "3. **Salida**:\n",
        "   - Se muestran todos los elementos de la matriz A.\n",
        "   - Se muestra un mensaje indicando el tipo de matriz."
      ],
      "metadata": {
        "id": "_f2V_51KSlPO"
      }
    },
    {
      "cell_type": "markdown",
      "source": [
        "## **2. Listado de Variables para el Algoritmo de Verificación de Tipo de Matriz**"
      ],
      "metadata": {
        "id": "yQ9oLzzhdaT-"
      }
    },
    {
      "cell_type": "markdown",
      "source": [
        "| Nombre de la variable | Descripción | Tipo de dato y dominio |\n",
        "|-----------------------|-------------|------------------------|\n",
        "| n | Tamaño de la matriz cuadrada | Entero, n > 0 |\n",
        "| A | Matriz cuadrada a analizar | Arreglo bidimensional de Enteros, A[1..n, 1..n] |\n",
        "| i | Índice para recorrer filas | Entero, 1 ≤ i ≤ n |\n",
        "| j | Índice para recorrer columnas | Entero, 1 ≤ j ≤ n |\n",
        "| esSuperior | Indica si la matriz es superior | Lógico, {Verdadero, Falso} |\n",
        "| esInferior | Indica si la matriz es inferior | Lógico, {Verdadero, Falso} |\n",
        "\n",
        "## Descripción detallada de las variables:\n",
        "\n",
        "1. **n**:\n",
        "   - Representa el tamaño de la matriz cuadrada.\n",
        "   - Se utiliza para definir las dimensiones de la matriz y los límites de los bucles.\n",
        "\n",
        "2. **A**:\n",
        "   - Es la matriz cuadrada que se va a analizar.\n",
        "   - Almacena los valores ingresados por el usuario.\n",
        "\n",
        "3. **i**:\n",
        "   - Se usa como índice para recorrer las filas de la matriz.\n",
        "   - Se utiliza en los bucles de llenado y verificación de la matriz.\n",
        "\n",
        "4. **j**:\n",
        "   - Se usa como índice para recorrer las columnas de la matriz.\n",
        "   - Se utiliza en los bucles de llenado y verificación de la matriz.\n",
        "\n",
        "5. **esSuperior**:\n",
        "   - Indica si la matriz cumple con la condición de ser una matriz superior.\n",
        "   - Se inicializa como Verdadero y cambia a Falso si se encuentra algún elemento no cero debajo de la diagonal principal.\n",
        "\n",
        "6. **esInferior**:\n",
        "   - Indica si la matriz cumple con la condición de ser una matriz inferior.\n",
        "   - Se inicializa como Verdadero y cambia a Falso si se encuentra algún elemento no cero encima de la diagonal principal.\n",
        "\n",
        "Nota: El tipo de matriz (superior, inferior, diagonal, o ninguna) se determina al final del algoritmo basándose en los valores de esSuperior y esInferior.\n"
      ],
      "metadata": {
        "id": "jfdYg9oGX8lb"
      }
    },
    {
      "cell_type": "markdown",
      "source": [
        "## **3. Miniespecificación**"
      ],
      "metadata": {
        "id": "Zl6DBUqBaZni"
      }
    },
    {
      "cell_type": "markdown",
      "source": [
        "```\n",
        "Algoritmo VerificarTipoMatriz\n",
        "    // Declaración e inicialización de variables\n",
        "    Entero n <- 0\n",
        "    Entero i <- 1, j <- 1\n",
        "    Entero A[1..100, 1..100]  // Asumimos un tamaño máximo de 100x100\n",
        "    Lógico esSuperior <- Verdadero, esInferior <- Verdadero\n",
        "\n",
        "    // Entrada de datos\n",
        "    << \"Ingrese el tamaño de la matriz cuadrada (n):\"\n",
        "    >> n\n",
        "\n",
        "    // Llenado de la matriz\n",
        "    Para i <- 1 Hasta n Hacer\n",
        "        Para j <- 1 Hasta n Hacer\n",
        "            << \"Ingrese el elemento A[\", i, \",\", j, \"]:\"\n",
        "            >> A[i, j]\n",
        "        FinPara\n",
        "    FinPara\n",
        "\n",
        "    // Verificación del tipo de matriz\n",
        "    Para i <- 1 Hasta n Hacer\n",
        "        Para j <- 1 Hasta n Hacer\n",
        "            Si i > j Y A[i, j] ≠ 0 Entonces\n",
        "                esSuperior <- Falso\n",
        "            FinSi\n",
        "            Si i < j Y A[i, j] ≠ 0 Entonces\n",
        "                esInferior <- Falso\n",
        "            FinSi\n",
        "        FinPara\n",
        "    FinPara\n",
        "\n",
        "    // Mostrar la matriz ingresada\n",
        "    << \"La matriz ingresada es:\"\n",
        "    Para i <- 1 Hasta n Hacer\n",
        "        Para j <- 1 Hasta n Hacer\n",
        "            << A[i, j], \" \" Sin Saltar\n",
        "        FinPara\n",
        "        << \"\"  // Salto de línea al final de cada fila\n",
        "    FinPara\n",
        "\n",
        "    // Determinar y mostrar el tipo de matriz\n",
        "    Si esSuperior Y esInferior Entonces\n",
        "        << \"La matriz es diagonal.\"\n",
        "    Sino\n",
        "        Si esSuperior Entonces\n",
        "            << \"La matriz es superior.\"\n",
        "        Sino\n",
        "            Si esInferior Entonces\n",
        "                << \"La matriz es inferior.\"\n",
        "            Sino\n",
        "                << \"La matriz no es ni superior, ni inferior, ni diagonal.\"\n",
        "            FinSi\n",
        "        FinSi\n",
        "    FinSi\n",
        "\n",
        "FinAlgoritmo\n",
        "```\n",
        "\n",
        "**Nota:**\n",
        "- `<<` significa \"Escribir\" o \"Mostrar en pantalla\"\n",
        "- `>>` significa \"Leer\" o \"Obtener entrada del usuario\""
      ],
      "metadata": {
        "id": "LHSky-PjagIq"
      }
    },
    {
      "cell_type": "markdown",
      "source": [
        "## **4. Diagrama de Flujo**"
      ],
      "metadata": {
        "id": "RMw6Cx-OdooS"
      }
    },
    {
      "cell_type": "code",
      "source": [
        "# @title Diagrama de Flujo\n",
        "from IPython.display import IFrame, display\n",
        "\n",
        "file_id = \"1CnAmPk8a4jg1hke-2SzTnfVpap098CUD\"\n",
        "drive_url = f\"https://drive.google.com/file/d/{file_id}/preview\"\n",
        "\n",
        "display(IFrame(src=drive_url, width=640, height=480))"
      ],
      "metadata": {
        "colab": {
          "base_uri": "https://localhost:8080/",
          "height": 501
        },
        "id": "6AmckxSOfd9U",
        "outputId": "4b6529a5-c752-4628-95a9-d2d786f7596a"
      },
      "execution_count": null,
      "outputs": [
        {
          "output_type": "display_data",
          "data": {
            "text/plain": [
              "<IPython.lib.display.IFrame at 0x7b985dba19f0>"
            ],
            "text/html": [
              "\n",
              "        <iframe\n",
              "            width=\"640\"\n",
              "            height=\"480\"\n",
              "            src=\"https://drive.google.com/file/d/1CnAmPk8a4jg1hke-2SzTnfVpap098CUD/preview\"\n",
              "            frameborder=\"0\"\n",
              "            allowfullscreen\n",
              "            \n",
              "        ></iframe>\n",
              "        "
            ]
          },
          "metadata": {}
        }
      ]
    },
    {
      "cell_type": "markdown",
      "source": [
        "## **5. Prueba de Escritorio: Verificar Tipo de Matriz 2x2**"
      ],
      "metadata": {
        "id": "_Q8QM_-qhJ9t"
      }
    },
    {
      "cell_type": "markdown",
      "source": [
        "Usaremos la siguiente matriz 2x2 como ejemplo:\n",
        "```\n",
        "1 2\n",
        "0 3\n",
        "```\n",
        "Esta es una matriz superior.\n",
        "\n",
        "| Paso | n | i | j | A[i,j] | esSuperior | esInferior | Acción/Observación |\n",
        "|------|---|---|---|--------|------------|------------|-------------------|\n",
        "| 1 | 2 | - | - | - | true | true | Inicialización de variables |\n",
        "| 2 | 2 | 1 | 1 | 1 | true | true | Llenado de la matriz |\n",
        "| 3 | 2 | 1 | 2 | 2 | true | true | Llenado de la matriz |\n",
        "| 4 | 2 | 2 | 1 | 0 | true | true | Llenado de la matriz |\n",
        "| 5 | 2 | 2 | 2 | 3 | true | true | Llenado de la matriz |\n",
        "| 6 | 2 | 1 | 1 | 1 | true | true | Verificación: i = j, no se modifica nada |\n",
        "| 7 | 2 | 1 | 2 | 2 | true | false | Verificación: i < j, A[i,j] ≠ 0, esInferior = false |\n",
        "| 8 | 2 | 2 | 1 | 0 | true | false | Verificación: i > j, A[i,j] = 0, esSuperior sigue true |\n",
        "| 9 | 2 | 2 | 2 | 3 | true | false | Verificación: i = j, no se modifica nada |\n",
        "| 10 | - | - | - | - | true | false | Resultado: La matriz es superior |\n",
        "\n",
        "Conclusión: El algoritmo correctamente identifica que la matriz es superior, ya que esSuperior = true y esInferior = false al final de la ejecución."
      ],
      "metadata": {
        "id": "i5c91RdDd3yf"
      }
    },
    {
      "cell_type": "markdown",
      "source": [
        "## **6. Pseudocódigo en PSeInt**"
      ],
      "metadata": {
        "id": "PRAAzypR3LMT"
      }
    },
    {
      "cell_type": "markdown",
      "source": [
        "```\n",
        "Algoritmo VerificarTipoMatriz\n",
        "\tDefinir n, i, j Como Entero\n",
        "\tDefinir A Como Entero\n",
        "\tDefinir esSuperior, esInferior Como Lógico\n",
        "\t// Entrada de datos\n",
        "\tEscribir 'Ingrese el tamaño de la matriz cuadrada (n):'\n",
        "\tLeer n\n",
        "\t// Dimensionar la matriz\n",
        "\tDimensionar A(n,n)\n",
        "\t// Llenado de la matriz\n",
        "\tPara i<-1 Hasta n Hacer\n",
        "\t\tPara j<-1 Hasta n Hacer\n",
        "\t\t\tEscribir 'Ingrese el elemento A[', i, ',', j, ']:'\n",
        "\t\t\tLeer A[i,j]\n",
        "\t\tFinPara\n",
        "\tFinPara\n",
        "\t// Inicialización de variables de control\n",
        "\tesSuperior <- Verdadero\n",
        "\tesInferior <- Verdadero\n",
        "\t// Verificación del tipo de matriz\n",
        "\tPara i<-1 Hasta n Hacer\n",
        "\t\tPara j<-1 Hasta n Hacer\n",
        "\t\t\tSi i>j Y A[i,j]<>0 Entonces\n",
        "\t\t\t\tesSuperior <- Falso\n",
        "\t\t\tFinSi\n",
        "\t\t\tSi i<j Y A[i,j]<>0 Entonces\n",
        "\t\t\t\tesInferior <- Falso\n",
        "\t\t\tFinSi\n",
        "\t\tFinPara\n",
        "\tFinPara\n",
        "\t// Mostrar la matriz ingresada\n",
        "\tEscribir 'La matriz ingresada es:'\n",
        "\tPara i<-1 Hasta n Hacer\n",
        "\t\tPara j<-1 Hasta n Hacer\n",
        "\t\t\tEscribir A[i,j], ' 'Sin Saltar\n",
        "\t\tFinPara\n",
        "\t\tEscribir ''\n",
        "\tFinPara\n",
        "\t// Determinar y mostrar el tipo de matriz\n",
        "\tSi esSuperior Y esInferior Entonces // Salto de línea al final de cada fila\n",
        "\t\tEscribir 'La matriz es diagonal.'\n",
        "\tSiNo\n",
        "\t\tSi esSuperior Entonces\n",
        "\t\t\tEscribir 'La matriz es superior.'\n",
        "\t\tSiNo\n",
        "\t\t\tSi esInferior Entonces\n",
        "\t\t\t\tEscribir 'La matriz es inferior.'\n",
        "\t\t\tSiNo\n",
        "\t\t\t\tEscribir 'La matriz no es ni superior, ni inferior, ni diagonal.'\n",
        "\t\t\tFinSi\n",
        "\t\tFinSi\n",
        "\tFinSi\n",
        "FinAlgoritmo\n",
        "```"
      ],
      "metadata": {
        "id": "exYaVe113aSK"
      }
    },
    {
      "cell_type": "markdown",
      "source": [
        "## **7. Código en Python**"
      ],
      "metadata": {
        "id": "MkbS20ooiT2o"
      }
    },
    {
      "cell_type": "code",
      "source": [
        "def verificar_tipo_matriz():\n",
        "    # Entrada de datos\n",
        "    n = int(input(\"Ingrese el tamaño de la matriz cuadrada (n): \"))\n",
        "\n",
        "    # Crear y llenar la matriz\n",
        "    A = []\n",
        "    for i in range(n):\n",
        "        fila = []\n",
        "        for j in range(n):\n",
        "            elemento = int(input(f\"Ingrese el elemento A[{i+1},{j+1}]: \"))\n",
        "            fila.append(elemento)\n",
        "        A.append(fila)\n",
        "\n",
        "    # Inicialización de variables de control\n",
        "    es_superior = True\n",
        "    es_inferior = True\n",
        "\n",
        "    # Verificación del tipo de matriz\n",
        "    for i in range(n):\n",
        "        for j in range(n):\n",
        "            if i > j and A[i][j] != 0:\n",
        "                es_superior = False\n",
        "            if i < j and A[i][j] != 0:\n",
        "                es_inferior = False\n",
        "\n",
        "    # Mostrar la matriz ingresada\n",
        "    print(\"La matriz ingresada es:\")\n",
        "    for fila in A:\n",
        "        print(\" \".join(map(str, fila)))\n",
        "\n",
        "    # Determinar y mostrar el tipo de matriz\n",
        "    if es_superior and es_inferior:\n",
        "        print(\"La matriz es diagonal.\")\n",
        "    elif es_superior:\n",
        "        print(\"La matriz es superior.\")\n",
        "    elif es_inferior:\n",
        "        print(\"La matriz es inferior.\")\n",
        "    else:\n",
        "        print(\"La matriz no es ni superior, ni inferior, ni diagonal.\")"
      ],
      "metadata": {
        "id": "qjjVYUFxiGqv"
      },
      "execution_count": null,
      "outputs": []
    },
    {
      "cell_type": "code",
      "source": [
        "# Ejecutar la función\n",
        "verificar_tipo_matriz()"
      ],
      "metadata": {
        "colab": {
          "base_uri": "https://localhost:8080/"
        },
        "id": "ae5-l05R2YAh",
        "outputId": "7d96df09-5641-46e2-e339-18688ee5f01d"
      },
      "execution_count": null,
      "outputs": [
        {
          "output_type": "stream",
          "name": "stdout",
          "text": [
            "Ingrese el tamaño de la matriz cuadrada (n): 2\n",
            "Ingrese el elemento A[1,1]: 1\n",
            "Ingrese el elemento A[1,2]: 2\n",
            "Ingrese el elemento A[2,1]: 3\n",
            "Ingrese el elemento A[2,2]: 5\n",
            "La matriz ingresada es:\n",
            "1 2\n",
            "3 5\n",
            "La matriz no es ni superior, ni inferior, ni diagonal.\n"
          ]
        }
      ]
    },
    {
      "cell_type": "markdown",
      "source": [
        "## **Licencias**\n",
        "\n",
        "Al utilizar este material, acepto cumplir con los términos de las licencias MIT y Creative Commons BY 4.0 respectivamente.\n",
        "\n",
        "Para más detalles sobre las licencias o usos adicionales, consultar:\n",
        "- Licencia MIT: https://opensource.org/licenses/MIT\n",
        "- CC BY 4.0: https://creativecommons.org/licenses/by/4.0/deed.es"
      ],
      "metadata": {
        "id": "jXUZhsF3867Q"
      }
    }
  ]
}