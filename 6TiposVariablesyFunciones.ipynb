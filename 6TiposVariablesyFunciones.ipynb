{
  "nbformat": 4,
  "nbformat_minor": 0,
  "metadata": {
    "colab": {
      "provenance": [],
      "authorship_tag": "ABX9TyMi7B1t0DWdSbN3UzCCHmLA",
      "include_colab_link": true
    },
    "kernelspec": {
      "name": "python3",
      "display_name": "Python 3"
    },
    "language_info": {
      "name": "python"
    }
  },
  "cells": [
    {
      "cell_type": "markdown",
      "metadata": {
        "id": "view-in-github",
        "colab_type": "text"
      },
      "source": [
        "<a href=\"https://colab.research.google.com/github/franperezec/algorithms/blob/main/6TiposVariablesyFunciones.ipynb\" target=\"_parent\"><img src=\"https://colab.research.google.com/assets/colab-badge.svg\" alt=\"Open In Colab\"/></a>"
      ]
    },
    {
      "cell_type": "markdown",
      "source": [
        "# **Tipos de Variables, Operadores y Funciones en Python**"
      ],
      "metadata": {
        "id": "XGGKNaJj3NuI"
      }
    },
    {
      "cell_type": "markdown",
      "source": [
        "**Francisco Pérez M.**\n",
        "\n",
        "[francisco.perezxxi@gmail.com](mailto:francisco.perezxxi@gmail.com)\n",
        "\n",
        "🔔 *¡Suscríbete y activa las notificaciones para aprender más!*\n",
        "\n",
        "[Canal de YouTube - Data Science AI](https://www.youtube.com/@DataScienceAI/playlists)\n",
        "\n",
        "📚 *Recursos adicionales:*  \n",
        "📐 [GitHub con recursos](https://github.com/franperezec/algorithms)\n",
        "\n",
        "*Cómo citar este documento:*\n",
        "\n",
        "Pérez, F. (2024). *Tipos de Variables, Operadores y Funciones en Python*. GitHub. URL: [https://github.com/franperezec/algorithms](https://github.com/franperezec/algorithms)"
      ],
      "metadata": {
        "id": "5zV1sq3J8s3I"
      }
    },
    {
      "cell_type": "markdown",
      "source": [
        "## **Tipos de Variables en Python**\n",
        "\n",
        "En Python, las variables son contenedores utilizados para almacenar datos. Cada variable en Python puede almacenar diferentes tipos de datos, y el tipo de dato determina las operaciones que se pueden realizar con la variable y cómo se almacenan los datos en la memoria.\n",
        "\n",
        "En esta clase, exploraremos los tipos de variables más comunes en Python."
      ],
      "metadata": {
        "id": "cTNnJM8yQnX2"
      }
    },
    {
      "cell_type": "markdown",
      "source": [
        "\n",
        "## 1. Números\n",
        "\n",
        "Python tiene tres tipos numéricos principales:\n"
      ],
      "metadata": {
        "id": "I4LZhvr_3jwZ"
      }
    },
    {
      "cell_type": "code",
      "source": [
        "# Enteros (int). Las variables enteras almacenan números enteros, positivos o negativos, sin decimales.\n",
        "edad = 25\n",
        "print(f\"Edad: {edad}, Tipo: {type(edad)}\")\n",
        "\n",
        "# Flotantes (float). Las variables de punto flotante almacenan números con decimales.\n",
        "altura = 1.75\n",
        "print(f\"Altura: {altura}, Tipo: {type(altura)}\")\n",
        "\n",
        "# Complejos (complex). Los números complejos tienen una parte real y otra compleja en Python (j)\n",
        "numero_complejo = 3 + 4j\n",
        "print(f\"Número complejo: {numero_complejo}, Tipo: {type(numero_complejo)}\")\n"
      ],
      "metadata": {
        "colab": {
          "base_uri": "https://localhost:8080/"
        },
        "id": "jHJVsMni3qop",
        "outputId": "358a3547-0d5a-419b-81ac-bd611458b0c4"
      },
      "execution_count": null,
      "outputs": [
        {
          "output_type": "stream",
          "name": "stdout",
          "text": [
            "Edad: 25, Tipo: <class 'int'>\n",
            "Altura: 1.75, Tipo: <class 'float'>\n",
            "Número complejo: (3+4j), Tipo: <class 'complex'>\n"
          ]
        }
      ]
    },
    {
      "cell_type": "markdown",
      "source": [
        "\n",
        "## 2. Cadenas de texto (str)\n"
      ],
      "metadata": {
        "id": "ijYgFAT93x2W"
      }
    },
    {
      "cell_type": "code",
      "source": [
        "nombre = \"Ana\"\n",
        "apellido = 'García'\n",
        "frase = \"\"\"Esta es una\n",
        "frase de varias líneas\"\"\"\n",
        "print(f\"Nombre: {nombre}, Tipo: {type(nombre)}\")\n",
        "print(f\"Apellido: {apellido}, Tipo: {type(apellido)}\")\n",
        "print(f\"Frase:\\n{frase}\\nTipo: {type(frase)}\")"
      ],
      "metadata": {
        "colab": {
          "base_uri": "https://localhost:8080/"
        },
        "id": "I7OR05Ad31bg",
        "outputId": "c6a7368f-eda3-4d34-e4c6-c16a56b7883d"
      },
      "execution_count": null,
      "outputs": [
        {
          "output_type": "stream",
          "name": "stdout",
          "text": [
            "Nombre: Ana, Tipo: <class 'str'>\n",
            "Apellido: García, Tipo: <class 'str'>\n",
            "Frase:\n",
            "Esta es una\n",
            "frase de varias líneas\n",
            "Tipo: <class 'str'>\n"
          ]
        }
      ]
    },
    {
      "cell_type": "markdown",
      "source": [
        "\n",
        "## 3. Booleanos (bool)\n",
        "\n",
        "> Las variables booleanas solo pueden tener dos valores: `True` o `False`."
      ],
      "metadata": {
        "id": "tve3vA3p36BI"
      }
    },
    {
      "cell_type": "code",
      "source": [
        "es_estudiante = True\n",
        "tiene_mascota = False\n",
        "print(f\"¿Es estudiante?: {es_estudiante}, Tipo: {type(es_estudiante)}\")\n",
        "print(f\"¿Tiene mascota?: {tiene_mascota}, Tipo: {type(tiene_mascota)}\")"
      ],
      "metadata": {
        "colab": {
          "base_uri": "https://localhost:8080/"
        },
        "id": "L51eDbHy39w_",
        "outputId": "8706be62-1e80-48f1-926d-25b8696e69be"
      },
      "execution_count": null,
      "outputs": [
        {
          "output_type": "stream",
          "name": "stdout",
          "text": [
            "¿Es estudiante?: True, Tipo: <class 'bool'>\n",
            "¿Tiene mascota?: False, Tipo: <class 'bool'>\n"
          ]
        }
      ]
    },
    {
      "cell_type": "markdown",
      "source": [
        "\n",
        "## 4. Listas\n",
        "\n",
        "> Las listas son colecciones ordenadas de elementos, que pueden ser de diferentes tipos de datos."
      ],
      "metadata": {
        "id": "cbR7oJ_i4CSq"
      }
    },
    {
      "cell_type": "code",
      "source": [
        "frutas = [\"manzana\", \"banana\", \"cereza\"]\n",
        "numeros = [1, 2, 3, 4, 5]\n",
        "print(f\"Frutas: {frutas}, Tipo: {type(frutas)}\")\n",
        "print(f\"Números: {numeros}, Tipo: {type(numeros)}\")\n"
      ],
      "metadata": {
        "colab": {
          "base_uri": "https://localhost:8080/"
        },
        "id": "BNy8XK074IHA",
        "outputId": "dc36fccd-8a98-47d7-c7c2-72fe88918392"
      },
      "execution_count": null,
      "outputs": [
        {
          "output_type": "stream",
          "name": "stdout",
          "text": [
            "Frutas: ['manzana', 'banana', 'cereza'], Tipo: <class 'list'>\n",
            "Números: [1, 2, 3, 4, 5], Tipo: <class 'list'>\n"
          ]
        }
      ]
    },
    {
      "cell_type": "markdown",
      "source": [
        "## 5. Tuplas\n",
        "\n",
        "> Las tuplas son colecciones ordenadas de elementos, inmutables (no se pueden modificar después de su creación)."
      ],
      "metadata": {
        "id": "4h3c1MwB4M8m"
      }
    },
    {
      "cell_type": "code",
      "source": [
        "coordenadas = (10, 20)\n",
        "colores_rgb = (255, 0, 0)\n",
        "print(f\"Coordenadas: {coordenadas}, Tipo: {type(coordenadas)}\")\n",
        "print(f\"Colores RGB: {colores_rgb}, Tipo: {type(colores_rgb)}\")"
      ],
      "metadata": {
        "colab": {
          "base_uri": "https://localhost:8080/"
        },
        "id": "rdIOjJbO4PkM",
        "outputId": "5eaa1a20-13d6-4b4f-a7dd-ed5c47e9a2a7"
      },
      "execution_count": null,
      "outputs": [
        {
          "output_type": "stream",
          "name": "stdout",
          "text": [
            "Coordenadas: (10, 20), Tipo: <class 'tuple'>\n",
            "Colores RGB: (255, 0, 0), Tipo: <class 'tuple'>\n"
          ]
        }
      ]
    },
    {
      "cell_type": "markdown",
      "source": [
        "\n",
        "## 6. Diccionarios\n",
        "\n",
        "> Los diccionarios son colecciones desordenadas de pares clave-valor."
      ],
      "metadata": {
        "id": "K9e2ytqR4UaK"
      }
    },
    {
      "cell_type": "code",
      "source": [
        "persona = {\n",
        "    \"nombre\": \"Carlos\",\n",
        "    \"edad\": 30,\n",
        "    \"ciudad\": \"Madrid\"\n",
        "}\n",
        "print(f\"Persona: {persona}, Tipo: {type(persona)}\")\n",
        "print(f\"Nombre: {persona['nombre']}\")"
      ],
      "metadata": {
        "colab": {
          "base_uri": "https://localhost:8080/"
        },
        "id": "s-_MUCyq4W03",
        "outputId": "0000cf76-543e-42e5-8bd5-41d4f62e1e82"
      },
      "execution_count": null,
      "outputs": [
        {
          "output_type": "stream",
          "name": "stdout",
          "text": [
            "Persona: {'nombre': 'Carlos', 'edad': 30, 'ciudad': 'Madrid'}, Tipo: <class 'dict'>\n",
            "Nombre: Carlos\n"
          ]
        }
      ]
    },
    {
      "cell_type": "markdown",
      "source": [
        "## 7. Conjuntos (set)\n",
        "\n",
        "> Los conjuntos son colecciones desordenadas de elementos únicos."
      ],
      "metadata": {
        "id": "afi6hsli4br3"
      }
    },
    {
      "cell_type": "code",
      "source": [
        "numeros_unicos = {1, 2, 3, 4, 5, 5, 4, 3, 2, 1}\n",
        "print(f\"Números únicos: {numeros_unicos}, Tipo: {type(numeros_unicos)}\")"
      ],
      "metadata": {
        "colab": {
          "base_uri": "https://localhost:8080/"
        },
        "id": "TZ1TcEAB4faV",
        "outputId": "3d9eaea5-ddaf-483e-e3e3-2db23407c96d"
      },
      "execution_count": null,
      "outputs": [
        {
          "output_type": "stream",
          "name": "stdout",
          "text": [
            "Números únicos: {1, 2, 3, 4, 5}, Tipo: <class 'set'>\n"
          ]
        }
      ]
    },
    {
      "cell_type": "markdown",
      "source": [
        "\n",
        "## Ejercicio práctico\n",
        "\n",
        "Intenta crear variables de diferentes tipos y experimenta con ellas:\n"
      ],
      "metadata": {
        "id": "-izyeFMc4ezm"
      }
    },
    {
      "cell_type": "code",
      "source": [
        "# Tu código aquí\n"
      ],
      "metadata": {
        "id": "886eM52v4mxv"
      },
      "execution_count": null,
      "outputs": []
    },
    {
      "cell_type": "markdown",
      "source": [
        "## **Operadores en Python**\n",
        "\n",
        "## 1. Operadores Aritméticos\n",
        "\n",
        "Los operadores aritméticos se utilizan para realizar operaciones matemáticas básicas."
      ],
      "metadata": {
        "id": "OdM8NcV4RLT8"
      }
    },
    {
      "cell_type": "code",
      "source": [
        "a = 11\n",
        "b = 2\n",
        "\n",
        "print(f\"Suma: {a + b}\")\n",
        "print(f\"Resta: {a - b}\")\n",
        "print(f\"Multiplicación: {a * b}\")\n",
        "print(f\"División: {a / b}\")\n",
        "print(f\"División entera: {a // b}\")\n",
        "print(f\"Módulo: {a % b}\")\n",
        "print(f\"Exponente: {a ** b}\")"
      ],
      "metadata": {
        "colab": {
          "base_uri": "https://localhost:8080/"
        },
        "id": "moODOJun6b3U",
        "outputId": "96cdcec6-8d70-4f2b-8bd8-b003eba0de9c"
      },
      "execution_count": null,
      "outputs": [
        {
          "output_type": "stream",
          "name": "stdout",
          "text": [
            "Suma: 13\n",
            "Resta: 9\n",
            "Multiplicación: 22\n",
            "División: 5.5\n",
            "División entera: 5\n",
            "Módulo: 1\n",
            "Exponente: 121\n"
          ]
        }
      ]
    },
    {
      "cell_type": "markdown",
      "source": [
        "\n",
        "## 2. Operadores de Comparación\n",
        "\n",
        "Estos operadores se utilizan para comparar valores y devuelven un resultado booleano."
      ],
      "metadata": {
        "id": "K9eeSKeZ6kY0"
      }
    },
    {
      "cell_type": "code",
      "source": [
        "x = 5\n",
        "y = 10\n",
        "\n",
        "print(f\"Igual a: {x == y}\")           # False\n",
        "print(f\"No igual a: {x != y}\")        # True\n",
        "print(f\"Mayor que: {x > y}\")          # False\n",
        "print(f\"Menor que: {x < y}\")          # True\n",
        "print(f\"Mayor o igual que: {x >= y}\") # False\n",
        "print(f\"Menor o igual que: {x <= y}\") # True"
      ],
      "metadata": {
        "colab": {
          "base_uri": "https://localhost:8080/"
        },
        "id": "8yC75zyB6j3D",
        "outputId": "e33acaed-696b-496e-fd20-a22d46ab774b"
      },
      "execution_count": null,
      "outputs": [
        {
          "output_type": "stream",
          "name": "stdout",
          "text": [
            "Igual a: False\n",
            "No igual a: True\n",
            "Mayor que: False\n",
            "Menor que: True\n",
            "Mayor o igual que: False\n",
            "Menor o igual que: True\n"
          ]
        }
      ]
    },
    {
      "cell_type": "markdown",
      "source": [
        "## 3. Operadores Lógicos\n",
        "\n",
        "Los operadores lógicos se utilizan para combinar declaraciones condicionales."
      ],
      "metadata": {
        "id": "trZDvc5n7C1q"
      }
    },
    {
      "cell_type": "code",
      "source": [
        "p = True\n",
        "q = False\n",
        "\n",
        "print(f\"AND: {p and q}\") # False\n",
        "print(f\"OR: {p or q}\")   # True\n",
        "print(f\"NOT: {not p}\")   # False"
      ],
      "metadata": {
        "colab": {
          "base_uri": "https://localhost:8080/"
        },
        "id": "FR7gCpzX7F77",
        "outputId": "2b5307e7-b2b6-4073-db2c-e93f421e4ed7"
      },
      "execution_count": null,
      "outputs": [
        {
          "output_type": "stream",
          "name": "stdout",
          "text": [
            "AND: False\n",
            "OR: True\n",
            "NOT: False\n"
          ]
        }
      ]
    },
    {
      "cell_type": "markdown",
      "source": [
        "## 4. Operadores de Asignación\n",
        "\n",
        "Estos operadores se utilizan para asignar valores a variables."
      ],
      "metadata": {
        "id": "RCnA3kBz7PXa"
      }
    },
    {
      "cell_type": "code",
      "source": [
        "x = 5\n",
        "print(f\"Asignación simple: x = {x}\")\n",
        "\n",
        "x += 3  # Equivalente a x = x + 3\n",
        "print(f\"Suma y asignación: x += 3, ahora x = {x}\")\n",
        "\n",
        "x -= 2  # Equivalente a x = x - 2\n",
        "print(f\"Resta y asignación: x -= 2, ahora x = {x}\")\n",
        "\n",
        "x *= 4  # Equivalente a x = x * 4\n",
        "print(f\"Multiplicación y asignación: x *= 4, ahora x = {x}\")\n",
        "\n",
        "x /= 3  # Equivalente a x = x / 3\n",
        "print(f\"División y asignación: x /= 3, ahora x = {x}\")"
      ],
      "metadata": {
        "colab": {
          "base_uri": "https://localhost:8080/"
        },
        "id": "1eha-OQh7SX0",
        "outputId": "0a5f8d83-5e45-465d-9ebf-ed43f9a06e57"
      },
      "execution_count": null,
      "outputs": [
        {
          "output_type": "stream",
          "name": "stdout",
          "text": [
            "Asignación simple: x = 5\n",
            "Suma y asignación: x += 3, ahora x = 8\n",
            "Resta y asignación: x -= 2, ahora x = 6\n",
            "Multiplicación y asignación: x *= 4, ahora x = 24\n",
            "División y asignación: x /= 3, ahora x = 8.0\n"
          ]
        }
      ]
    },
    {
      "cell_type": "markdown",
      "source": [
        "## **Convenciones de Estilo en Python**\n",
        "\n",
        "En Python, la convención de estilo más común y recomendada es usar snake_case, no camelCase. Vamos a explorar esto con más detalle.\n",
        "\n",
        "En Python, se siguen las convenciones de estilo definidas en el PEP 8 (Python Enhancement Proposal 8). Según estas guías:\n",
        "\n",
        "1. Para nombres de variables y funciones, se usa snake_case:\n",
        "\n",
        "```python\n",
        "my_variable = 5\n",
        "def calculate_average(numbers):\n",
        "    pass\n",
        "```\n",
        "\n",
        "2. Para nombres de clases, se usa PascalCase (que es similar a camelCase, pero con la primera letra también en mayúscula):\n",
        "\n",
        "```python\n",
        "class MyClass:\n",
        "    pass\n",
        "```\n",
        "\n",
        "3. Para constantes, se usan mayúsculas con guiones bajos:\n",
        "\n",
        "```python\n",
        "MAX_VALUE = 100\n",
        "```\n",
        "\n",
        "4. Para métodos y variables \"privados\" (aunque Python no tiene verdaderos privados), se usa un guion bajo al principio:\n",
        "\n",
        "```python\n",
        "class MyClass:\n",
        "    def __init__(self):\n",
        "        self._private_variable = 10\n",
        "    \n",
        "    def _private_method(self):\n",
        "        pass\n",
        "```\n",
        "\n",
        "Es importante notar que mientras camelCase es común en otros lenguajes como JavaScript o Java, en Python no se recomienda su uso para mantener la consistencia con la biblioteca estándar y la mayoría del código Python existente."
      ],
      "metadata": {
        "id": "veVZdMTEWHf8"
      }
    },
    {
      "cell_type": "markdown",
      "source": [
        "## **Funciones en Python**\n",
        "\n",
        "## Introducción\n",
        "\n",
        "Las funciones son bloques de código reutilizables que realizan tareas específicas. Son esenciales para organizar y simplificar programas. En Python, las funciones se definen con la palabra clave `def`.\n",
        "\n",
        "En este cuaderno, exploraremos el uso de funciones en Python utilizando ejemplos matemáticos. Las funciones son bloques de código reutilizables que realizan una tarea específica. Son fundamentales en la programación para organizar y estructurar nuestro código.\n",
        "\n",
        "```python\n",
        "# Ejemplo\n",
        "def nombre_funcion(parametros):\n",
        "    # Código de la función\n",
        "    # bloque\n",
        "    return valor_retorno  # Opcional\n",
        "```\n",
        "\n",
        "- **nombre_funcion**: Un nombre descriptivo para la función.\n",
        "- **parametros**: Valores de entrada que la función puede recibir (opcional).\n",
        "- **Código de la función**: Instrucciones que la función ejecuta.\n",
        "- **return**: Devuelve un valor al finalizar la función (opcional).\n",
        "\n",
        "## Ventajas de Usar Funciones\n",
        "\n",
        "1. **Reutilización de código**: Cada función puede ser llamada múltiples veces.\n",
        "2. **Modularidad**: El código está organizado en bloques lógicos.\n",
        "3. **Legibilidad**: El código es más fácil de entender y mantener.\n",
        "4. **Flexibilidad**: Podemos cambiar fácilmente partes del programa sin afectar todo el código.\n",
        "\n",
        "> Las funciones son una parte fundamental de la programación en Python. Permiten escribir código más eficiente, mantenible y reutilizable."
      ],
      "metadata": {
        "id": "wLBpy91YYGcz"
      }
    },
    {
      "cell_type": "markdown",
      "source": [
        "## Funciones con Argumentos\n",
        "\n",
        "Las funciones pueden tomar argumentos, que son valores que se pasan a la función cuando se llama. Los argumentos se especifican dentro de los paréntesis en la definición de la función."
      ],
      "metadata": {
        "id": "fCHpYbByARDU"
      }
    },
    {
      "cell_type": "code",
      "source": [
        "def saludar_a(nombre):\n",
        "  print(\"¡Hola \" + nombre + \"!\")"
      ],
      "metadata": {
        "id": "tX7o7BR4AhT3"
      },
      "execution_count": null,
      "outputs": []
    },
    {
      "cell_type": "code",
      "source": [
        "saludar_a(\"Arenita\")\n",
        "saludar_a(\"Bob Esponja\")"
      ],
      "metadata": {
        "colab": {
          "base_uri": "https://localhost:8080/"
        },
        "id": "sqNtXV_NSdPy",
        "outputId": "2bc9a37a-10bc-4b4a-e801-86f9e66c64ea"
      },
      "execution_count": null,
      "outputs": [
        {
          "output_type": "stream",
          "name": "stdout",
          "text": [
            "¡Hola Arenita!\n",
            "¡Hola Bob Esponja!\n"
          ]
        }
      ]
    },
    {
      "cell_type": "markdown",
      "source": [
        "## Funciones que Retornan Valores\n",
        "\n",
        "Las funciones pueden devolver valores usando la palabra clave `return`. El valor retornado puede ser usado en otras partes del código."
      ],
      "metadata": {
        "id": "cFoWtfBlAvLe"
      }
    },
    {
      "cell_type": "code",
      "source": [
        "def cuadrado(x):\n",
        "  return x**2"
      ],
      "metadata": {
        "id": "e4erEUTaA8Zp"
      },
      "execution_count": null,
      "outputs": []
    },
    {
      "cell_type": "code",
      "source": [
        "resultado = cuadrado(5)\n",
        "print(resultado)  # Output: 25"
      ],
      "metadata": {
        "colab": {
          "base_uri": "https://localhost:8080/"
        },
        "id": "zrpsIbeNBB2Q",
        "outputId": "a494017f-b5f8-49a9-824f-e33e71659399"
      },
      "execution_count": null,
      "outputs": [
        {
          "output_type": "execute_result",
          "data": {
            "text/plain": [
              "25"
            ]
          },
          "metadata": {},
          "execution_count": 6
        }
      ]
    },
    {
      "cell_type": "markdown",
      "source": [
        "## **Licencias**\n",
        "\n",
        "Al utilizar este material, acepto cumplir con los términos de las licencias MIT y Creative Commons BY 4.0 respectivamente.\n",
        "\n",
        "Para más detalles sobre las licencias o usos adicionales, consultar:\n",
        "- Licencia MIT: https://opensource.org/licenses/MIT\n",
        "- CC BY 4.0: https://creativecommons.org/licenses/by/4.0/deed.es"
      ],
      "metadata": {
        "id": "jXUZhsF3867Q"
      }
    }
  ]
}