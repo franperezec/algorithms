{
  "nbformat": 4,
  "nbformat_minor": 0,
  "metadata": {
    "colab": {
      "provenance": [],
      "authorship_tag": "ABX9TyPEkQLHMwvHbET+6SZMhatK",
      "include_colab_link": true
    },
    "kernelspec": {
      "name": "python3",
      "display_name": "Python 3"
    },
    "language_info": {
      "name": "python"
    }
  },
  "cells": [
    {
      "cell_type": "markdown",
      "metadata": {
        "id": "view-in-github",
        "colab_type": "text"
      },
      "source": [
        "<a href=\"https://colab.research.google.com/github/franperezec/algorithms/blob/main/13ArreglosUnidimensionalesVectores.ipynb\" target=\"_parent\"><img src=\"https://colab.research.google.com/assets/colab-badge.svg\" alt=\"Open In Colab\"/></a>"
      ]
    },
    {
      "cell_type": "markdown",
      "source": [
        "# **Arreglos Unidimensionales (Vectores) en Programación**"
      ],
      "metadata": {
        "id": "fzP8fc2DZI7-"
      }
    },
    {
      "cell_type": "markdown",
      "source": [
        "**Francisco Pérez M.**\n",
        "\n",
        "[francisco.perezxxi@gmail.com](mailto:francisco.perezxxi@gmail.com)\n",
        "\n",
        "🔔 *¡Suscríbete y activa las notificaciones para aprender más!*\n",
        "\n",
        "[Canal de YouTube - Data Science AI](https://www.youtube.com/@DataScienceAI/playlists)\n",
        "\n",
        "📚 *Recursos adicionales:*  \n",
        "📐 [GitHub con recursos](https://github.com/franperezec/algorithms)\n",
        "\n",
        "*Cómo citar este documento:*\n",
        "\n",
        "Pérez, F. (2024). *Arreglos Unidimensionales (Vectores) en Programación*. GitHub. URL: [https://github.com/franperezec/algorithms](https://github.com/franperezec/algorithms)"
      ],
      "metadata": {
        "id": "5zV1sq3J8s3I"
      }
    },
    {
      "cell_type": "markdown",
      "source": [
        "## **Introducción**\n",
        "\n",
        "Los arreglos unidimensionales, también conocidos como vectores, son estructuras de datos que permiten almacenar y manipular colecciones de elementos del mismo tipo."
      ],
      "metadata": {
        "id": "mQfiK6kuZrVf"
      }
    },
    {
      "cell_type": "markdown",
      "source": [
        "## **Concepto de vector unidimensional**\n",
        "\n",
        "Un vector es una estructura de datos compuesta por un conjunto de elementos de la misma especie, organizados linealmente y direccionados por un único subíndice. Los vectores también se conocen como arreglos lineales o unidimensionales.\n",
        "\n",
        "## Elementos de un vector\n",
        "\n",
        "Un vector está compuesto por cuatro elementos principales:\n",
        "\n",
        "1. **Nombre del vector**: Identifica la estructura de datos.\n",
        "2. **Subíndice**: Direcciona los contenidos de información del vector.\n",
        "3. **Informaciones contenidas**: Los datos almacenados en las direcciones del vector.\n",
        "4. **Rango de almacenamiento**: Desde un punto inicial hasta un punto final o tope del vector.\n",
        "\n",
        "## Representación esquemática\n",
        "\n",
        "El vector $ A $ puede ser visualizado de la siguiente manera en notación matemática:\n",
        "\n",
        "$$\n",
        "A = \\begin{bmatrix}\n",
        "10 & 34 & 56 & 78 & 50 & 60 & 7 & 8 & 19 & 100\n",
        "\\end{bmatrix}\n",
        "$$\n",
        "\n",
        "Para una comprensión más detallada, aquí se presenta la correspondencia entre índices y valores:\n",
        "\n",
        "$$\n",
        "\\begin{array}{cccccccccc}\n",
        "\\text{Índice:} & 1 & 2 & 3 & 4 & 5 & 6 & 7 & 8 & 9 & 10 \\\\\n",
        "\\text{Valor:} & 10 & 34 & 56 & 78 & 50 & 60 & 7 & 8 & 19 & 100 \\\\\n",
        "\\end{array}\n",
        "$$\n",
        "\n",
        "En este esquema:\n",
        "- $ A $ es el nombre del vector.\n",
        "- El array detalla cómo cada posición (índice o dirección) en el vector se corresponde con un valor específico.\n",
        "\n",
        "\n",
        "## Acceso a los elementos del vector\n",
        "\n",
        "Para acceder a un elemento específico del vector, se utiliza el nombre del vector seguido del subíndice entre corchetes. Por ejemplo:\n",
        "\n",
        "- $A[1] = 10$: El primer elemento del vector $A$ es $10$.\n",
        "- $A[5] = 50$: El quinto elemento del vector $A$ es $50$.\n",
        "\n",
        "Es importante notar que el subíndice y el contenido son conceptos diferentes. Por ejemplo, $A[7] = 7$, donde $7$ es tanto el subíndice como el contenido, pero tienen significados distintos."
      ],
      "metadata": {
        "id": "Df5MgTNzZ8-h"
      }
    },
    {
      "cell_type": "markdown",
      "source": [
        "## **Implementación en PSeInt**\n",
        "\n",
        "En PSeInt, los vectores se pueden implementar de la siguiente manera:\n",
        "\n",
        "```\n",
        "Algoritmo EjemploVector\n",
        "    Dimension A[10]\n",
        "    Definir i Como Entero\n",
        "    \n",
        "    Para i <- 1 Hasta 10 Con Paso 1 Hacer\n",
        "        A[i] <- i * 10\n",
        "    FinPara\n",
        "    \n",
        "    Para i <- 1 Hasta 10 Con Paso 1 Hacer\n",
        "        Escribir \"A[\", i, \"] = \", A[i]\n",
        "    FinPara\n",
        "FinAlgoritmo\n",
        "```"
      ],
      "metadata": {
        "id": "5cg08gkV-LBf"
      }
    },
    {
      "cell_type": "code",
      "source": [
        "# @title Diagrama de Flujo Vector\n",
        "from IPython.display import IFrame, display\n",
        "\n",
        "file_id = \"1yULJ6EKL2JVjdgoFfafrKYo39bu0NbTH\"\n",
        "drive_url = f\"https://drive.google.com/file/d/{file_id}/preview\"\n",
        "\n",
        "display(IFrame(src=drive_url, width=640, height=480))"
      ],
      "metadata": {
        "colab": {
          "base_uri": "https://localhost:8080/",
          "height": 502
        },
        "id": "dsEq8edxLukY",
        "outputId": "0cb2e1be-e952-4d0e-8438-c7d9a587cc47"
      },
      "execution_count": null,
      "outputs": [
        {
          "output_type": "display_data",
          "data": {
            "text/plain": [
              "<IPython.lib.display.IFrame at 0x7ba71c7a5e70>"
            ],
            "text/html": [
              "\n",
              "        <iframe\n",
              "            width=\"640\"\n",
              "            height=\"480\"\n",
              "            src=\"https://drive.google.com/file/d/1yULJ6EKL2JVjdgoFfafrKYo39bu0NbTH/preview\"\n",
              "            frameborder=\"0\"\n",
              "            allowfullscreen\n",
              "            \n",
              "        ></iframe>\n",
              "        "
            ]
          },
          "metadata": {}
        }
      ]
    },
    {
      "cell_type": "markdown",
      "source": [
        "## Implementación en Python\n",
        "\n",
        "En Python, los vectores se implementan como listas:"
      ],
      "metadata": {
        "id": "Q9sMuYOJeug0"
      }
    },
    {
      "cell_type": "code",
      "source": [
        "def ejemplo_vector():\n",
        "    A = [i * 10 for i in range(1, 11)]\n",
        "\n",
        "    for i in range(10):\n",
        "        print(f\"A[{i+1}] = {A[i]}\")\n",
        "\n",
        "# Llamamos a la función\n",
        "ejemplo_vector()"
      ],
      "metadata": {
        "colab": {
          "base_uri": "https://localhost:8080/"
        },
        "id": "QQllRewZe2P0",
        "outputId": "6e022f3f-0518-443c-fce5-3204458f2db2"
      },
      "execution_count": null,
      "outputs": [
        {
          "output_type": "stream",
          "name": "stdout",
          "text": [
            "A[1] = 10\n",
            "A[2] = 20\n",
            "A[3] = 30\n",
            "A[4] = 40\n",
            "A[5] = 50\n",
            "A[6] = 60\n",
            "A[7] = 70\n",
            "A[8] = 80\n",
            "A[9] = 90\n",
            "A[10] = 100\n"
          ]
        }
      ]
    },
    {
      "cell_type": "markdown",
      "source": [
        "## Ejemplo práctico\n",
        "\n",
        "Vamos a implementar un algoritmo para leer e imprimir los n elementos de un vector que contiene números enteros positivos."
      ],
      "metadata": {
        "id": "w2GaRtEwYlga"
      }
    },
    {
      "cell_type": "markdown",
      "source": [
        "### Implementación en PSeInt\n",
        "\n",
        "```\n",
        "Algoritmo ImpresorVector\n",
        "    Definir n, i Como Entero\n",
        "    Dimension A[50]\n",
        "    \n",
        "    Escribir \"Ingrese el número de elementos del vector (máximo 50): \"\n",
        "    Leer n\n",
        "    \n",
        "    Para i <- 1 Hasta n Con Paso 1 Hacer\n",
        "        Escribir \"Ingrese el elemento \", i, \": \"\n",
        "        Leer A[i]\n",
        "    FinPara\n",
        "    \n",
        "    Escribir \"Los elementos del vector son:\"\n",
        "    Para i <- 1 Hasta n Con Paso 1 Hacer\n",
        "        Escribir A[i]\n",
        "    FinPara\n",
        "FinAlgoritmo\n",
        "```"
      ],
      "metadata": {
        "id": "eUo4Q80SgY-R"
      }
    },
    {
      "cell_type": "code",
      "source": [
        "# @title Diagrama de Flujo Imprimir Vector\n",
        "from IPython.display import IFrame, display\n",
        "\n",
        "file_id = \"1n4DdGWHaVwYWtL2KBYCitJAXhuWr0e23\"\n",
        "drive_url = f\"https://drive.google.com/file/d/{file_id}/preview\"\n",
        "\n",
        "display(IFrame(src=drive_url, width=1000, height=480))"
      ],
      "metadata": {
        "colab": {
          "base_uri": "https://localhost:8080/",
          "height": 522
        },
        "id": "F9Cdjp3sg1dH",
        "outputId": "0c09e225-0a8c-46e4-b31e-dc153dbe0937"
      },
      "execution_count": null,
      "outputs": [
        {
          "output_type": "display_data",
          "data": {
            "text/plain": [
              "<IPython.lib.display.IFrame at 0x7ba71c7a6410>"
            ],
            "text/html": [
              "\n",
              "        <iframe\n",
              "            width=\"1000\"\n",
              "            height=\"480\"\n",
              "            src=\"https://drive.google.com/file/d/1n4DdGWHaVwYWtL2KBYCitJAXhuWr0e23/preview\"\n",
              "            frameborder=\"0\"\n",
              "            allowfullscreen\n",
              "            \n",
              "        ></iframe>\n",
              "        "
            ]
          },
          "metadata": {}
        }
      ]
    },
    {
      "cell_type": "markdown",
      "source": [
        "### **Implementación en Python**"
      ],
      "metadata": {
        "id": "12IXWkCUkEuI"
      }
    },
    {
      "cell_type": "code",
      "source": [
        "def impresor_vector():\n",
        "    n = int(input(\"Ingrese el número de elementos del vector: \"))\n",
        "    A = []\n",
        "\n",
        "    for i in range(n):\n",
        "        elemento = int(input(f\"Ingrese el elemento {i+1}: \"))\n",
        "        A.append(elemento)\n",
        "\n",
        "    print(\"Los elementos del vector son:\")\n",
        "    for elemento in A:\n",
        "        print(elemento)\n",
        "\n",
        "# Llamamos a la función\n",
        "impresor_vector()\n"
      ],
      "metadata": {
        "colab": {
          "base_uri": "https://localhost:8080/"
        },
        "id": "TnlrMbEH6J_D",
        "outputId": "4dacd69e-6009-45d4-dc53-bc2554ac1ffd"
      },
      "execution_count": null,
      "outputs": [
        {
          "output_type": "stream",
          "name": "stdout",
          "text": [
            "Ingrese el número de elementos del vector: 5\n",
            "Ingrese el elemento 1: 7\n",
            "Ingrese el elemento 2: 0\n",
            "Ingrese el elemento 3: 9\n",
            "Ingrese el elemento 4: 8\n",
            "Ingrese el elemento 5: -6\n",
            "Los elementos del vector son:\n",
            "7\n",
            "0\n",
            "9\n",
            "8\n",
            "-6\n"
          ]
        }
      ]
    },
    {
      "cell_type": "markdown",
      "source": [
        "## **Conclusión**\n",
        "\n",
        "Los vectores o arreglos unidimensionales son estructuras de datos fundamentales que permiten almacenar y manipular colecciones de elementos del mismo tipo. Su uso es esencial en muchos algoritmos y aplicaciones, desde el almacenamiento simple de datos hasta operaciones más complejas como búsquedas y ordenamientos.\n"
      ],
      "metadata": {
        "id": "6uJURqt6kcxY"
      }
    },
    {
      "cell_type": "markdown",
      "source": [
        "## Ejercicios propuestos\n",
        "\n",
        "1. Crea un programa que calcule la suma y el promedio de los elementos de un vector.\n",
        "2. Implementa un algoritmo que encuentre el elemento más grande y el más pequeño en un vector.\n",
        "3. Desarrolla un programa que invierta el orden de los elementos en un vector."
      ],
      "metadata": {
        "id": "7JA1T61GNbyk"
      }
    },
    {
      "cell_type": "markdown",
      "source": [
        "### 1. Programa que calcula la suma y el promedio de los elementos de un vector"
      ],
      "metadata": {
        "id": "g3sU7Hx9N_Du"
      }
    },
    {
      "cell_type": "code",
      "source": [
        "def suma_promedio_vector():\n",
        "    n = int(input(\"Ingrese el número de elementos del vector: \"))\n",
        "    A = []\n",
        "\n",
        "    for i in range(n):\n",
        "        elemento = int(input(f\"Ingrese el elemento {i+1}: \"))\n",
        "        A.append(elemento)\n",
        "\n",
        "    suma = sum(A)\n",
        "    promedio = suma / n\n",
        "\n",
        "    print(\"Suma de los elementos:\", suma)\n",
        "    print(\"Promedio de los elementos:\", promedio)\n",
        "\n",
        "# Llamar a la función\n",
        "suma_promedio_vector()"
      ],
      "metadata": {
        "colab": {
          "base_uri": "https://localhost:8080/"
        },
        "id": "qsXIsROVONmj",
        "outputId": "11a4250a-9c4e-4b65-e929-bb49478f7252"
      },
      "execution_count": null,
      "outputs": [
        {
          "output_type": "stream",
          "name": "stdout",
          "text": [
            "Ingrese el número de elementos del vector: 5\n",
            "Ingrese el elemento 1: 8\n",
            "Ingrese el elemento 2: 7\n",
            "Ingrese el elemento 3: 6\n",
            "Ingrese el elemento 4: 5\n",
            "Ingrese el elemento 5: 6\n",
            "Suma de los elementos: 32\n",
            "Promedio de los elementos: 6.4\n"
          ]
        }
      ]
    },
    {
      "cell_type": "markdown",
      "source": [
        "### 2. Algoritmo que encuentra el elemento más grande y el más pequeño en un vector"
      ],
      "metadata": {
        "id": "IfYgwAX_OUL3"
      }
    },
    {
      "cell_type": "code",
      "source": [
        "def min_max_vector():\n",
        "    n = int(input(\"Ingrese el número de elementos del vector: \"))\n",
        "    A = []\n",
        "\n",
        "    for i in range(n):\n",
        "        elemento = int(input(f\"Ingrese el elemento {i+1}: \"))\n",
        "        A.append(elemento)\n",
        "\n",
        "    minimo = min(A)\n",
        "    maximo = max(A)\n",
        "\n",
        "    print(\"Elemento más pequeño del vector:\", minimo)\n",
        "    print(\"Elemento más grande del vector:\", maximo)\n",
        "\n",
        "# Llamar a la función\n",
        "min_max_vector()"
      ],
      "metadata": {
        "colab": {
          "base_uri": "https://localhost:8080/"
        },
        "id": "dZhKt9TwOYi7",
        "outputId": "cad68d5f-dd7a-4aa4-aba8-eafee0d98188"
      },
      "execution_count": null,
      "outputs": [
        {
          "output_type": "stream",
          "name": "stdout",
          "text": [
            "Ingrese el número de elementos del vector: 5\n",
            "Ingrese el elemento 1: 1\n",
            "Ingrese el elemento 2: 2\n",
            "Ingrese el elemento 3: 3\n",
            "Ingrese el elemento 4: 4\n",
            "Ingrese el elemento 5: 5\n",
            "Elemento más pequeño del vector: 1\n",
            "Elemento más grande del vector: 5\n"
          ]
        }
      ]
    },
    {
      "cell_type": "markdown",
      "source": [
        "### 3. Programa que invierte el orden de los elementos en un vector"
      ],
      "metadata": {
        "id": "rmtgvc2_Ods6"
      }
    },
    {
      "cell_type": "code",
      "source": [
        "def invertir_vector():\n",
        "    n = int(input(\"Ingrese el número de elementos del vector: \"))\n",
        "    A = []\n",
        "\n",
        "    for i in range(n):\n",
        "        elemento = int(input(f\"Ingrese el elemento {i+1}: \"))\n",
        "        A.append(elemento)\n",
        "\n",
        "    A_invertido = A[::-1]\n",
        "\n",
        "    print(\"Vector original:\", A)\n",
        "    print(\"Vector invertido:\", A_invertido)\n",
        "\n",
        "# Llamar a la función\n",
        "invertir_vector()"
      ],
      "metadata": {
        "colab": {
          "base_uri": "https://localhost:8080/"
        },
        "id": "_hePFFQGOiCd",
        "outputId": "8fe65fb7-5eb4-42d5-da61-25aa4436e3bf"
      },
      "execution_count": null,
      "outputs": [
        {
          "output_type": "stream",
          "name": "stdout",
          "text": [
            "Ingrese el número de elementos del vector: 3\n",
            "Ingrese el elemento 1: 1\n",
            "Ingrese el elemento 2: 2\n",
            "Ingrese el elemento 3: 3\n",
            "Vector original: [1, 2, 3]\n",
            "Vector invertido: [3, 2, 1]\n"
          ]
        }
      ]
    },
    {
      "cell_type": "markdown",
      "source": [
        "## **Licencias**\n",
        "\n",
        "Al utilizar este material, acepto cumplir con los términos de las licencias MIT y Creative Commons BY 4.0 respectivamente.\n",
        "\n",
        "Para más detalles sobre las licencias o usos adicionales, consultar:\n",
        "- Licencia MIT: https://opensource.org/licenses/MIT\n",
        "- CC BY 4.0: https://creativecommons.org/licenses/by/4.0/deed.es"
      ],
      "metadata": {
        "id": "jXUZhsF3867Q"
      }
    }
  ]
}