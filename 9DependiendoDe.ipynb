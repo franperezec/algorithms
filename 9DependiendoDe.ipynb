{
  "nbformat": 4,
  "nbformat_minor": 0,
  "metadata": {
    "colab": {
      "provenance": [],
      "authorship_tag": "ABX9TyOouIq3eWqayFqsUSJdcw0+",
      "include_colab_link": true
    },
    "kernelspec": {
      "name": "python3",
      "display_name": "Python 3"
    },
    "language_info": {
      "name": "python"
    }
  },
  "cells": [
    {
      "cell_type": "markdown",
      "metadata": {
        "id": "view-in-github",
        "colab_type": "text"
      },
      "source": [
        "<a href=\"https://colab.research.google.com/github/franperezec/algorithms/blob/main/9DependiendoDe.ipynb\" target=\"_parent\"><img src=\"https://colab.research.google.com/assets/colab-badge.svg\" alt=\"Open In Colab\"/></a>"
      ]
    },
    {
      "cell_type": "markdown",
      "source": [
        "# **Estructura Lógica Dependiendo De en Programación**"
      ],
      "metadata": {
        "id": "fzP8fc2DZI7-"
      }
    },
    {
      "cell_type": "markdown",
      "source": [
        "**Francisco Pérez M.**\n",
        "\n",
        "[francisco.perezxxi@gmail.com](mailto:francisco.perezxxi@gmail.com)\n",
        "\n",
        "🔔 *¡Suscríbete y activa las notificaciones para aprender más!*\n",
        "\n",
        "[Canal de YouTube - Data Science AI](https://www.youtube.com/@DataScienceAI/playlists)\n",
        "\n",
        "📚 *Recursos adicionales:*  \n",
        "📐 [GitHub con recursos](https://github.com/franperezec/algorithms)\n",
        "\n",
        "*Cómo citar este documento:*\n",
        "\n",
        "Pérez, F. (2024). *Estructura Lógica Dependiendo De en Programación*. GitHub. URL: [https://github.com/franperezec/algorithms](https://github.com/franperezec/algorithms)"
      ],
      "metadata": {
        "id": "5zV1sq3J8s3I"
      }
    },
    {
      "cell_type": "markdown",
      "source": [
        "## **Introducción**\n",
        "\n",
        "La estructura lógica \"Dependiendo De\" (también conocida como \"switch\" o \"match\" en algunos lenguajes de programación) es una alternativa a la estructura condicional compuesta cuando se necesita comparar una variable con valores específicos y ejecutar diferentes bloques de código según el valor que coincida."
      ],
      "metadata": {
        "id": "mQfiK6kuZrVf"
      }
    },
    {
      "cell_type": "markdown",
      "source": [
        "## **Concepto**\n",
        "\n",
        "La estructura \"Dependiendo De\" permite la ejecución de un conjunto de instrucciones basado en el valor de una expresión. Cada valor posible de la expresión está asociado con un bloque de código único. Características principales:\n",
        "\n",
        "- Se evalúa una expresión o variable.\n",
        "- Se compara el resultado con varios casos posibles.\n",
        "- Se ejecuta el bloque de código correspondiente al caso que coincide.\n",
        "- Generalmente incluye una opción por defecto para manejar casos no especificados."
      ],
      "metadata": {
        "id": "Df5MgTNzZ8-h"
      }
    },
    {
      "cell_type": "code",
      "source": [
        "# @title Estructura Dependiedo De\n",
        "from IPython.display import IFrame, display\n",
        "\n",
        "file_id = \"1ur98X-EoBLHNRn1BUoXdoaaGU_1lgIIF\"\n",
        "drive_url = f\"https://drive.google.com/file/d/{file_id}/preview\"\n",
        "\n",
        "display(IFrame(src=drive_url, width=640, height=480))"
      ],
      "metadata": {
        "colab": {
          "base_uri": "https://localhost:8080/",
          "height": 502
        },
        "id": "WDxB_jxmaAwE",
        "outputId": "4b96f74c-423c-4a8c-c54d-fe6777fd6db8"
      },
      "execution_count": null,
      "outputs": [
        {
          "output_type": "display_data",
          "data": {
            "text/plain": [
              "<IPython.lib.display.IFrame at 0x7ed2658bdff0>"
            ],
            "text/html": [
              "\n",
              "        <iframe\n",
              "            width=\"640\"\n",
              "            height=\"480\"\n",
              "            src=\"https://drive.google.com/file/d/1ur98X-EoBLHNRn1BUoXdoaaGU_1lgIIF/preview\"\n",
              "            frameborder=\"0\"\n",
              "            allowfullscreen\n",
              "            \n",
              "        ></iframe>\n",
              "        "
            ]
          },
          "metadata": {}
        }
      ]
    },
    {
      "cell_type": "markdown",
      "source": [
        "## **Sintaxis general**\n",
        "\n",
        "La estructura general de \"Dependiendo De\" es:\n",
        "\n",
        "```\n",
        "Dependiendo De (expresión)\n",
        "    Caso valor1:\n",
        "        Instrucciones 1\n",
        "    Caso valor2:\n",
        "        Instrucciones 2\n",
        "    ...\n",
        "    Caso valorN:\n",
        "        Instrucciones N\n",
        "    Otro:\n",
        "        Instrucciones por defecto\n",
        "Fin Dependiendo De\n",
        "```"
      ],
      "metadata": {
        "id": "zF1F3dt0bglo"
      }
    },
    {
      "cell_type": "code",
      "source": [
        "# @title Ejemplo de Estructura Dependiedo De\n",
        "from IPython.display import IFrame, display\n",
        "\n",
        "file_id = \"1lDOf0-aJwD1q1XtIZ20CmhOTZ1pujpu8\"\n",
        "drive_url = f\"https://drive.google.com/file/d/{file_id}/preview\"\n",
        "\n",
        "display(IFrame(src=drive_url, width=1000, height=400))"
      ],
      "metadata": {
        "colab": {
          "base_uri": "https://localhost:8080/",
          "height": 421
        },
        "id": "81vBY13weFFA",
        "outputId": "18ebd0c5-79d9-48fc-b7b7-f32ce651aea9"
      },
      "execution_count": null,
      "outputs": [
        {
          "output_type": "display_data",
          "data": {
            "text/plain": [
              "<IPython.lib.display.IFrame at 0x7fc2d58ad4e0>"
            ],
            "text/html": [
              "\n",
              "        <iframe\n",
              "            width=\"1000\"\n",
              "            height=\"400\"\n",
              "            src=\"https://drive.google.com/file/d/1lDOf0-aJwD1q1XtIZ20CmhOTZ1pujpu8/preview\"\n",
              "            frameborder=\"0\"\n",
              "            allowfullscreen\n",
              "            \n",
              "        ></iframe>\n",
              "        "
            ]
          },
          "metadata": {}
        }
      ]
    },
    {
      "cell_type": "markdown",
      "source": [
        "## **Implementación en PSeInt**\n",
        "\n",
        "En PSeInt, la estructura \"Dependiendo De\" se implementa de la siguiente manera:\n",
        "\n",
        "```\n",
        "Algoritmo EjemploDependiendoDe\n",
        "    Definir opcion Como Entero\n",
        "    \n",
        "    Escribir \"Ingrese una opción (1-3): \"\n",
        "    Leer opcion\n",
        "    \n",
        "    Segun opcion Hacer\n",
        "        1:\n",
        "            Escribir \"Ha seleccionado la opción 1\"\n",
        "        2:\n",
        "            Escribir \"Ha seleccionado la opción 2\"\n",
        "        3:\n",
        "            Escribir \"Ha seleccionado la opción 3\"\n",
        "        De Otro Modo:\n",
        "            Escribir \"Opción no válida\"\n",
        "    FinSegun\n",
        "    \n",
        "    Escribir \"Fin del programa\"\n",
        "FinAlgoritmo\n",
        "```"
      ],
      "metadata": {
        "id": "yOxsboEUboc1"
      }
    },
    {
      "cell_type": "markdown",
      "source": [
        "## Implementación en Python\n",
        "\n",
        "Python no tiene una estructura \"switch\" nativa, pero a partir de Python 3.10 se introdujo la estructura \"match\". Para versiones anteriores, se puede simular con diccionarios o una serie de if-elif. Aquí un ejemplo usando \"match\":"
      ],
      "metadata": {
        "id": "Q9sMuYOJeug0"
      }
    },
    {
      "cell_type": "code",
      "source": [
        "def ejemplo_dependiendo_de():\n",
        "    opcion = int(input(\"Ingrese una opción (1-3): \"))\n",
        "\n",
        "    match opcion:\n",
        "        case 1:\n",
        "            print(\"Ha seleccionado la opción 1\")\n",
        "        case 2:\n",
        "            print(\"Ha seleccionado la opción 2\")\n",
        "        case 3:\n",
        "            print(\"Ha seleccionado la opción 3\")\n",
        "        case _:\n",
        "            print(\"Opción no válida\")\n",
        "\n",
        "    print(\"Fin del programa\")\n",
        "\n",
        "# Llamamos a la función\n",
        "ejemplo_dependiendo_de()"
      ],
      "metadata": {
        "colab": {
          "base_uri": "https://localhost:8080/"
        },
        "id": "QQllRewZe2P0",
        "outputId": "ee5863c1-b83b-4d2f-96cb-f04e7c23a76b"
      },
      "execution_count": null,
      "outputs": [
        {
          "output_type": "stream",
          "name": "stdout",
          "text": [
            "Ingrese una opción (1-3): 1\n",
            "Ha seleccionado la opción 1\n",
            "Fin del programa\n"
          ]
        }
      ]
    },
    {
      "cell_type": "code",
      "source": [
        "# Para versiones anteriores a Python 3.10:\n",
        "\n",
        "def ejemplo_dependiendo_de():\n",
        "    opcion = int(input(\"Ingrese una opción (1-3): \"))\n",
        "\n",
        "    opciones = {\n",
        "        1: \"Ha seleccionado la opción 1\",\n",
        "        2: \"Ha seleccionado la opción 2\",\n",
        "        3: \"Ha seleccionado la opción 3\"\n",
        "    }\n",
        "\n",
        "    print(opciones.get(opcion, \"Opción no válida\"))\n",
        "    print(\"Fin del programa\")\n",
        "\n",
        "# Llamamos a la función\n",
        "ejemplo_dependiendo_de()"
      ],
      "metadata": {
        "colab": {
          "base_uri": "https://localhost:8080/"
        },
        "id": "9hNDILUse-u8",
        "outputId": "7ac82e7e-1e73-43ce-8398-0e02f22b7b1b"
      },
      "execution_count": null,
      "outputs": [
        {
          "output_type": "stream",
          "name": "stdout",
          "text": [
            "Ingrese una opción (1-3): 1\n",
            "Ha seleccionado la opción 1\n",
            "Fin del programa\n"
          ]
        }
      ]
    },
    {
      "cell_type": "markdown",
      "source": [
        "## **Ejemplo práctico: Calculadora básica**\n",
        "\n",
        "Vamos a implementar una calculadora básica que realiza operaciones dependiendo de la opción seleccionada por el usuario."
      ],
      "metadata": {
        "id": "182H8G7GfO7N"
      }
    },
    {
      "cell_type": "markdown",
      "source": [
        "### **Implementación en PSeInt**\n",
        "\n",
        "```\n",
        "Algoritmo CalculadoraBasica\n",
        "    Definir opcion Como Entero\n",
        "    Definir n, m, resultado Como Real\n",
        "    \n",
        "    Escribir \"Calculadora Básica\"\n",
        "    Escribir \"1. Suma\"\n",
        "    Escribir \"2. Resta\"\n",
        "    Escribir \"3. Multiplicación\"\n",
        "    Escribir \"4. División\"\n",
        "    Escribir \"5. Exponenciación\"\n",
        "    Escribir \"Por favor, digite una de las opciones únicamente: \"\n",
        "    Leer opcion\n",
        "    \n",
        "    Escribir \"Ingrese el primer número: \"\n",
        "    Leer n\n",
        "    Escribir \"Ingrese el segundo número: \"\n",
        "    Leer m\n",
        "    \n",
        "    Segun opcion Hacer\n",
        "        1:\n",
        "            resultado <- n + m\n",
        "            Escribir \"El valor de la suma es igual a \", resultado\n",
        "        2:\n",
        "            resultado <- n - m\n",
        "            Escribir \"El valor de la resta es igual a \", resultado\n",
        "        3:\n",
        "            resultado <- n * m\n",
        "            Escribir \"El valor de la multiplicación es igual a \", resultado\n",
        "        4:\n",
        "            Si m <> 0 Entonces\n",
        "                resultado <- n / m\n",
        "                Escribir \"El valor de la división es igual a \", resultado\n",
        "            Sino\n",
        "                Escribir \"Error: División por cero\"\n",
        "            FinSi\n",
        "        5:\n",
        "            resultado <- n ^ m\n",
        "            Escribir \"El valor de la exponenciación es igual a \", resultado\n",
        "        De Otro Modo:\n",
        "            Escribir \"Opción no válida\"\n",
        "    FinSegun\n",
        "FinAlgoritmo\n",
        "```"
      ],
      "metadata": {
        "id": "eUo4Q80SgY-R"
      }
    },
    {
      "cell_type": "code",
      "source": [
        "# @title Diagrama de Flujo Calculadora Básica\n",
        "from IPython.display import IFrame, display\n",
        "\n",
        "file_id = \"1DtfzxTrtw-mB8OPphkxNRHkUdeplIckx\"\n",
        "drive_url = f\"https://drive.google.com/file/d/{file_id}/preview\"\n",
        "\n",
        "display(IFrame(src=drive_url, width=1000, height=480))"
      ],
      "metadata": {
        "colab": {
          "base_uri": "https://localhost:8080/",
          "height": 501
        },
        "id": "F9Cdjp3sg1dH",
        "outputId": "7369338e-0611-4832-ae7c-7ee1b71c1c03"
      },
      "execution_count": null,
      "outputs": [
        {
          "output_type": "display_data",
          "data": {
            "text/plain": [
              "<IPython.lib.display.IFrame at 0x7fc2d58af250>"
            ],
            "text/html": [
              "\n",
              "        <iframe\n",
              "            width=\"1000\"\n",
              "            height=\"480\"\n",
              "            src=\"https://drive.google.com/file/d/1DtfzxTrtw-mB8OPphkxNRHkUdeplIckx/preview\"\n",
              "            frameborder=\"0\"\n",
              "            allowfullscreen\n",
              "            \n",
              "        ></iframe>\n",
              "        "
            ]
          },
          "metadata": {}
        }
      ]
    },
    {
      "cell_type": "markdown",
      "source": [
        "### **Implementación en Python**"
      ],
      "metadata": {
        "id": "12IXWkCUkEuI"
      }
    },
    {
      "cell_type": "code",
      "source": [
        "def calculadora_basica():\n",
        "    print(\"Calculadora Básica\")\n",
        "    print(\"1. Suma\")\n",
        "    print(\"2. Resta\")\n",
        "    print(\"3. Multiplicación\")\n",
        "    print(\"4. División\")\n",
        "    print(\"5. Exponenciación\")\n",
        "\n",
        "    opcion = int(input(\"Por favor, digite una de las opciones únicamente: \"))\n",
        "\n",
        "    n = float(input(\"Ingrese el primer número: \"))\n",
        "    m = float(input(\"Ingrese el segundo número: \"))\n",
        "\n",
        "    match opcion:\n",
        "        case 1:\n",
        "            resultado = n + m\n",
        "            print(f\"El valor de la suma es igual a {resultado}\")\n",
        "        case 2:\n",
        "            resultado = n - m\n",
        "            print(f\"El valor de la resta es igual a {resultado}\")\n",
        "        case 3:\n",
        "            resultado = n * m\n",
        "            print(f\"El valor de la multiplicación es igual a {resultado}\")\n",
        "        case 4:\n",
        "            if m != 0:\n",
        "                resultado = n / m\n",
        "                print(f\"El valor de la división es igual a {resultado}\")\n",
        "            else:\n",
        "                print(\"Error: División por cero\")\n",
        "        case 5:\n",
        "            resultado = n ** m\n",
        "            print(f\"El valor de la exponenciación es igual a {resultado}\")\n",
        "        case _:\n",
        "            print(\"Opción no válida\")\n",
        "\n",
        "# Llamamos a la función\n",
        "calculadora_basica()"
      ],
      "metadata": {
        "colab": {
          "base_uri": "https://localhost:8080/"
        },
        "id": "VGIY-a38kD2I",
        "outputId": "30c30077-01be-43d4-dc22-d38da51a52fb"
      },
      "execution_count": null,
      "outputs": [
        {
          "output_type": "stream",
          "name": "stdout",
          "text": [
            "Calculadora Básica\n",
            "1. Suma\n",
            "2. Resta\n",
            "3. Multiplicación\n",
            "4. División\n",
            "5. Exponenciación\n",
            "Por favor, digite una de las opciones únicamente: 1\n",
            "Ingrese el primer número: 1\n",
            "Ingrese el segundo número: 1\n",
            "El valor de la suma es igual a 2.0\n"
          ]
        }
      ]
    },
    {
      "cell_type": "markdown",
      "source": [
        "## **Conclusión**\n",
        "\n",
        "La estructura \"Dependiendo De\" es una herramienta poderosa para manejar múltiples casos basados en el valor de una expresión. Es especialmente útil para implementar menús de opciones y para simplificar código que de otra manera requeriría múltiples declaraciones if-elif."
      ],
      "metadata": {
        "id": "6uJURqt6kcxY"
      }
    },
    {
      "cell_type": "markdown",
      "source": [
        "## **Ejercicios propuestos**\n",
        "\n",
        "1. Desarrolla un programa que simule una máquina expendedora, permitiendo al usuario seleccionar diferentes productos y mostrando el precio correspondiente.\n",
        "\n",
        "¡Practica estos conceptos y ejercicios para fortalecer tu comprensión de la estructura \"Dependiendo De\" en programación!"
      ],
      "metadata": {
        "id": "Yz9AbPYPo0oH"
      }
    },
    {
      "cell_type": "markdown",
      "source": [
        "### **Desarrollo ejercicios propuestos**"
      ],
      "metadata": {
        "id": "cjtp33E2tgGk"
      }
    },
    {
      "cell_type": "code",
      "source": [
        "def maquina_expendedora():\n",
        "    productos = {\n",
        "        \"1\": {\"nombre\": \"Agua\", \"precio\": 1.0},\n",
        "        \"2\": {\"nombre\": \"Refresco\", \"precio\": 1.5},\n",
        "        \"3\": {\"nombre\": \"Chips\", \"precio\": 1.2},\n",
        "        \"4\": {\"nombre\": \"Chocolate\", \"precio\": 1.8},\n",
        "        \"5\": {\"nombre\": \"Galletas\", \"precio\": 1.3}\n",
        "    }\n",
        "\n",
        "    print(\"Bienvenido a la máquina expendedora\")\n",
        "    print(\"Productos disponibles:\")\n",
        "\n",
        "    for codigo, producto in productos.items():\n",
        "        print(f\"{codigo}: {producto['nombre']} - ${producto['precio']:.2f}\")\n",
        "\n",
        "    seleccion = input(\"Selecciona el código del producto que deseas comprar: \")\n",
        "\n",
        "    match seleccion:\n",
        "        case \"1\" | \"2\" | \"3\" | \"4\" | \"5\":\n",
        "            producto_seleccionado = productos[seleccion]\n",
        "            print(f\"Has seleccionado: {producto_seleccionado['nombre']}, Precio: ${producto_seleccionado['precio']:.2f}\")\n",
        "        case _:\n",
        "            print(\"Código de producto inválido\")\n",
        "\n",
        "# Llamar a la función\n",
        "maquina_expendedora()\n",
        "\n"
      ],
      "metadata": {
        "colab": {
          "base_uri": "https://localhost:8080/"
        },
        "id": "vOGktoWaocpF",
        "outputId": "65a219b6-1185-459a-c444-ca7b8cdd0297"
      },
      "execution_count": null,
      "outputs": [
        {
          "output_type": "stream",
          "name": "stdout",
          "text": [
            "Bienvenido a la máquina expendedora\n",
            "Productos disponibles:\n",
            "1: Agua - $1.00\n",
            "2: Refresco - $1.50\n",
            "3: Chips - $1.20\n",
            "4: Chocolate - $1.80\n",
            "5: Galletas - $1.30\n",
            "Selecciona el código del producto que deseas comprar: 2\n",
            "Has seleccionado: Refresco, Precio: $1.50\n"
          ]
        }
      ]
    },
    {
      "cell_type": "markdown",
      "source": [
        "## **Licencias**\n",
        "\n",
        "Al utilizar este material, acepto cumplir con los términos de las licencias MIT y Creative Commons BY 4.0 respectivamente.\n",
        "\n",
        "Para más detalles sobre las licencias o usos adicionales, consultar:\n",
        "- Licencia MIT: https://opensource.org/licenses/MIT\n",
        "- CC BY 4.0: https://creativecommons.org/licenses/by/4.0/deed.es"
      ],
      "metadata": {
        "id": "jXUZhsF3867Q"
      }
    }
  ]
}