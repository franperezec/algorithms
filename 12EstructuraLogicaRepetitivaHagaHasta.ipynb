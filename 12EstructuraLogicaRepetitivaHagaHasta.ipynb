{
  "nbformat": 4,
  "nbformat_minor": 0,
  "metadata": {
    "colab": {
      "provenance": [],
      "authorship_tag": "ABX9TyNwIuZmfRqSxnEX8hucQ4St",
      "include_colab_link": true
    },
    "kernelspec": {
      "name": "python3",
      "display_name": "Python 3"
    },
    "language_info": {
      "name": "python"
    }
  },
  "cells": [
    {
      "cell_type": "markdown",
      "metadata": {
        "id": "view-in-github",
        "colab_type": "text"
      },
      "source": [
        "<a href=\"https://colab.research.google.com/github/franperezec/algorithms/blob/main/12EstructuraLogicaRepetitivaHagaHasta.ipynb\" target=\"_parent\"><img src=\"https://colab.research.google.com/assets/colab-badge.svg\" alt=\"Open In Colab\"/></a>"
      ]
    },
    {
      "cell_type": "markdown",
      "source": [
        "# **Estructura Lógica Repetitiva Haga Hasta en Programación**"
      ],
      "metadata": {
        "id": "fzP8fc2DZI7-"
      }
    },
    {
      "cell_type": "markdown",
      "source": [
        "**Francisco Pérez M.**\n",
        "\n",
        "[francisco.perezxxi@gmail.com](mailto:francisco.perezxxi@gmail.com)\n",
        "\n",
        "🔔 *¡Suscríbete y activa las notificaciones para aprender más!*\n",
        "\n",
        "[Canal de YouTube - Data Science AI](https://www.youtube.com/@DataScienceAI/playlists)\n",
        "\n",
        "📚 *Recursos adicionales:*  \n",
        "📐 [GitHub con recursos](https://github.com/franperezec/algorithms)\n",
        "\n",
        "*Cómo citar este documento:*\n",
        "\n",
        "Pérez, F. (2024). *Estructura Lógica Repetitiva Haga Hasta en Programación*. GitHub. URL: [https://github.com/franperezec/algorithms](https://github.com/franperezec/algorithms)"
      ],
      "metadata": {
        "id": "5zV1sq3J8s3I"
      }
    },
    {
      "cell_type": "markdown",
      "source": [
        "## **Introducción**\n",
        "\n",
        "La estructura lógica repetitiva \"Haga Hasta\" (conocida como `do-while` en muchos lenguajes de programación) es una herramienta importante en programación que permite ejecutar un bloque de código al menos una vez y luego repetirlo mientras una condición sea falsa."
      ],
      "metadata": {
        "id": "mQfiK6kuZrVf"
      }
    },
    {
      "cell_type": "markdown",
      "source": [
        "## **Concepto**\n",
        "\n",
        "> La estructura \"Haga Hasta\" permite la ejecución repetitiva de un conjunto de instrucciones hasta que se cumpla una condición específica.\n",
        "\n",
        "Características principales:\n",
        "- Las instrucciones dentro del ciclo se ejecutan al menos una vez.\n",
        "- Después de cada ejecución, se evalúa la condición.\n",
        "- El ciclo continúa mientras la condición sea falsa.\n",
        "- El ciclo termina cuando la condición se vuelve verdadera."
      ],
      "metadata": {
        "id": "Df5MgTNzZ8-h"
      }
    },
    {
      "cell_type": "code",
      "source": [
        "# @title Estructura Lógica Repetitiva Haga Hasta\n",
        "from IPython.display import IFrame, display\n",
        "\n",
        "file_id = \"12Yo9Jps_3Oq3YY3JuNWBwaoxJylysNTD\"\n",
        "drive_url = f\"https://drive.google.com/file/d/{file_id}/preview\"\n",
        "\n",
        "display(IFrame(src=drive_url, width=640, height=480))"
      ],
      "metadata": {
        "colab": {
          "base_uri": "https://localhost:8080/",
          "height": 502
        },
        "id": "WDxB_jxmaAwE",
        "outputId": "ec888a3b-fbcb-4600-a27e-73cdaeecf1bb"
      },
      "execution_count": null,
      "outputs": [
        {
          "output_type": "display_data",
          "data": {
            "text/plain": [
              "<IPython.lib.display.IFrame at 0x7cf432e31ff0>"
            ],
            "text/html": [
              "\n",
              "        <iframe\n",
              "            width=\"640\"\n",
              "            height=\"480\"\n",
              "            src=\"https://drive.google.com/file/d/12Yo9Jps_3Oq3YY3JuNWBwaoxJylysNTD/preview\"\n",
              "            frameborder=\"0\"\n",
              "            allowfullscreen\n",
              "            \n",
              "        ></iframe>\n",
              "        "
            ]
          },
          "metadata": {}
        }
      ]
    },
    {
      "cell_type": "markdown",
      "source": [
        "## **Sintaxis general**\n",
        "\n",
        "La estructura general de \"Haga Hasta\" es:\n",
        "\n",
        "```\n",
        "Haga\n",
        "    Instrucción 1\n",
        "    Instrucción 2\n",
        "    ...\n",
        "    Instrucción n\n",
        "Hasta Que (Condición)\n",
        "```"
      ],
      "metadata": {
        "id": "zF1F3dt0bglo"
      }
    },
    {
      "cell_type": "markdown",
      "source": [
        "## **Implementación en PSeInt**\n",
        "\n",
        "En PSeInt, la estructura \"Haga Hasta\" se implementa de la siguiente manera:\n",
        "\n",
        "```\n",
        "Algoritmo EjemploHagaHasta\n",
        "    Definir numero Como Entero\n",
        "    \n",
        "    Repetir\n",
        "        Escribir \"Ingrese un número positivo: \"\n",
        "        Leer numero\n",
        "    Hasta Que numero > 0\n",
        "    \n",
        "    Escribir \"Ha ingresado un número positivo: \", numero\n",
        "FinAlgoritmo\n",
        "```"
      ],
      "metadata": {
        "id": "5cg08gkV-LBf"
      }
    },
    {
      "cell_type": "code",
      "source": [
        "# @title Ejemplo de Estructura Lógica Repetitiva Haga Hasta\n",
        "from IPython.display import IFrame, display\n",
        "\n",
        "file_id = \"1-bTGTA4I7mUEqzGSe9IM8KVCfaIBxC0a\"\n",
        "drive_url = f\"https://drive.google.com/file/d/{file_id}/preview\"\n",
        "\n",
        "display(IFrame(src=drive_url, width=500, height=500))"
      ],
      "metadata": {
        "colab": {
          "base_uri": "https://localhost:8080/",
          "height": 522
        },
        "id": "81vBY13weFFA",
        "outputId": "b4fe0e33-1671-4270-b859-66658c711c64"
      },
      "execution_count": null,
      "outputs": [
        {
          "output_type": "display_data",
          "data": {
            "text/plain": [
              "<IPython.lib.display.IFrame at 0x7cf432e31930>"
            ],
            "text/html": [
              "\n",
              "        <iframe\n",
              "            width=\"500\"\n",
              "            height=\"500\"\n",
              "            src=\"https://drive.google.com/file/d/1-bTGTA4I7mUEqzGSe9IM8KVCfaIBxC0a/preview\"\n",
              "            frameborder=\"0\"\n",
              "            allowfullscreen\n",
              "            \n",
              "        ></iframe>\n",
              "        "
            ]
          },
          "metadata": {}
        }
      ]
    },
    {
      "cell_type": "markdown",
      "source": [
        "## Implementación en Python\n",
        "\n",
        "Python no tiene una estructura `do-while` nativa, pero se puede simular usando un bucle `while` con una condición que siempre se cumple inicialmente:"
      ],
      "metadata": {
        "id": "Q9sMuYOJeug0"
      }
    },
    {
      "cell_type": "code",
      "source": [
        "def ejemplo_haga_hasta():\n",
        "    while True:\n",
        "        numero = int(input(\"Ingrese un número positivo: \"))\n",
        "        if numero > 0:\n",
        "            break\n",
        "\n",
        "    print(f\"Ha ingresado un número positivo: {numero}\")\n",
        "\n",
        "# Llamamos a la función\n",
        "ejemplo_haga_hasta()"
      ],
      "metadata": {
        "colab": {
          "base_uri": "https://localhost:8080/"
        },
        "id": "QQllRewZe2P0",
        "outputId": "18959595-f426-41fb-9ac8-4a91ee0a6c67"
      },
      "execution_count": null,
      "outputs": [
        {
          "output_type": "stream",
          "name": "stdout",
          "text": [
            "Ingrese un número positivo: -1\n",
            "Ingrese un número positivo: -2\n",
            "Ingrese un número positivo: 0\n",
            "Ingrese un número positivo: 1\n",
            "Ha ingresado un número positivo: 1\n"
          ]
        }
      ]
    },
    {
      "cell_type": "markdown",
      "source": [
        "## Usos Comunes del Ciclo `Hacer Hasta`\n",
        "\n",
        "La estructura `Hacer Hasta` es útil en muchos escenarios, incluyendo:\n",
        "\n",
        "1. **Validación de Entradas**:\n",
        "   Este ciclo es ideal para validar entradas del usuario, asegurando que las entradas cumplan con ciertos criterios antes de proceder.\n",
        "   ```python\n",
        "   while True:\n",
        "       entrada = input(\"Ingrese un número positivo: \")\n",
        "       if entrada.isdigit() and int(entrada) > 0:\n",
        "           numero = int(entrada)\n",
        "           break\n",
        "       print(\"Entrada inválida. Ingrese un número positivo.\")\n",
        "   print(\"Número ingresado correctamente:\", numero)\n",
        "   ```\n",
        "\n",
        "2. **Menú Interactivo**:\n",
        "   El ciclo `Hacer Hasta` se puede utilizar para crear menús interactivos, permitiendo a los usuarios seleccionar opciones hasta que elijan salir.\n",
        "   ```python\n",
        "   opcion = ''\n",
        "   while True:\n",
        "       print(\"Menú:\")\n",
        "       print(\"1. Opción 1\")\n",
        "       print(\"2. Opción 2\")\n",
        "       print(\"3. Salir\")\n",
        "       opcion = input(\"Seleccione una opción: \")\n",
        "       if opcion == '3':\n",
        "           print(\"Saliendo del menú\")\n",
        "           break\n",
        "       elif opcion == '1':\n",
        "           print(\"Opción 1 seleccionada\")\n",
        "       elif opcion == '2':\n",
        "           print(\"Opción 2 seleccionada\")\n",
        "       else:\n",
        "           print(\"Opción inválida\")\n",
        "   ```\n",
        "\n",
        "3. **Procesamiento de Datos Hasta un Valor de Centinela**:\n",
        "   Este ciclo es útil para procesar datos hasta que se encuentre un valor centinela que indica el final de los datos.\n",
        "   ```python\n",
        "   while True:\n",
        "       dato = input(\"Ingrese un dato (o 'fin' para terminar): \")\n",
        "       if dato == 'fin':\n",
        "           break\n",
        "       print(\"Dato ingresado:\", dato)\n",
        "   ```\n",
        "\n",
        "4. **Cálculo de Factoriales**:\n",
        "   El ciclo `Hacer Hasta` se puede usar para calcular el factorial de un número, ejecutando el cálculo al menos una vez.\n",
        "   ```python\n",
        "   numero = int(input(\"Ingrese un número para calcular su factorial: \"))\n",
        "   resultado = 1\n",
        "   contador = 1\n",
        "   while True:\n",
        "       resultado *= contador\n",
        "       contador += 1\n",
        "       if contador > numero:\n",
        "           break\n",
        "   print(f\"El factorial de {numero} es {resultado}\")\n",
        "   ```\n",
        "\n",
        "5. **Generación de Números Aleatorios Hasta Cumplir una Condición**:\n",
        "   Generar números aleatorios hasta que se cumpla una condición específica es otro uso común del ciclo `Hacer Hasta`.\n",
        "   ```python\n",
        "   import random\n",
        "   while True:\n",
        "       numero_aleatorio = random.randint(1, 100)\n",
        "       print(\"Número aleatorio generado:\", numero_aleatorio)\n",
        "       if numero_aleatorio > 90:\n",
        "           break\n",
        "   ```\n",
        "\n",
        "6. **Repetición de Operaciones Matemáticas**:\n",
        "   Utilizando un ciclo `Hacer Hasta`, se pueden repetir operaciones matemáticas hasta alcanzar un resultado deseado.\n",
        "   ```python\n",
        "   x = 0\n",
        "   while True:\n",
        "       x += 1\n",
        "       if x**2 > 100:\n",
        "           break\n",
        "   print(f\"El menor número cuyo cuadrado es mayor que 100 es {x}\")\n",
        "   ```\n",
        "\n",
        "7. **Lectura de Datos desde un Archivo Hasta el Final del Archivo**:\n",
        "   Este ciclo es útil para leer datos de un archivo hasta alcanzar el final del archivo.\n",
        "   ```python\n",
        "   with open('datos.txt', 'r') as archivo:\n",
        "       while True:\n",
        "           linea = archivo.readline()\n",
        "           if not linea:\n",
        "               break\n",
        "           print(\"Línea leída:\", linea.strip())\n",
        "   ```\n",
        "\n",
        "8. **Simulación de Procesos hasta una Condición de Parada**:\n",
        "   Simular procesos hasta que se cumpla una condición específica es un uso común del ciclo `Hacer Hasta`.\n",
        "   ```python\n",
        "   tiempo = 0\n",
        "   while True:\n",
        "       tiempo += 1\n",
        "       if tiempo >= 10:  # Simular hasta que el tiempo alcance 10 unidades\n",
        "           break\n",
        "   print(\"Proceso simulado durante 10 unidades de tiempo\")\n",
        "   ```\n",
        "\n",
        "9. **Ejecución Basada en una Condición**:\n",
        "   El ciclo `do-while` asegura que el bloque de código se ejecute al menos una vez. Por ejemplo, mantener un contador hasta que alcance un valor específico.\n",
        "   ```python\n",
        "   contador = 0\n",
        "   while True:\n",
        "       print(contador)\n",
        "       contador += 1\n",
        "       if contador >= 10:\n",
        "           break\n",
        "   ```\n",
        "\n",
        "10. **Cálculo de Sumatorias**:\n",
        "   Similar al ciclo `for`, `do-while` puede usarse para calcular sumatorias. Por ejemplo, la sumatoria de los primeros `n` números.\n",
        "   $$\n",
        "   \\sum_{i=1}^{n} i\n",
        "   $$\n",
        "   ```python\n",
        "   suma = 0\n",
        "   i = 1\n",
        "   n = 10  # Ejemplo de n\n",
        "   while True:\n",
        "       suma += i\n",
        "       i += 1\n",
        "       if i > n:\n",
        "           break\n",
        "   print(suma)\n",
        "   ```\n",
        "\n",
        "11. **Cálculo de Productorias**:\n",
        "   La productoria se puede calcular fácilmente con un ciclo `do-while`. Por ejemplo, el cálculo de `n!` (factorial de `n`).\n",
        "   $$\n",
        "   n! = \\prod_{i=1}^{n} i\n",
        "   $$\n",
        "   ```python\n",
        "   factorial = 1\n",
        "   i = 1\n",
        "   n = 5  # Ejemplo de n\n",
        "   while True:\n",
        "       factorial *= i\n",
        "       i += 1\n",
        "       if i > n:\n",
        "           break\n",
        "   print(factorial)\n",
        "   ```\n",
        "\n",
        "12. **Generación de Series**:\n",
        "   Utilizando un ciclo `do-while`, se pueden calcular series matemáticas, como la serie de Fibonacci hasta que un término supere un valor específico.\n",
        "   ```python\n",
        "   a, b = 0, 1\n",
        "   while True:\n",
        "       print(a)\n",
        "       a, b = b, a + b\n",
        "       if a > 100:  # Limitar los valores de Fibonacci a menos de 100\n",
        "           break\n",
        "   ```\n",
        "\n",
        "Estos son algunos ejemplos de cómo se puede utilizar la estructura `do-while` (simulada con `while` en Python) para realizar tareas comunes y operaciones matemáticas."
      ],
      "metadata": {
        "id": "182H8G7GfO7N"
      }
    },
    {
      "cell_type": "markdown",
      "source": [
        "## Comparación con Mientras Que\n",
        "\n",
        "Es importante notar la diferencia entre \"Haga Hasta\" y \"Mientras Que\":\n",
        "\n",
        "1. **Haga Hasta (Do-While)**:\n",
        "   - Ejecuta las instrucciones al menos una vez.\n",
        "   - Evalúa la condición después de ejecutar las instrucciones.\n",
        "   - Continúa si la condición es falsa.\n",
        "\n",
        "2. **Mientras Que (While)**:\n",
        "   - Evalúa la condición antes de ejecutar las instrucciones.\n",
        "   - Puede no ejecutar las instrucciones si la condición es falsa desde el principio.\n",
        "   - Continúa si la condición es verdadera."
      ],
      "metadata": {
        "id": "qwIHsJQtCP2U"
      }
    },
    {
      "cell_type": "markdown",
      "source": [
        "## Ejemplo práctico\n",
        "\n",
        "Vamos a implementar un programa que solicita al usuario que adivine un número entre 1 y 100."
      ],
      "metadata": {
        "id": "w2GaRtEwYlga"
      }
    },
    {
      "cell_type": "markdown",
      "source": [
        "### Implementación en PSeInt\n",
        "\n",
        "```\n",
        "Algoritmo Adivinar_Numero\n",
        "\tDefinir minimo, maximo, adivinanza Como Entero\n",
        "\tDefinir respuesta Como Caracter\n",
        "\tDefinir encontrado Como Logico\n",
        "\n",
        "\tminimo <- 1\n",
        "\tmaximo <- 100\n",
        "\tencontrado <- Falso\n",
        "\n",
        "\tEscribir \"Piensa en un número entre 1 y 100. Intentaré adivinarlo.\"\n",
        "\n",
        "\tRepetir\n",
        "\t\tadivinanza <- trunc((minimo + maximo) / 2)\n",
        "\t\tEscribir \"¿Es \", adivinanza, \"? Responde si es mayor, menor o está correcto\"\n",
        "\t\tLeer respuesta\n",
        "\n",
        "\t\tSi respuesta = \"correcto\" Entonces\n",
        "\t\t\tencontrado <- Verdadero\n",
        "\t\tSino\n",
        "\t\t\tSi respuesta = \"mayor\" Entonces\n",
        "\t\t\t\tminimo <- adivinanza + 1\n",
        "\t\t\tFinSi\n",
        "\t\t\tSi respuesta = \"menor\" Entonces\n",
        "\t\t\t\tmaximo <- adivinanza - 1\n",
        "\t\t\tFinSi\n",
        "\t\tFinSi\n",
        "\tHasta Que encontrado = Verdadero\n",
        "\n",
        "\tEscribir \"¡He adivinado tu número!\"\n",
        "FinAlgoritmo\n",
        "```"
      ],
      "metadata": {
        "id": "eUo4Q80SgY-R"
      }
    },
    {
      "cell_type": "code",
      "source": [
        "# @title Diagrama de Flujo Adivinar Número\n",
        "from IPython.display import IFrame, display\n",
        "\n",
        "file_id = \"14KEt92MXOG_t2AcsjQSwAxJhbLh9B7EN\"\n",
        "drive_url = f\"https://drive.google.com/file/d/{file_id}/preview\"\n",
        "\n",
        "display(IFrame(src=drive_url, width=1000, height=480))"
      ],
      "metadata": {
        "colab": {
          "base_uri": "https://localhost:8080/",
          "height": 522
        },
        "id": "F9Cdjp3sg1dH",
        "outputId": "53775bf5-314b-4e38-e0ab-bf4d0e5fe412"
      },
      "execution_count": null,
      "outputs": [
        {
          "output_type": "display_data",
          "data": {
            "text/plain": [
              "<IPython.lib.display.IFrame at 0x7cf432e31f30>"
            ],
            "text/html": [
              "\n",
              "        <iframe\n",
              "            width=\"1000\"\n",
              "            height=\"480\"\n",
              "            src=\"https://drive.google.com/file/d/14KEt92MXOG_t2AcsjQSwAxJhbLh9B7EN/preview\"\n",
              "            frameborder=\"0\"\n",
              "            allowfullscreen\n",
              "            \n",
              "        ></iframe>\n",
              "        "
            ]
          },
          "metadata": {}
        }
      ]
    },
    {
      "cell_type": "markdown",
      "source": [
        "### **Implementación en Python**"
      ],
      "metadata": {
        "id": "12IXWkCUkEuI"
      }
    },
    {
      "cell_type": "code",
      "source": [
        "def adivinar_numero():\n",
        "    print(\"Piensa en un número entre 1 y 100. Intentaré adivinarlo.\")\n",
        "\n",
        "    minimo = 1\n",
        "    maximo = 100\n",
        "    encontrado = False\n",
        "\n",
        "    while True:\n",
        "        adivinanza = (minimo + maximo) // 2\n",
        "        respuesta = input(f\"¿Es {adivinanza}? (responde 'mayor', 'menor', 'correcto'): \").strip().lower()\n",
        "\n",
        "        if respuesta == 'correcto':\n",
        "            encontrado = True\n",
        "            break\n",
        "        elif respuesta == 'mayor':\n",
        "            minimo = adivinanza + 1\n",
        "        elif respuesta == 'menor':\n",
        "            maximo = adivinanza - 1\n",
        "        else:\n",
        "            print(\"Por favor, responde 'mayor', 'menor' o 'correcto'.\")\n",
        "\n",
        "    print(\"¡He adivinado tu número!\")\n",
        "\n",
        "# Llamar a la función para ejecutar el juego\n",
        "adivinar_numero()\n"
      ],
      "metadata": {
        "colab": {
          "base_uri": "https://localhost:8080/"
        },
        "id": "TnlrMbEH6J_D",
        "outputId": "78e26de9-478c-404e-d2a8-7598acc721f5"
      },
      "execution_count": null,
      "outputs": [
        {
          "output_type": "stream",
          "name": "stdout",
          "text": [
            "Piensa en un número entre 1 y 100. Intentaré adivinarlo.\n",
            "¿Es 50? (responde 'mayor', 'menor', 'correcto'): menor\n",
            "¿Es 25? (responde 'mayor', 'menor', 'correcto'): mayor\n",
            "¿Es 37? (responde 'mayor', 'menor', 'correcto'): menor\n",
            "¿Es 31? (responde 'mayor', 'menor', 'correcto'): menor\n",
            "¿Es 28? (responde 'mayor', 'menor', 'correcto'): mayor\n",
            "¿Es 29? (responde 'mayor', 'menor', 'correcto'): correcto\n",
            "¡He adivinado tu número!\n"
          ]
        }
      ]
    },
    {
      "cell_type": "markdown",
      "source": [
        "## **Conclusión**\n",
        "\n",
        "La estructura repetitiva \"Haga Hasta\" es útil en situaciones donde se necesita ejecutar un bloque de código al menos una vez antes de evaluar una condición. Es particularmente útil para la validación de entradas de usuario y en situaciones donde la condición de salida depende de los resultados de las operaciones realizadas dentro del ciclo."
      ],
      "metadata": {
        "id": "6uJURqt6kcxY"
      }
    },
    {
      "cell_type": "markdown",
      "source": [
        "## **Licencias**\n",
        "\n",
        "Al utilizar este material, acepto cumplir con los términos de las licencias MIT y Creative Commons BY 4.0 respectivamente.\n",
        "\n",
        "Para más detalles sobre las licencias o usos adicionales, consultar:\n",
        "- Licencia MIT: https://opensource.org/licenses/MIT\n",
        "- CC BY 4.0: https://creativecommons.org/licenses/by/4.0/deed.es"
      ],
      "metadata": {
        "id": "jXUZhsF3867Q"
      }
    }
  ]
}