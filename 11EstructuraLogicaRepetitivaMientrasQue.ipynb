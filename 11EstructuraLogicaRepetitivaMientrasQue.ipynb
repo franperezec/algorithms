{
  "nbformat": 4,
  "nbformat_minor": 0,
  "metadata": {
    "colab": {
      "provenance": [],
      "authorship_tag": "ABX9TyPlUxaqAkAn5vh3dwFWZDEM",
      "include_colab_link": true
    },
    "kernelspec": {
      "name": "python3",
      "display_name": "Python 3"
    },
    "language_info": {
      "name": "python"
    }
  },
  "cells": [
    {
      "cell_type": "markdown",
      "metadata": {
        "id": "view-in-github",
        "colab_type": "text"
      },
      "source": [
        "<a href=\"https://colab.research.google.com/github/franperezec/algorithms/blob/main/11EstructuraLogicaRepetitivaMientrasQue.ipynb\" target=\"_parent\"><img src=\"https://colab.research.google.com/assets/colab-badge.svg\" alt=\"Open In Colab\"/></a>"
      ]
    },
    {
      "cell_type": "markdown",
      "source": [
        "# **Estructura Lógica Repetitiva Mientras Que en Programación**"
      ],
      "metadata": {
        "id": "fzP8fc2DZI7-"
      }
    },
    {
      "cell_type": "markdown",
      "source": [
        "**Francisco Pérez M.**\n",
        "\n",
        "[francisco.perezxxi@gmail.com](mailto:francisco.perezxxi@gmail.com)\n",
        "\n",
        "🔔 *¡Suscríbete y activa las notificaciones para aprender más!*\n",
        "\n",
        "[Canal de YouTube - Data Science AI](https://www.youtube.com/@DataScienceAI/playlists)\n",
        "\n",
        "📚 *Recursos adicionales:*  \n",
        "📐 [GitHub con recursos](https://github.com/franperezec/algorithms)\n",
        "\n",
        "*Cómo citar este documento:*\n",
        "\n",
        "Pérez, F. (2024). *Estructura Lógica Repetitiva Mientras Que en Programación*. GitHub. URL: [https://github.com/franperezec/algorithms](https://github.com/franperezec/algorithms)"
      ],
      "metadata": {
        "id": "5zV1sq3J8s3I"
      }
    },
    {
      "cell_type": "markdown",
      "source": [
        "## **Introducción**\n",
        "\n",
        "La estructura lógica repetitiva \"Mientras que\" (conocida como `while` en muchos lenguajes de programación) es una herramienta fundamental en programación que permite ejecutar un bloque de código repetidamente mientras una condición sea verdadera."
      ],
      "metadata": {
        "id": "mQfiK6kuZrVf"
      }
    },
    {
      "cell_type": "markdown",
      "source": [
        "## **Concepto**\n",
        "\n",
        "> La estructura \"Mientras que\" permite la ejecución repetitiva de un conjunto de instrucciones mientras se cumpla una condición específica.\n",
        "\n",
        "Características principales:\n",
        "- Se evalúa la condición antes de cada iteración.\n",
        "- Si la condición es verdadera, se ejecutan las instrucciones dentro del ciclo.\n",
        "- El ciclo continúa mientras la condición sea verdadera.\n",
        "- Si la condición es falsa desde el principio, las instrucciones dentro del ciclo pueden no ejecutarse nunca."
      ],
      "metadata": {
        "id": "Df5MgTNzZ8-h"
      }
    },
    {
      "cell_type": "code",
      "source": [
        "# @title Estructura Lógica Repetitiva Mientras Que\n",
        "from IPython.display import IFrame, display\n",
        "\n",
        "file_id = \"1oHtW7A7r6tITija3r5AqQHL50Evzpxvn\"\n",
        "drive_url = f\"https://drive.google.com/file/d/{file_id}/preview\"\n",
        "\n",
        "display(IFrame(src=drive_url, width=640, height=480))"
      ],
      "metadata": {
        "colab": {
          "base_uri": "https://localhost:8080/",
          "height": 502
        },
        "id": "WDxB_jxmaAwE",
        "outputId": "08990eb7-e578-4278-f003-12a5e966068d"
      },
      "execution_count": null,
      "outputs": [
        {
          "output_type": "display_data",
          "data": {
            "text/plain": [
              "<IPython.lib.display.IFrame at 0x7cf636af6050>"
            ],
            "text/html": [
              "\n",
              "        <iframe\n",
              "            width=\"640\"\n",
              "            height=\"480\"\n",
              "            src=\"https://drive.google.com/file/d/1oHtW7A7r6tITija3r5AqQHL50Evzpxvn/preview\"\n",
              "            frameborder=\"0\"\n",
              "            allowfullscreen\n",
              "            \n",
              "        ></iframe>\n",
              "        "
            ]
          },
          "metadata": {}
        }
      ]
    },
    {
      "cell_type": "markdown",
      "source": [
        "## **Sintaxis general**\n",
        "\n",
        "La estructura general de \"Mientras que\" es:\n",
        "\n",
        "```\n",
        "Mientras que (condición) haga\n",
        "    Instrucción 1\n",
        "    Instrucción 2\n",
        "    ...\n",
        "    Instrucción n\n",
        "Fin Mientras que\n",
        "```"
      ],
      "metadata": {
        "id": "zF1F3dt0bglo"
      }
    },
    {
      "cell_type": "markdown",
      "source": [
        "## **Implementación en PSeInt**\n",
        "\n",
        "En PSeInt, la estructura \"Mientras que\" se implementa de la siguiente manera:\n",
        "\n",
        "```\n",
        "Algoritmo EjemploMientrasQue\n",
        "    Definir contador Como Entero\n",
        "    contador <- 1\n",
        "    \n",
        "    Mientras contador <= 5 Hacer\n",
        "        Escribir \"Iteración número: \", contador\n",
        "        contador <- contador + 1\n",
        "    FinMientras\n",
        "    \n",
        "    Escribir \"Fin del ciclo\"\n",
        "FinAlgoritmo\n",
        "```"
      ],
      "metadata": {
        "id": "5cg08gkV-LBf"
      }
    },
    {
      "cell_type": "code",
      "source": [
        "# @title Ejemplo de Estructura Lógica Repetitiva Mientras Que\n",
        "from IPython.display import IFrame, display\n",
        "\n",
        "file_id = \"1wHdIZzdWr-JdaUeKEjQqyyvjGS--H9bW\"\n",
        "drive_url = f\"https://drive.google.com/file/d/{file_id}/preview\"\n",
        "\n",
        "display(IFrame(src=drive_url, width=500, height=500))"
      ],
      "metadata": {
        "colab": {
          "base_uri": "https://localhost:8080/",
          "height": 522
        },
        "id": "81vBY13weFFA",
        "outputId": "10323e28-350b-4c30-f41a-8d0597f89e36"
      },
      "execution_count": null,
      "outputs": [
        {
          "output_type": "display_data",
          "data": {
            "text/plain": [
              "<IPython.lib.display.IFrame at 0x7cf63514dd20>"
            ],
            "text/html": [
              "\n",
              "        <iframe\n",
              "            width=\"500\"\n",
              "            height=\"500\"\n",
              "            src=\"https://drive.google.com/file/d/1wHdIZzdWr-JdaUeKEjQqyyvjGS--H9bW/preview\"\n",
              "            frameborder=\"0\"\n",
              "            allowfullscreen\n",
              "            \n",
              "        ></iframe>\n",
              "        "
            ]
          },
          "metadata": {}
        }
      ]
    },
    {
      "cell_type": "markdown",
      "source": [
        "## Implementación en Python\n",
        "\n",
        "En Python, la estructura \"Mientras que\" se implementa con el bucle `while`:"
      ],
      "metadata": {
        "id": "Q9sMuYOJeug0"
      }
    },
    {
      "cell_type": "code",
      "source": [
        "def ejemplo_mientras_que():\n",
        "    contador = 1\n",
        "\n",
        "    while contador <= 5:\n",
        "        print(f\"Iteración número: {contador}\")\n",
        "        contador += 1\n",
        "\n",
        "    print(\"Fin del ciclo\")\n",
        "\n",
        "# Llamamos a la función\n",
        "ejemplo_mientras_que()"
      ],
      "metadata": {
        "colab": {
          "base_uri": "https://localhost:8080/"
        },
        "id": "QQllRewZe2P0",
        "outputId": "5082a29d-7016-40f4-b8a2-a5791a7f4f30"
      },
      "execution_count": null,
      "outputs": [
        {
          "output_type": "stream",
          "name": "stdout",
          "text": [
            "Iteración número: 1\n",
            "Iteración número: 2\n",
            "Iteración número: 3\n",
            "Iteración número: 4\n",
            "Iteración número: 5\n",
            "Fin del ciclo\n"
          ]
        }
      ]
    },
    {
      "cell_type": "markdown",
      "source": [
        "## Usos Comunes del Ciclo Repetitivo `while`\n",
        "\n",
        "La estructura `while` es útil en muchos escenarios, incluyendo:\n",
        "\n",
        "1. **Ejecución Basada en una Condición**:\n",
        "   El ciclo `while` ejecuta un bloque de código mientras una condición sea verdadera. Por ejemplo, mantener un contador hasta que alcance un valor específico.\n",
        "   ```python\n",
        "   contador = 0\n",
        "   while contador < 10:\n",
        "       print(contador)\n",
        "       contador += 1\n",
        "   ```\n",
        "\n",
        "2. **Lectura de Datos Hasta una Condición de Parada**:\n",
        "   El ciclo `while` es útil para leer datos repetidamente hasta que se cumpla una condición de parada, como leer entradas hasta que se ingrese un valor específico.\n",
        "   ```python\n",
        "   entrada = ''\n",
        "   while entrada != 'salir':\n",
        "       entrada = input(\"Ingrese algo (escriba 'salir' para terminar): \")\n",
        "       print(\"Usted ingresó:\", entrada)\n",
        "   ```\n",
        "\n",
        "3. **Cálculo de Sumatorias**:\n",
        "   Similar al ciclo `for`, `while` puede usarse para calcular sumatorias. Por ejemplo, la sumatoria de los primeros `n` números.\n",
        "   $$\n",
        "   \\sum_{i=1}^{n} i\n",
        "   $$\n",
        "   ```python\n",
        "   suma = 0\n",
        "   i = 1\n",
        "   n = 10  # Ejemplo de n\n",
        "   while i <= n:\n",
        "       suma += i\n",
        "       i += 1\n",
        "   print(suma)\n",
        "   ```\n",
        "\n",
        "4. **Cálculo de Series**:\n",
        "   Utilizando un ciclo `while`, se pueden calcular series matemáticas, como la serie de Fibonacci hasta que un término supere un valor específico.\n",
        "   ```python\n",
        "   a, b = 0, 1\n",
        "   while a < 100:  # Limitar los valores de Fibonacci a menos de 100\n",
        "       print(a)\n",
        "       a, b = b, a + b\n",
        "   ```\n",
        "\n",
        "5. **Búsqueda en Estructuras de Datos**:\n",
        "   El ciclo `while` es útil para buscar elementos en estructuras de datos, como listas, hasta encontrar un valor específico.\n",
        "   ```python\n",
        "   lista = [1, 3, 5, 7, 9]\n",
        "   objetivo = 5\n",
        "   encontrado = False\n",
        "   i = 0\n",
        "   while i < len(lista) and not encontrado:\n",
        "       if lista[i] == objetivo:\n",
        "           encontrado = True\n",
        "       else:\n",
        "           i += 1\n",
        "   if encontrado:\n",
        "       print(\"Elemento encontrado en la posición\", i)\n",
        "   else:\n",
        "       print(\"Elemento no encontrado\")\n",
        "   ```\n",
        "\n",
        "6. **Ejecución de Bucles Infinitos**:\n",
        "   Los bucles `while` se pueden usar para ejecutar tareas indefinidamente hasta que se interrumpan manualmente. Esto es útil en servidores o procesos que deben ejecutarse continuamente.\n",
        "   ```python\n",
        "   while True:\n",
        "       print(\"Este bucle se ejecutará indefinidamente\")\n",
        "       break  # Agregado solo para evitar un bucle infinito aquí\n",
        "   ```\n",
        "\n",
        "7. **Validación de Entradas**:\n",
        "   Utilizar `while` para asegurar que las entradas del usuario cumplan con ciertos criterios antes de proceder.\n",
        "   ```python\n",
        "   entrada = input(\"Ingrese un número positivo: \")\n",
        "   while not entrada.isdigit() or int(entrada) <= 0:\n",
        "       entrada = input(\"Entrada inválida. Ingrese un número positivo: \")\n",
        "   numero = int(entrada)\n",
        "   print(\"Número ingresado correctamente:\", numero)\n",
        "   ```\n",
        "\n",
        "8. **Control de Flujos de Menú**:\n",
        "   Los ciclos `while` son ideales para manejar menús interactivos, permitiendo a los usuarios seleccionar opciones hasta que elijan salir.\n",
        "   ```python\n",
        "   opcion = ''\n",
        "   while opcion != '3':\n",
        "       print(\"Menú:\")\n",
        "       print(\"1. Opción 1\")\n",
        "       print(\"2. Opción 2\")\n",
        "       print(\"3. Salir\")\n",
        "       opcion = input(\"Seleccione una opción: \")\n",
        "       if opcion == '1':\n",
        "           print(\"Opción 1 seleccionada\")\n",
        "       elif opcion == '2':\n",
        "           print(\"Opción 2 seleccionada\")\n",
        "       elif opcion == '3':\n",
        "           print(\"Saliendo del menú\")\n",
        "       else:\n",
        "           print(\"Opción inválida\")\n",
        "   ```\n",
        "\n",
        "Estos son algunos ejemplos de cómo se puede utilizar la estructura `while` en Python para realizar tareas comunes y operaciones matemáticas."
      ],
      "metadata": {
        "id": "182H8G7GfO7N"
      }
    },
    {
      "cell_type": "markdown",
      "source": [
        "## Consideraciones importantes\n",
        "\n",
        "1. **Condición de terminación**: Es crucial asegurar que la condición del \"Mientras que\" eventualmente se vuelva falsa para evitar bucles infinitos.\n",
        "2. **Inicialización**: Las variables utilizadas en la condición deben ser inicializadas antes del ciclo.\n",
        "3. **Actualización**: Dentro del ciclo, debe haber alguna instrucción que modifique la condición para que eventualmente se vuelva falsa."
      ],
      "metadata": {
        "id": "qwIHsJQtCP2U"
      }
    },
    {
      "cell_type": "markdown",
      "source": [
        "## Ejemplo práctico: Multiplicación rusa\n",
        "\n",
        "Vamos a implementar el algoritmo de multiplicación rusa utilizando la estructura \"Mientras que\".\n",
        "\n",
        "> El método de multiplicación rusa consiste en multiplicar sucesivamente por 2 el multiplicando y dividir por 2 el multiplicador hasta que el multiplicador tome el valor 1. Luego, se suman todos los multiplicandos correspondientes a los multiplicadores impares. Dicha suma es el producto de los dos números."
      ],
      "metadata": {
        "id": "w2GaRtEwYlga"
      }
    },
    {
      "cell_type": "markdown",
      "source": [
        "### Implementación en PSeInt\n",
        "\n",
        "```\n",
        "Algoritmo MultiplicacionRusa\n",
        "    Definir n, m, suma, multiplicando, multiplicador Como Entero\n",
        "    \n",
        "    Escribir \"Ingrese el multiplicando: \"\n",
        "    Leer n\n",
        "    Escribir \"Ingrese el multiplicador: \"\n",
        "    Leer m\n",
        "    \n",
        "    suma <- 0\n",
        "    multiplicando <- n\n",
        "    multiplicador <- m\n",
        "    \n",
        "    Mientras multiplicador >= 1 Hacer\n",
        "        Si multiplicador MOD 2 = 1 Entonces\n",
        "            suma <- suma + multiplicando\n",
        "        FinSi\n",
        "        multiplicando <- multiplicando * 2\n",
        "        multiplicador <- Trunc(multiplicador / 2)\n",
        "    FinMientras\n",
        "    \n",
        "    Escribir \"El resultado de la multiplicación rusa de \", n, \" por \", m, \" es \", suma\n",
        "FinAlgoritmo\n",
        "```"
      ],
      "metadata": {
        "id": "eUo4Q80SgY-R"
      }
    },
    {
      "cell_type": "code",
      "source": [
        "# @title Diagrama de Flujo Multiplicación Rusa\n",
        "from IPython.display import IFrame, display\n",
        "\n",
        "file_id = \"13rRgErwTsd46zcL9NEZG1pCd0peBrnMk\"\n",
        "drive_url = f\"https://drive.google.com/file/d/{file_id}/preview\"\n",
        "\n",
        "display(IFrame(src=drive_url, width=1000, height=480))"
      ],
      "metadata": {
        "colab": {
          "base_uri": "https://localhost:8080/",
          "height": 522
        },
        "id": "F9Cdjp3sg1dH",
        "outputId": "bff1c161-5e5e-40a9-b469-223ae5d4825c"
      },
      "execution_count": null,
      "outputs": [
        {
          "output_type": "display_data",
          "data": {
            "text/plain": [
              "<IPython.lib.display.IFrame at 0x7cf63514c100>"
            ],
            "text/html": [
              "\n",
              "        <iframe\n",
              "            width=\"1000\"\n",
              "            height=\"480\"\n",
              "            src=\"https://drive.google.com/file/d/13rRgErwTsd46zcL9NEZG1pCd0peBrnMk/preview\"\n",
              "            frameborder=\"0\"\n",
              "            allowfullscreen\n",
              "            \n",
              "        ></iframe>\n",
              "        "
            ]
          },
          "metadata": {}
        }
      ]
    },
    {
      "cell_type": "markdown",
      "source": [
        "### **Implementación en Python**"
      ],
      "metadata": {
        "id": "12IXWkCUkEuI"
      }
    },
    {
      "cell_type": "code",
      "source": [
        "def multiplicacion_rusa():\n",
        "    n = int(input(\"Ingrese el multiplicando: \"))\n",
        "    m = int(input(\"Ingrese el multiplicador: \"))\n",
        "\n",
        "    suma = 0\n",
        "    multiplicando = n\n",
        "    multiplicador = m\n",
        "\n",
        "    while multiplicador >= 1:\n",
        "        if multiplicador % 2 == 1:\n",
        "            suma += multiplicando\n",
        "        multiplicando *= 2\n",
        "        multiplicador //= 2  # División entera\n",
        "\n",
        "    print(f\"El resultado de la multiplicación rusa de {n} por {m} es {suma}\")\n",
        "\n",
        "# Llamamos a la función\n",
        "multiplicacion_rusa()"
      ],
      "metadata": {
        "colab": {
          "base_uri": "https://localhost:8080/"
        },
        "id": "VGIY-a38kD2I",
        "outputId": "c30c390d-bac8-4172-8a44-597ac958b4ce"
      },
      "execution_count": null,
      "outputs": [
        {
          "output_type": "stream",
          "name": "stdout",
          "text": [
            "Ingrese el multiplicando: 12\n",
            "Ingrese el multiplicador: 10\n",
            "El resultado de la multiplicación rusa de 12 por 10 es 120\n"
          ]
        }
      ]
    },
    {
      "cell_type": "markdown",
      "source": [
        "## **Conclusión**\n",
        "\n",
        "La estructura repetitiva \"Mientras que\" es una herramienta poderosa y versátil en programación. Permite ejecutar bloques de código repetidamente mientras se cumpla una condición, lo que la hace ideal para una amplia gama de tareas, desde cálculos iterativos hasta procesamiento de datos. Sin embargo, es importante utilizarla con cuidado para evitar bucles infinitos y asegurar que el programa termine correctamente."
      ],
      "metadata": {
        "id": "6uJURqt6kcxY"
      }
    },
    {
      "cell_type": "markdown",
      "source": [
        "## **Licencias**\n",
        "\n",
        "Al utilizar este material, acepto cumplir con los términos de las licencias MIT y Creative Commons BY 4.0 respectivamente.\n",
        "\n",
        "Para más detalles sobre las licencias o usos adicionales, consultar:\n",
        "- Licencia MIT: https://opensource.org/licenses/MIT\n",
        "- CC BY 4.0: https://creativecommons.org/licenses/by/4.0/deed.es"
      ],
      "metadata": {
        "id": "jXUZhsF3867Q"
      }
    }
  ]
}