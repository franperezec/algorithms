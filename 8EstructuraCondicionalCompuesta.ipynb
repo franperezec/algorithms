{
  "nbformat": 4,
  "nbformat_minor": 0,
  "metadata": {
    "colab": {
      "provenance": [],
      "authorship_tag": "ABX9TyNrgrO0cZ92wRn8XMVGsTCm",
      "include_colab_link": true
    },
    "kernelspec": {
      "name": "python3",
      "display_name": "Python 3"
    },
    "language_info": {
      "name": "python"
    }
  },
  "cells": [
    {
      "cell_type": "markdown",
      "metadata": {
        "id": "view-in-github",
        "colab_type": "text"
      },
      "source": [
        "<a href=\"https://colab.research.google.com/github/franperezec/algorithms/blob/main/8EstructuraCondicionalCompuesta.ipynb\" target=\"_parent\"><img src=\"https://colab.research.google.com/assets/colab-badge.svg\" alt=\"Open In Colab\"/></a>"
      ]
    },
    {
      "cell_type": "markdown",
      "source": [
        "# **Estructuras Condicionales Compuestas y Anidadas en Programación**"
      ],
      "metadata": {
        "id": "TpwIr9iAISLq"
      }
    },
    {
      "cell_type": "markdown",
      "source": [
        "**Francisco Pérez M.**\n",
        "\n",
        "[francisco.perezxxi@gmail.com](mailto:francisco.perezxxi@gmail.com)\n",
        "\n",
        "🔔 *¡Suscríbete y activa las notificaciones para aprender más!*\n",
        "\n",
        "[Canal de YouTube - Data Science AI](https://www.youtube.com/@DataScienceAI/playlists)\n",
        "\n",
        "📚 *Recursos adicionales:*  \n",
        "📐 [GitHub con recursos](https://github.com/franperezec/algorithms)\n",
        "\n",
        "*Cómo citar este documento:*\n",
        "\n",
        "Pérez, F. (2024). *Estructuras Condicionales Compuestas y Anidadas en Programación*. GitHub. URL: [https://github.com/franperezec/algorithms](https://github.com/franperezec/algorithms)"
      ],
      "metadata": {
        "id": "5zV1sq3J8s3I"
      }
    },
    {
      "cell_type": "markdown",
      "source": [
        "## **1. Estructura Condicional Compuesta**"
      ],
      "metadata": {
        "id": "oa5NHZxDISLC"
      }
    },
    {
      "cell_type": "markdown",
      "source": [
        "### **Introducción**\n",
        "\n",
        "La estructura condicional compuesta amplía las posibilidades de la lógica de control algorítmica, construyendo sobre las estructuras básicas de control como lectura, asignación, escritura y condicional simple."
      ],
      "metadata": {
        "id": "b8hd1ldFJB8O"
      }
    },
    {
      "cell_type": "markdown",
      "source": [
        "### **Concepto**\n",
        "\n",
        "La estructura condicional compuesta permite la ejecución de diferentes bloques de código dependiendo de si una condición es verdadera o falsa. Su funcionamiento se puede resumir así:\n",
        "\n",
        "* Se evalúa una condición.\n",
        "* Si la condición es verdadera, se ejecuta un bloque de instrucciones.\n",
        "* Si la condición es falsa, se ejecuta un bloque diferente de instrucciones."
      ],
      "metadata": {
        "id": "TaOqCZzDJHJV"
      }
    },
    {
      "cell_type": "code",
      "source": [
        "# @title Representación gráfica Estructura Condicional Compuesta\n",
        "from IPython.display import IFrame, display\n",
        "\n",
        "file_id = \"115LDRa_ljbTuV-iQ7-3uRU7U8Q0s1m1l\"\n",
        "drive_url = f\"https://drive.google.com/file/d/{file_id}/preview\"\n",
        "\n",
        "display(IFrame(src=drive_url, width=500, height=600))"
      ],
      "metadata": {
        "colab": {
          "base_uri": "https://localhost:8080/",
          "height": 622
        },
        "cellView": "form",
        "id": "KS9YB36NJ-E0",
        "outputId": "e97c8bc6-9302-4e69-a9d8-9254adf4b5b8"
      },
      "execution_count": null,
      "outputs": [
        {
          "output_type": "display_data",
          "data": {
            "text/plain": [
              "<IPython.lib.display.IFrame at 0x794866795bd0>"
            ],
            "text/html": [
              "\n",
              "        <iframe\n",
              "            width=\"500\"\n",
              "            height=\"600\"\n",
              "            src=\"https://drive.google.com/file/d/115LDRa_ljbTuV-iQ7-3uRU7U8Q0s1m1l/preview\"\n",
              "            frameborder=\"0\"\n",
              "            allowfullscreen\n",
              "            \n",
              "        ></iframe>\n",
              "        "
            ]
          },
          "metadata": {}
        }
      ]
    },
    {
      "cell_type": "markdown",
      "source": [
        "### **Sintaxis general**\n",
        "\n",
        "La estructura general de una condicional compuesta es:\n",
        "\n",
        "```\n",
        "Si (condición) Entonces\n",
        "    Instrucciones si verdadero\n",
        "Sino\n",
        "    Instrucciones si falso\n",
        "Fin Si\n",
        "```"
      ],
      "metadata": {
        "id": "LGzZXcuZLSNu"
      }
    },
    {
      "cell_type": "markdown",
      "source": [
        "### **Ejemplo práctico: Chequeo de un número par o impar**\n",
        "\n",
        "Vamos a implementar un algoritmo que clasifica un número como par o impar.\n",
        "\n",
        "#### Análisis\n",
        "* Un número es par si al dividirlo entre 2, el residuo es 0.\n",
        "* Si no es par, entonces es impar.\n",
        "* Usaremos el operador módulo (%) para verificar esto."
      ],
      "metadata": {
        "id": "ARm0ugYbLbEv"
      }
    },
    {
      "cell_type": "markdown",
      "source": [
        "#### **Implementación en PSeInt**\n",
        "\n",
        "```\n",
        "Algoritmo ChequeoPar_Impar\n",
        "    Definir numero Como Entero\n",
        "    \n",
        "    Escribir \"Ingrese un número para verificar si es par o impar: \"\n",
        "    Leer numero\n",
        "    \n",
        "    Si numero MOD 2 = 0 Entonces\n",
        "        Escribir \"El número \", numero, \" es par.\"\n",
        "    Sino\n",
        "        Escribir \"El número \", numero, \" es impar.\"\n",
        "    FinSi\n",
        "FinAlgoritmo\n",
        "```"
      ],
      "metadata": {
        "id": "uN1Kz_TaLmMA"
      }
    },
    {
      "cell_type": "code",
      "source": [
        "# @title Diagrama de Flujo Estructura Condicional Compuesta\n",
        "from IPython.display import IFrame, display\n",
        "\n",
        "file_id = \"1ldvctDa7sdOTk57ZGP2zawNCpHqmJJqZ\"\n",
        "drive_url = f\"https://drive.google.com/file/d/{file_id}/preview\"\n",
        "\n",
        "display(IFrame(src=drive_url, width=640, height=480))"
      ],
      "metadata": {
        "colab": {
          "base_uri": "https://localhost:8080/",
          "height": 502
        },
        "id": "iNN_9ETzMZUC",
        "outputId": "d5278b34-42ca-4d8e-fdfe-34f699f1219f"
      },
      "execution_count": null,
      "outputs": [
        {
          "output_type": "display_data",
          "data": {
            "text/plain": [
              "<IPython.lib.display.IFrame at 0x794866797880>"
            ],
            "text/html": [
              "\n",
              "        <iframe\n",
              "            width=\"640\"\n",
              "            height=\"480\"\n",
              "            src=\"https://drive.google.com/file/d/1ldvctDa7sdOTk57ZGP2zawNCpHqmJJqZ/preview\"\n",
              "            frameborder=\"0\"\n",
              "            allowfullscreen\n",
              "            \n",
              "        ></iframe>\n",
              "        "
            ]
          },
          "metadata": {}
        }
      ]
    },
    {
      "cell_type": "markdown",
      "source": [
        "#### **Implementación en Python**"
      ],
      "metadata": {
        "id": "stIABmx_Mxj2"
      }
    },
    {
      "cell_type": "code",
      "source": [
        "def chequeo_par_impar():\n",
        "    # Solicitamos al usuario que ingrese un número\n",
        "    numero = int(input(\"Ingrese un número para verificar si es par o impar: \"))\n",
        "\n",
        "    # Verificamos si el número es par o impar\n",
        "    if numero % 2 == 0:\n",
        "        print(f\"El número {numero} es par.\")\n",
        "    else:\n",
        "        print(f\"El número {numero} es impar.\")"
      ],
      "metadata": {
        "id": "8tHi5XbsM21e"
      },
      "execution_count": null,
      "outputs": []
    },
    {
      "cell_type": "code",
      "source": [
        "# Llamamos a la función\n",
        "chequeo_par_impar()"
      ],
      "metadata": {
        "colab": {
          "base_uri": "https://localhost:8080/"
        },
        "id": "t29xYBtkM6lm",
        "outputId": "d674cfcd-2016-4006-e0bc-edca43831d31"
      },
      "execution_count": null,
      "outputs": [
        {
          "output_type": "stream",
          "name": "stdout",
          "text": [
            "Ingrese un número para verificar si es par o impar: 23\n",
            "El número 23 es impar.\n"
          ]
        }
      ]
    },
    {
      "cell_type": "markdown",
      "source": [
        "## **2. Estructuras Condicionales Anidadas**\n",
        "\n",
        "Las estructuras condicionales compuestas también pueden anidarse, lo que permite manejar múltiples condiciones en secuencia."
      ],
      "metadata": {
        "id": "RZyWLszbOBBM"
      }
    },
    {
      "cell_type": "code",
      "source": [
        "# @title Representación Gráfica de la Estructura Condicional Anidada\n",
        "from IPython.display import IFrame, display\n",
        "\n",
        "file_id = \"1R7PWru8XBkIW6L_VPc97EPrGAOstioxZ\"\n",
        "drive_url = f\"https://drive.google.com/file/d/{file_id}/preview\"\n",
        "\n",
        "display(IFrame(src=drive_url, width=640, height=480))"
      ],
      "metadata": {
        "colab": {
          "base_uri": "https://localhost:8080/",
          "height": 502
        },
        "id": "foRPCzg9PpEr",
        "outputId": "37eed5d3-ddec-4d1b-a4e9-84de7a9bfba8"
      },
      "execution_count": null,
      "outputs": [
        {
          "output_type": "display_data",
          "data": {
            "text/plain": [
              "<IPython.lib.display.IFrame at 0x7948667ec730>"
            ],
            "text/html": [
              "\n",
              "        <iframe\n",
              "            width=\"640\"\n",
              "            height=\"480\"\n",
              "            src=\"https://drive.google.com/file/d/1R7PWru8XBkIW6L_VPc97EPrGAOstioxZ/preview\"\n",
              "            frameborder=\"0\"\n",
              "            allowfullscreen\n",
              "            \n",
              "        ></iframe>\n",
              "        "
            ]
          },
          "metadata": {}
        }
      ]
    },
    {
      "cell_type": "markdown",
      "source": [
        "### **Ejemplo Cálculo de Raíces de una Función Cuadrática con Estructuras Condicionales Anidadas**\n",
        "\n",
        "### Introducción\n",
        "\n",
        "En matemáticas, una ecuación cuadrática es una ecuación polinómica de segundo grado de la forma:\n",
        "$ ax^2 + bx + c = 0 $\n",
        "donde $ a $, $ b $ y $ c $ son constantes, y $ x $ es la variable que queremos resolver. Las soluciones de esta ecuación se denominan raíces y se pueden encontrar utilizando la fórmula cuadrática:\n",
        "$$ x = \\frac{-b \\pm \\sqrt{b^2 - 4ac}}{2a} $$\n",
        "\n",
        "### Discriminante\n",
        "\n",
        "El discriminante de una ecuación cuadrática es la expresión que se encuentra bajo la raíz cuadrada en la fórmula cuadrática:\n",
        "$ D = b^2 - 4ac $\n",
        "El discriminante nos indica la naturaleza de las raíces:\n",
        "\n",
        "#### Caso 1: $ D > 0 $ (Raíces Reales y Diferentes)\n",
        "\n",
        "Cuando el discriminante es mayor que cero, la ecuación cuadrática tiene dos raíces reales y diferentes. Esto significa que la parábola intersecta al eje $ x $ en dos puntos distintos. Las raíces se pueden calcular como:\n",
        "$ x_1 = \\frac{-b + \\sqrt{D}}{2a} $\n",
        "$ x_2 = \\frac{-b - \\sqrt{D}}{2a} $\n",
        "donde $ D = b^2 - 4ac $.\n",
        "\n",
        "#### Caso 2: $ D = 0 $ (Raíces Reales e Iguales)\n",
        "\n",
        "Cuando el discriminante es igual a cero, la ecuación cuadrática tiene una única raíz real, que se repite. Esto ocurre porque la parábola toca al eje $ x $ en un solo punto (vértice de la parábola). La raíz se puede calcular como:\n",
        "$ x = \\frac{-b}{2a} $\n",
        "\n",
        "#### Caso 3: $ D < 0 $ (Raíces Complejas)\n",
        "\n",
        "Cuando el discriminante es menor que cero, la ecuación cuadrática no tiene raíces reales. En este caso, las raíces son complejas y conjugadas. Esto significa que la parábola no intersecta al eje $ x $. Las raíces complejas se pueden expresar como:\n",
        "$ x_1 = \\frac{-b}{2a} + \\frac{\\sqrt{-D}}{2a} i$\n",
        "$ x_2 = \\frac{-b}{2a} - \\frac{\\sqrt{-D}}{2a} i$\n",
        "donde $ -D = 4ac -b^2  $ y $ i $ es la unidad imaginaria ($ i = \\sqrt{-1} $).\n",
        "\n",
        "### Implementación con Estructuras Condicionales Anidadas\n",
        "\n",
        "Para implementar el cálculo de las raíces de una ecuación cuadrática en PSeInt y Python, utilizamos estructuras condicionales anidadas para manejar los diferentes casos basados en el valor del discriminante.\n",
        "\n",
        "#### Pseudocódigo en PSeInt\n",
        "\n",
        "```pseudocode\n",
        "Algoritmo Calcular_Raices_Cuadraticas\n",
        "    Definir a, b, c, discriminante, raiz1, raiz2, ParteReal, ParteImaginaria Como Real\n",
        "\n",
        "    Escribir \"Introduce el valor de a: \"\n",
        "    Leer a\n",
        "    Escribir \"Introduce el valor de b: \"\n",
        "    Leer b\n",
        "    Escribir \"Introduce el valor de c: \"\n",
        "    Leer c\n",
        "\n",
        "    discriminante = b^2 - 4*a*c\n",
        "\n",
        "    Si discriminante > 0 Entonces\n",
        "        raiz1 = (-b + Raiz(discriminante)) / (2*a)\n",
        "        raiz2 = (-b - Raiz(discriminante)) / (2*a)\n",
        "        Escribir \"Las raíces son reales y diferentes: \", raiz1, \" y \", raiz2\n",
        "    Sino\n",
        "        Si discriminante = 0 Entonces\n",
        "            raiz1 = -b / (2*a)\n",
        "            Escribir \"Las raíces son reales e iguales: \", raiz1\n",
        "        Sino\n",
        "            ParteReal = -b / (2*a)\n",
        "            ParteImaginaria = Raiz(-discriminante) / (2*a)\n",
        "            Escribir \"Las raíces son complejas: \"\n",
        "            Escribir ParteReal, \" + \", ParteImaginaria, \"i\"\n",
        "            Escribir ParteReal, \" - \", ParteImaginaria, \"i\"\n",
        "        FinSi\n",
        "    FinSi\n",
        "FinAlgoritmo\n",
        "\n"
      ],
      "metadata": {
        "id": "QnGtQGEXCC2-"
      }
    },
    {
      "cell_type": "code",
      "source": [
        "# @title Diagrama de Flujo Estructura Condicional Anidada\n",
        "from IPython.display import IFrame, display\n",
        "\n",
        "file_id = \"1pBn_VNdOx7RSzhY-PPCLTocpEO5gnRPD\"\n",
        "drive_url = f\"https://drive.google.com/file/d/{file_id}/preview\"\n",
        "\n",
        "display(IFrame(src=drive_url, width=640, height=480))"
      ],
      "metadata": {
        "colab": {
          "base_uri": "https://localhost:8080/",
          "height": 502
        },
        "cellView": "form",
        "id": "YU5zfGUWRR6t",
        "outputId": "35d24804-45fc-4462-81f3-9c4312d2fca6"
      },
      "execution_count": null,
      "outputs": [
        {
          "output_type": "display_data",
          "data": {
            "text/plain": [
              "<IPython.lib.display.IFrame at 0x7948667eeb60>"
            ],
            "text/html": [
              "\n",
              "        <iframe\n",
              "            width=\"640\"\n",
              "            height=\"480\"\n",
              "            src=\"https://drive.google.com/file/d/1pBn_VNdOx7RSzhY-PPCLTocpEO5gnRPD/preview\"\n",
              "            frameborder=\"0\"\n",
              "            allowfullscreen\n",
              "            \n",
              "        ></iframe>\n",
              "        "
            ]
          },
          "metadata": {}
        }
      ]
    },
    {
      "cell_type": "code",
      "source": [
        "import math\n",
        "\n",
        "def raices_funcion_cuadratica():\n",
        "    # Definir variables\n",
        "    a = float(input('Introduce el valor de a: '))\n",
        "    b = float(input('Introduce el valor de b: '))\n",
        "    c = float(input('Introduce el valor de c: '))\n",
        "\n",
        "    # Calcular el discriminante\n",
        "    discriminante = b**2 - 4*a*c\n",
        "\n",
        "    if discriminante > 0:\n",
        "        # Raíces reales y diferentes\n",
        "        raiz1 = (-b + math.sqrt(discriminante)) / (2*a)\n",
        "        raiz2 = (-b - math.sqrt(discriminante)) / (2*a)\n",
        "        print(f'Las raíces son reales y diferentes: {raiz1} y {raiz2}')\n",
        "    elif discriminante == 0:\n",
        "        # Raíces reales e iguales\n",
        "        raiz1 = -b / (2*a)\n",
        "        print(f'Las raíces son reales e iguales: {raiz1}')\n",
        "    else:\n",
        "        # Raíces complejas\n",
        "        ParteReal = -b / (2*a)\n",
        "        ParteImaginaria = math.sqrt(-discriminante) / (2*a)\n",
        "        print('Las raíces son complejas:')\n",
        "        print(f'{ParteReal} + {ParteImaginaria}i')\n",
        "        print(f'{ParteReal} - {ParteImaginaria}i')\n",
        "\n",
        "# Llamar a la función\n",
        "raices_funcion_cuadratica()\n"
      ],
      "metadata": {
        "colab": {
          "base_uri": "https://localhost:8080/"
        },
        "id": "TN9mSvqiHj1r",
        "outputId": "1c3c04bc-42d9-4df6-ccb7-bbc19cb49bff"
      },
      "execution_count": null,
      "outputs": [
        {
          "output_type": "stream",
          "name": "stdout",
          "text": [
            "Introduce el valor de a: 1\n",
            "Introduce el valor de b: 2\n",
            "Introduce el valor de c: 5\n",
            "Las raíces son complejas:\n",
            "-1.0 + 2.0i\n",
            "-1.0 - 2.0i\n"
          ]
        }
      ]
    },
    {
      "cell_type": "code",
      "execution_count": null,
      "metadata": {
        "colab": {
          "base_uri": "https://localhost:8080/",
          "height": 149
        },
        "id": "69pRb4-X8mRV",
        "outputId": "76339bad-caa5-4075-9d83-bf0cd9dc5a42"
      },
      "outputs": [
        {
          "name": "stdout",
          "output_type": "stream",
          "text": [
            "Introduce el valor de a: 1\n",
            "Introduce el valor de b: 2\n",
            "Introduce el valor de c: 4\n"
          ]
        },
        {
          "output_type": "display_data",
          "data": {
            "text/plain": [
              "<IPython.core.display.Math object>"
            ],
            "text/latex": "$\\displaystyle x_1 = \\frac{{-b}}{{2a}} + \\frac{{\\sqrt{{4ac - b^2}}}}{{2a}} i = -1.0 + 1.7320508075688772i$"
          },
          "metadata": {}
        },
        {
          "output_type": "display_data",
          "data": {
            "text/plain": [
              "<IPython.core.display.Math object>"
            ],
            "text/latex": "$\\displaystyle x_2 = \\frac{{-b}}{{2a}} - 3\\frac{{\\sqrt{{4ac - b^2}}}}{{2a}} i = -1.0 - 1.7320508075688772i$"
          },
          "metadata": {}
        }
      ],
      "source": [
        "# Código en Python\n",
        "import numpy as np\n",
        "from IPython.display import display, Math\n",
        "\n",
        "def calcular_raices(a, b, c):\n",
        "    discriminante = b**2 - 4*a*c\n",
        "\n",
        "    if discriminante > 0:\n",
        "        # Raíces reales y diferentes\n",
        "        raiz1 = (-b + np.sqrt(discriminante)) / (2*a)\n",
        "        raiz2 = (-b - np.sqrt(discriminante)) / (2*a)\n",
        "        display(Math(r'x_1 = \\frac{{-b + \\sqrt{{b^2 - 4ac}}}}{{2a}} = ' + str(raiz1)))\n",
        "        display(Math(r'x_2 = \\frac{{-b - \\sqrt{{b^2 - 4ac}}}}{{2a}} = ' + str(raiz2)))\n",
        "    elif discriminante == 0:\n",
        "        # Raíces reales e iguales\n",
        "        raiz1 = -b / (2*a)\n",
        "        display(Math(r'x = \\frac{{-b}}{{2a}} = ' + str(raiz1)))\n",
        "    else:\n",
        "        # Raíces complejas\n",
        "        parte_real = -b / (2*a)\n",
        "        parte_imaginaria = np.sqrt(-discriminante) / (2*a)\n",
        "        display(Math(r'x_1 = \\frac{{-b}}{{2a}} + \\frac{{\\sqrt{{4ac - b^2}}}}{{2a}} i = ' +\n",
        "                    str(parte_real) + ' + ' + str(parte_imaginaria) + 'i'))\n",
        "        display(Math(r'x_2 = \\frac{{-b}}{{2a}} - 323\\frac{{\\sqrt{{4ac - b^2}}}}{{2a}} i = ' +\n",
        "                    str(parte_real) + ' - ' + str(parte_imaginaria) + 'i'))\n",
        "\n",
        "# Ejemplo de uso interactivo\n",
        "a = float(input(\"Introduce el valor de a: \"))\n",
        "b = float(input(\"Introduce el valor de b: \"))\n",
        "c = float(input(\"Introduce el valor de c: \"))\n",
        "\n",
        "calcular_raices(a, b, c)\n",
        "\n",
        "# Ejemplos comentados para verificar los tres casos\n",
        "\n",
        "# Caso 1: Raíces reales y diferentes\n",
        "# a = 1, b = -3, c = 2 (raices: x1 = 2, x2 = 1)\n",
        "# calcular_raices(1, -3, 2)\n",
        "\n",
        "# Caso 2: Raíces reales e iguales\n",
        "# a = 1, b = -2, c = 1 (raiz: x = 1)\n",
        "# calcular_raices(1, -2, 1)\n",
        "\n",
        "# Caso 3: Raíces complejas\n",
        "# a = 1, b = 2, c = 5 (raices: x1 = -1 + 2i, x2 = -1 - 2i)\n",
        "# calcular_raices(1, 2, 5)\n",
        "\n"
      ]
    },
    {
      "cell_type": "markdown",
      "source": [
        "## **3. Conclusión**\n",
        "\n",
        "Las estructuras condicionales compuestas y anidadas permiten que nuestros programas tomen decisiones basadas en múltiples condiciones. Dominar estas estructuras nos permitirá crear programas más útiles.\n"
      ],
      "metadata": {
        "id": "PtdksE_xSJ2p"
      }
    },
    {
      "cell_type": "markdown",
      "source": [
        "## **Ejercicios propuestos**\n",
        "\n",
        "1. Crea un programa que determine la etapa de la vida de una persona basada en su edad (niño, adolescente, adulto, adulto mayor).\n",
        "2. Implementa un programa que calcule el índice de masa corporal (IMC) de una persona y clasifique su estado (bajo peso, normal, sobrepeso, obeso).\n",
        "3. Desarrolla un programa que convierta una calificación numérica a una calificación en letra (A, B, C, D, F)."
      ],
      "metadata": {
        "id": "UfVO3wzXSyOi"
      }
    },
    {
      "cell_type": "markdown",
      "source": [
        "### **Soluciones a los ejercicios**"
      ],
      "metadata": {
        "id": "qV8RLirPS8VT"
      }
    },
    {
      "cell_type": "code",
      "source": [
        "# Ejercicio 1: Determinar la etapa de la vida\n",
        "\n",
        "def etapa_vida():\n",
        "    edad = int(input(\"Ingrese su edad: \"))\n",
        "\n",
        "    if edad < 13:\n",
        "        print(\"Usted es un niño.\")\n",
        "    elif edad < 18:\n",
        "        print(\"Usted es un adolescente.\")\n",
        "    elif edad < 65:\n",
        "        print(\"Usted es un adulto.\")\n",
        "    else:\n",
        "        print(\"Usted es un adulto mayor.\")\n",
        "\n",
        "etapa_vida()"
      ],
      "metadata": {
        "colab": {
          "base_uri": "https://localhost:8080/"
        },
        "id": "lAthuYfdS4-I",
        "outputId": "6b53cb3c-145f-450c-f1b7-75d7e6468509"
      },
      "execution_count": null,
      "outputs": [
        {
          "output_type": "stream",
          "name": "stdout",
          "text": [
            "Ingrese su edad: 12\n",
            "Usted es un niño.\n"
          ]
        }
      ]
    },
    {
      "cell_type": "code",
      "source": [
        "# Ejercicio 2: Calcular y clasificar el IMC\n",
        "\n",
        "def calcular_imc():\n",
        "    peso = float(input(\"Ingrese su peso en kg: \"))\n",
        "    altura = float(input(\"Ingrese su altura en metros: \"))\n",
        "\n",
        "    imc = peso / (altura ** 2)\n",
        "\n",
        "    if imc < 18.5:\n",
        "        estado = \"bajo peso\"\n",
        "    elif imc < 25:\n",
        "        estado = \"peso normal\"\n",
        "    elif imc < 30:\n",
        "        estado = \"sobrepeso\"\n",
        "    else:\n",
        "        estado = \"obesidad\"\n",
        "\n",
        "    print(f\"Su IMC es {imc:.2f} y se clasifica como: {estado}\")\n",
        "\n",
        "calcular_imc()"
      ],
      "metadata": {
        "colab": {
          "base_uri": "https://localhost:8080/"
        },
        "id": "u__SgcINTXhB",
        "outputId": "849ecb46-4418-4b34-bee8-5c467e2a7d08"
      },
      "execution_count": null,
      "outputs": [
        {
          "output_type": "stream",
          "name": "stdout",
          "text": [
            "Ingrese su peso en kg: 99\n",
            "Ingrese su altura en metros: 1.87\n",
            "Su IMC es 28.31 y se clasifica como: sobrepeso\n"
          ]
        }
      ]
    },
    {
      "cell_type": "code",
      "source": [
        "# Ejercicio 3: Convertir calificación numérica a letra\n",
        "\n",
        "def calificacion_letra():\n",
        "    nota = float(input(\"Ingrese la calificación numérica (0-100): \"))\n",
        "\n",
        "    if nota >= 90:\n",
        "        letra = \"A\"\n",
        "    elif nota >= 80:\n",
        "        letra = \"B\"\n",
        "    elif nota >= 70:\n",
        "        letra = \"C\"\n",
        "    elif nota >= 60:\n",
        "        letra = \"D\"\n",
        "    else:\n",
        "        letra = \"F\"\n",
        "\n",
        "    print(f\"La calificación {nota} corresponde a una {letra}\")\n",
        "\n",
        "calificacion_letra()"
      ],
      "metadata": {
        "colab": {
          "base_uri": "https://localhost:8080/"
        },
        "id": "hbLuha7QTm6b",
        "outputId": "08402a55-d8b9-4ab1-fa3a-fb3331b8a72b"
      },
      "execution_count": null,
      "outputs": [
        {
          "output_type": "stream",
          "name": "stdout",
          "text": [
            "Ingrese la calificación numérica (0-100): 98\n",
            "La calificación 98.0 corresponde a una A\n"
          ]
        }
      ]
    },
    {
      "cell_type": "markdown",
      "source": [
        "## **Licencias**\n",
        "\n",
        "Al utilizar este material, acepto cumplir con los términos de las licencias MIT y Creative Commons BY 4.0 respectivamente.\n",
        "\n",
        "Para más detalles sobre las licencias o usos adicionales, consultar:\n",
        "- Licencia MIT: https://opensource.org/licenses/MIT\n",
        "- CC BY 4.0: https://creativecommons.org/licenses/by/4.0/deed.es"
      ],
      "metadata": {
        "id": "jXUZhsF3867Q"
      }
    }
  ]
}